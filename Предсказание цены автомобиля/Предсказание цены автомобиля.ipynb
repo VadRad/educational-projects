{
 "cells": [
  {
   "cell_type": "markdown",
   "metadata": {},
   "source": [
    "# Предсказание цены автомобиля"
   ]
  },
  {
   "cell_type": "markdown",
   "metadata": {},
   "source": [
    "Сервис по продаже автомобилей с пробегом  разрабатывает приложение с помощью которого можно быстро узнать стоимость автомобиля. На основании исторических данных, включающих в себя кат технические характеристики, комплектации и цены автомобилей. Вам нужно построить модель для определения стоимости. \n",
    "\n",
    "Заказчику важны:\n",
    "\n",
    "- качество предсказания;\n",
    "- скорость предсказания;\n",
    "- время обучения."
   ]
  },
  {
   "cell_type": "markdown",
   "metadata": {},
   "source": [
    "# 1. Подготовка данных"
   ]
  },
  {
   "cell_type": "markdown",
   "metadata": {},
   "source": [
    "Импортируем необходимые библиотеки"
   ]
  },
  {
   "cell_type": "code",
   "execution_count": 1,
   "metadata": {},
   "outputs": [],
   "source": [
    "import pandas as pd\n",
    "import numpy as np\n",
    "\n",
    "import matplotlib.pyplot as plt\n",
    "import seaborn as sns\n",
    "from sklearn.preprocessing import StandardScaler, OneHotEncoder, LabelEncoder\n",
    "from sklearn.ensemble import RandomForestRegressor\n",
    "from sklearn.tree import DecisionTreeRegressor\n",
    "from sklearn.model_selection import train_test_split, GridSearchCV, RandomizedSearchCV\n",
    "from sklearn.metrics import mean_squared_error\n",
    "\n",
    "import lightgbm\n",
    "from catboost import Pool, cv, CatBoostRegressor"
   ]
  },
  {
   "cell_type": "code",
   "execution_count": 2,
   "metadata": {},
   "outputs": [],
   "source": [
    "plt.rcParams['figure.figsize'] = (20.0, 10.0)"
   ]
  },
  {
   "cell_type": "markdown",
   "metadata": {},
   "source": [
    "Загрузим датасет с автомобилями и взглянем на него."
   ]
  },
  {
   "cell_type": "code",
   "execution_count": 3,
   "metadata": {},
   "outputs": [],
   "source": [
    "used_car_df = pd.read_csv('/datasets/autos.csv')"
   ]
  },
  {
   "cell_type": "code",
   "execution_count": 4,
   "metadata": {},
   "outputs": [
    {
     "data": {
      "text/html": [
       "<div>\n",
       "<style scoped>\n",
       "    .dataframe tbody tr th:only-of-type {\n",
       "        vertical-align: middle;\n",
       "    }\n",
       "\n",
       "    .dataframe tbody tr th {\n",
       "        vertical-align: top;\n",
       "    }\n",
       "\n",
       "    .dataframe thead th {\n",
       "        text-align: right;\n",
       "    }\n",
       "</style>\n",
       "<table border=\"1\" class=\"dataframe\">\n",
       "  <thead>\n",
       "    <tr style=\"text-align: right;\">\n",
       "      <th></th>\n",
       "      <th>DateCrawled</th>\n",
       "      <th>Price</th>\n",
       "      <th>VehicleType</th>\n",
       "      <th>RegistrationYear</th>\n",
       "      <th>Gearbox</th>\n",
       "      <th>Power</th>\n",
       "      <th>Model</th>\n",
       "      <th>Kilometer</th>\n",
       "      <th>RegistrationMonth</th>\n",
       "      <th>FuelType</th>\n",
       "      <th>Brand</th>\n",
       "      <th>NotRepaired</th>\n",
       "      <th>DateCreated</th>\n",
       "      <th>NumberOfPictures</th>\n",
       "      <th>PostalCode</th>\n",
       "      <th>LastSeen</th>\n",
       "    </tr>\n",
       "  </thead>\n",
       "  <tbody>\n",
       "    <tr>\n",
       "      <td>0</td>\n",
       "      <td>2016-03-24 11:52:17</td>\n",
       "      <td>480</td>\n",
       "      <td>NaN</td>\n",
       "      <td>1993</td>\n",
       "      <td>manual</td>\n",
       "      <td>0</td>\n",
       "      <td>golf</td>\n",
       "      <td>150000</td>\n",
       "      <td>0</td>\n",
       "      <td>petrol</td>\n",
       "      <td>volkswagen</td>\n",
       "      <td>NaN</td>\n",
       "      <td>2016-03-24 00:00:00</td>\n",
       "      <td>0</td>\n",
       "      <td>70435</td>\n",
       "      <td>2016-04-07 03:16:57</td>\n",
       "    </tr>\n",
       "    <tr>\n",
       "      <td>1</td>\n",
       "      <td>2016-03-24 10:58:45</td>\n",
       "      <td>18300</td>\n",
       "      <td>coupe</td>\n",
       "      <td>2011</td>\n",
       "      <td>manual</td>\n",
       "      <td>190</td>\n",
       "      <td>NaN</td>\n",
       "      <td>125000</td>\n",
       "      <td>5</td>\n",
       "      <td>gasoline</td>\n",
       "      <td>audi</td>\n",
       "      <td>yes</td>\n",
       "      <td>2016-03-24 00:00:00</td>\n",
       "      <td>0</td>\n",
       "      <td>66954</td>\n",
       "      <td>2016-04-07 01:46:50</td>\n",
       "    </tr>\n",
       "    <tr>\n",
       "      <td>2</td>\n",
       "      <td>2016-03-14 12:52:21</td>\n",
       "      <td>9800</td>\n",
       "      <td>suv</td>\n",
       "      <td>2004</td>\n",
       "      <td>auto</td>\n",
       "      <td>163</td>\n",
       "      <td>grand</td>\n",
       "      <td>125000</td>\n",
       "      <td>8</td>\n",
       "      <td>gasoline</td>\n",
       "      <td>jeep</td>\n",
       "      <td>NaN</td>\n",
       "      <td>2016-03-14 00:00:00</td>\n",
       "      <td>0</td>\n",
       "      <td>90480</td>\n",
       "      <td>2016-04-05 12:47:46</td>\n",
       "    </tr>\n",
       "    <tr>\n",
       "      <td>3</td>\n",
       "      <td>2016-03-17 16:54:04</td>\n",
       "      <td>1500</td>\n",
       "      <td>small</td>\n",
       "      <td>2001</td>\n",
       "      <td>manual</td>\n",
       "      <td>75</td>\n",
       "      <td>golf</td>\n",
       "      <td>150000</td>\n",
       "      <td>6</td>\n",
       "      <td>petrol</td>\n",
       "      <td>volkswagen</td>\n",
       "      <td>no</td>\n",
       "      <td>2016-03-17 00:00:00</td>\n",
       "      <td>0</td>\n",
       "      <td>91074</td>\n",
       "      <td>2016-03-17 17:40:17</td>\n",
       "    </tr>\n",
       "    <tr>\n",
       "      <td>4</td>\n",
       "      <td>2016-03-31 17:25:20</td>\n",
       "      <td>3600</td>\n",
       "      <td>small</td>\n",
       "      <td>2008</td>\n",
       "      <td>manual</td>\n",
       "      <td>69</td>\n",
       "      <td>fabia</td>\n",
       "      <td>90000</td>\n",
       "      <td>7</td>\n",
       "      <td>gasoline</td>\n",
       "      <td>skoda</td>\n",
       "      <td>no</td>\n",
       "      <td>2016-03-31 00:00:00</td>\n",
       "      <td>0</td>\n",
       "      <td>60437</td>\n",
       "      <td>2016-04-06 10:17:21</td>\n",
       "    </tr>\n",
       "  </tbody>\n",
       "</table>\n",
       "</div>"
      ],
      "text/plain": [
       "           DateCrawled  Price VehicleType  RegistrationYear Gearbox  Power  \\\n",
       "0  2016-03-24 11:52:17    480         NaN              1993  manual      0   \n",
       "1  2016-03-24 10:58:45  18300       coupe              2011  manual    190   \n",
       "2  2016-03-14 12:52:21   9800         suv              2004    auto    163   \n",
       "3  2016-03-17 16:54:04   1500       small              2001  manual     75   \n",
       "4  2016-03-31 17:25:20   3600       small              2008  manual     69   \n",
       "\n",
       "   Model  Kilometer  RegistrationMonth  FuelType       Brand NotRepaired  \\\n",
       "0   golf     150000                  0    petrol  volkswagen         NaN   \n",
       "1    NaN     125000                  5  gasoline        audi         yes   \n",
       "2  grand     125000                  8  gasoline        jeep         NaN   \n",
       "3   golf     150000                  6    petrol  volkswagen          no   \n",
       "4  fabia      90000                  7  gasoline       skoda          no   \n",
       "\n",
       "           DateCreated  NumberOfPictures  PostalCode             LastSeen  \n",
       "0  2016-03-24 00:00:00                 0       70435  2016-04-07 03:16:57  \n",
       "1  2016-03-24 00:00:00                 0       66954  2016-04-07 01:46:50  \n",
       "2  2016-03-14 00:00:00                 0       90480  2016-04-05 12:47:46  \n",
       "3  2016-03-17 00:00:00                 0       91074  2016-03-17 17:40:17  \n",
       "4  2016-03-31 00:00:00                 0       60437  2016-04-06 10:17:21  "
      ]
     },
     "execution_count": 4,
     "metadata": {},
     "output_type": "execute_result"
    }
   ],
   "source": [
    "used_car_df.head(5)"
   ]
  },
  {
   "cell_type": "code",
   "execution_count": 5,
   "metadata": {},
   "outputs": [
    {
     "name": "stdout",
     "output_type": "stream",
     "text": [
      "<class 'pandas.core.frame.DataFrame'>\n",
      "RangeIndex: 354369 entries, 0 to 354368\n",
      "Data columns (total 16 columns):\n",
      "DateCrawled          354369 non-null object\n",
      "Price                354369 non-null int64\n",
      "VehicleType          316879 non-null object\n",
      "RegistrationYear     354369 non-null int64\n",
      "Gearbox              334536 non-null object\n",
      "Power                354369 non-null int64\n",
      "Model                334664 non-null object\n",
      "Kilometer            354369 non-null int64\n",
      "RegistrationMonth    354369 non-null int64\n",
      "FuelType             321474 non-null object\n",
      "Brand                354369 non-null object\n",
      "NotRepaired          283215 non-null object\n",
      "DateCreated          354369 non-null object\n",
      "NumberOfPictures     354369 non-null int64\n",
      "PostalCode           354369 non-null int64\n",
      "LastSeen             354369 non-null object\n",
      "dtypes: int64(7), object(9)\n",
      "memory usage: 43.3+ MB\n"
     ]
    }
   ],
   "source": [
    "used_car_df.info()"
   ]
  },
  {
   "cell_type": "code",
   "execution_count": 6,
   "metadata": {},
   "outputs": [],
   "source": [
    "used_car_df.drop_duplicates(inplace=True)"
   ]
  },
  {
   "cell_type": "code",
   "execution_count": 7,
   "metadata": {},
   "outputs": [
    {
     "data": {
      "text/plain": [
       "DateCrawled              0\n",
       "Price                    0\n",
       "VehicleType          37490\n",
       "RegistrationYear         0\n",
       "Gearbox              19833\n",
       "Power                    0\n",
       "Model                19705\n",
       "Kilometer                0\n",
       "RegistrationMonth        0\n",
       "FuelType             32895\n",
       "Brand                    0\n",
       "NotRepaired          71154\n",
       "DateCreated              0\n",
       "NumberOfPictures         0\n",
       "PostalCode               0\n",
       "LastSeen                 0\n",
       "dtype: int64"
      ]
     },
     "execution_count": 7,
     "metadata": {},
     "output_type": "execute_result"
    }
   ],
   "source": [
    "used_car_df.isnull().sum()"
   ]
  },
  {
   "cell_type": "markdown",
   "metadata": {},
   "source": [
    "В данных имеются пропуски в столбцах VehicleType (37490 пропуска), Gearbox (19833 пропуска), Model (19705 пропусков), FuelType (32895 пропусков), NotRepaired (71154 пропусков). Все эти признаки - категориальные, при этом многие из них вероятно важны для определения стоимости машины. Поэтому имеет смысл выделить для значений с пропусками отдельную категорию. (ведь машину с не указанным типом коробки передач, например, вероятнее всего будут реже смотреть, от чего упадет и её стоимость).\n",
    "Пропуски в этих признаках заполним значением not-declared"
   ]
  },
  {
   "cell_type": "code",
   "execution_count": 8,
   "metadata": {},
   "outputs": [],
   "source": [
    "used_car_df['NotRepaired'].fillna(value='not-declared', inplace=True)\n",
    "used_car_df['FuelType'].fillna(value='not-declared', inplace=True)\n",
    "used_car_df['Gearbox'].fillna(value='not-declared', inplace=True)\n",
    "used_car_df['VehicleType'].fillna(value='not-declared', inplace=True)\n",
    "used_car_df['Model'].fillna(value='not-declared', inplace=True)"
   ]
  },
  {
   "cell_type": "markdown",
   "metadata": {},
   "source": [
    "Посмотрим так же на матрицу корреляции численных признаков. "
   ]
  },
  {
   "cell_type": "code",
   "execution_count": 9,
   "metadata": {},
   "outputs": [
    {
     "data": {
      "image/png": "[encoded data removed]",
      "text/plain": [
       "<Figure size 1440x720 with 2 Axes>"
      ]
     },
     "metadata": {
      "needs_background": "light"
     },
     "output_type": "display_data"
    }
   ],
   "source": [
    "sns.heatmap(used_car_df.corr());"
   ]
  },
  {
   "cell_type": "markdown",
   "metadata": {},
   "source": [
    "Можно увидеть явную обратную корреляцию между ценой и количеством киллометров. Очевидно, что чем больше проехал автомобиль тем дешевле он продается."
   ]
  },
  {
   "cell_type": "markdown",
   "metadata": {},
   "source": [
    "Многие другие признаки не имеют явной связи с ценой автомобиля и не несут нужной нам информации. Их стоит просто удалить. Уберем столбцы DateCrawled, RegistrationMonth, DateCreated, PostalCod и LastSeen."
   ]
  },
  {
   "cell_type": "code",
   "execution_count": 10,
   "metadata": {},
   "outputs": [],
   "source": [
    "used_car_df.drop(['DateCrawled', 'RegistrationMonth', 'DateCreated', 'PostalCode', 'LastSeen', 'NumberOfPictures'], axis='columns', inplace=True)"
   ]
  },
  {
   "cell_type": "code",
   "execution_count": 11,
   "metadata": {},
   "outputs": [
    {
     "data": {
      "text/plain": [
       "Index(['Price', 'VehicleType', 'RegistrationYear', 'Gearbox', 'Power', 'Model',\n",
       "       'Kilometer', 'FuelType', 'Brand', 'NotRepaired'],\n",
       "      dtype='object')"
      ]
     },
     "execution_count": 11,
     "metadata": {},
     "output_type": "execute_result"
    }
   ],
   "source": [
    "used_car_df.columns"
   ]
  },
  {
   "cell_type": "code",
   "execution_count": 12,
   "metadata": {},
   "outputs": [
    {
     "name": "stdout",
     "output_type": "stream",
     "text": [
      "<class 'pandas.core.frame.DataFrame'>\n",
      "Int64Index: 354365 entries, 0 to 354368\n",
      "Data columns (total 10 columns):\n",
      "Price               354365 non-null int64\n",
      "VehicleType         354365 non-null object\n",
      "RegistrationYear    354365 non-null int64\n",
      "Gearbox             354365 non-null object\n",
      "Power               354365 non-null int64\n",
      "Model               354365 non-null object\n",
      "Kilometer           354365 non-null int64\n",
      "FuelType            354365 non-null object\n",
      "Brand               354365 non-null object\n",
      "NotRepaired         354365 non-null object\n",
      "dtypes: int64(4), object(6)\n",
      "memory usage: 29.7+ MB\n"
     ]
    }
   ],
   "source": [
    "used_car_df.info()"
   ]
  },
  {
   "cell_type": "markdown",
   "metadata": {},
   "source": [
    "Посмотрим теперь как распределены категориальные признаки. "
   ]
  },
  {
   "cell_type": "code",
   "execution_count": 13,
   "metadata": {},
   "outputs": [
    {
     "name": "stdout",
     "output_type": "stream",
     "text": [
      "manual          268249\n",
      "auto             66283\n",
      "not-declared     19833\n",
      "Name: Gearbox, dtype: int64\n"
     ]
    },
    {
     "data": {
      "image/png": "[encoded data removed]",
      "text/plain": [
       "<Figure size 1440x720 with 1 Axes>"
      ]
     },
     "metadata": {
      "needs_background": "light"
     },
     "output_type": "display_data"
    }
   ],
   "source": [
    "print(used_car_df['Gearbox'].value_counts())\n",
    "sns.countplot(used_car_df['Gearbox']);"
   ]
  },
  {
   "cell_type": "markdown",
   "metadata": {},
   "source": [
    "Большая часть машин продается с ручной коробкой передач (что вероятнее всего показывает, что данные исторические)."
   ]
  },
  {
   "cell_type": "code",
   "execution_count": 14,
   "metadata": {},
   "outputs": [
    {
     "name": "stdout",
     "output_type": "stream",
     "text": [
      "golf                  29232\n",
      "other                 24420\n",
      "3er                   19761\n",
      "not-declared          19705\n",
      "polo                  13066\n",
      "                      ...  \n",
      "i3                        8\n",
      "serie_3                   4\n",
      "rangerover                4\n",
      "serie_1                   2\n",
      "range_rover_evoque        2\n",
      "Name: Model, Length: 251, dtype: int64\n"
     ]
    },
    {
     "data": {
      "image/png": "[encoded data removed]",
      "text/plain": [
       "<Figure size 1440x720 with 1 Axes>"
      ]
     },
     "metadata": {
      "needs_background": "light"
     },
     "output_type": "display_data"
    }
   ],
   "source": [
    "print(used_car_df['Model'].value_counts())\n",
    "sns.countplot(used_car_df['Model'], order = used_car_df['Model'].value_counts().iloc[:10].index);"
   ]
  },
  {
   "cell_type": "markdown",
   "metadata": {},
   "source": [
    "Самая продаваемая подержанная машина - volkswagen golf (и это вполне соответствует действительности)."
   ]
  },
  {
   "cell_type": "code",
   "execution_count": 15,
   "metadata": {},
   "outputs": [
    {
     "name": "stdout",
     "output_type": "stream",
     "text": [
      "volkswagen        77012\n",
      "opel              39931\n",
      "bmw               36914\n",
      "mercedes_benz     32044\n",
      "audi              29456\n",
      "ford              25179\n",
      "renault           17927\n",
      "peugeot           10998\n",
      "fiat               9643\n",
      "seat               6907\n",
      "mazda              5615\n",
      "skoda              5500\n",
      "smart              5246\n",
      "citroen            5148\n",
      "nissan             4941\n",
      "toyota             4606\n",
      "hyundai            3587\n",
      "sonstige_autos     3374\n",
      "volvo              3210\n",
      "mini               3202\n",
      "mitsubishi         3022\n",
      "honda              2817\n",
      "kia                2465\n",
      "suzuki             2322\n",
      "alfa_romeo         2314\n",
      "chevrolet          1754\n",
      "chrysler           1439\n",
      "dacia               900\n",
      "daihatsu            806\n",
      "subaru              762\n",
      "porsche             758\n",
      "jeep                677\n",
      "trabant             589\n",
      "land_rover          545\n",
      "daewoo              542\n",
      "saab                526\n",
      "jaguar              505\n",
      "rover               486\n",
      "lancia              471\n",
      "lada                225\n",
      "Name: Brand, dtype: int64\n"
     ]
    },
    {
     "data": {
      "image/png": "[encoded data removed]",
      "text/plain": [
       "<Figure size 1440x720 with 1 Axes>"
      ]
     },
     "metadata": {
      "needs_background": "light"
     },
     "output_type": "display_data"
    }
   ],
   "source": [
    "print(used_car_df['Brand'].value_counts())\n",
    "sns.countplot(used_car_df['Brand'], order = used_car_df['Brand'].value_counts().iloc[:10].index);"
   ]
  },
  {
   "cell_type": "markdown",
   "metadata": {},
   "source": [
    "Самый популярный бренд - все так же volkswagen."
   ]
  },
  {
   "cell_type": "code",
   "execution_count": 16,
   "metadata": {},
   "outputs": [
    {
     "name": "stdout",
     "output_type": "stream",
     "text": [
      "sedan           91457\n",
      "small           79830\n",
      "wagon           65165\n",
      "not-declared    37490\n",
      "bus             28775\n",
      "convertible     20203\n",
      "coupe           16161\n",
      "suv             11996\n",
      "other            3288\n",
      "Name: VehicleType, dtype: int64\n"
     ]
    },
    {
     "data": {
      "image/png": "[encoded data removed]",
      "text/plain": [
       "<Figure size 1440x720 with 1 Axes>"
      ]
     },
     "metadata": {
      "needs_background": "light"
     },
     "output_type": "display_data"
    }
   ],
   "source": [
    "print(used_car_df['VehicleType'].value_counts())\n",
    "sns.countplot(used_car_df['VehicleType'], order = used_car_df['VehicleType'].value_counts().index);"
   ]
  },
  {
   "cell_type": "markdown",
   "metadata": {},
   "source": [
    "Судя по этим данным в мире продается достаточно много автобусов! Ну а самыми популярными классами автомобилей являются седаны и небольшие машины."
   ]
  },
  {
   "cell_type": "code",
   "execution_count": 17,
   "metadata": {
    "scrolled": true
   },
   "outputs": [
    {
     "name": "stdout",
     "output_type": "stream",
     "text": [
      "no              247158\n",
      "not-declared     71154\n",
      "yes              36053\n",
      "Name: NotRepaired, dtype: int64\n"
     ]
    },
    {
     "data": {
      "image/png": "[encoded data removed]",
      "text/plain": [
       "<Figure size 1440x720 with 1 Axes>"
      ]
     },
     "metadata": {
      "needs_background": "light"
     },
     "output_type": "display_data"
    }
   ],
   "source": [
    "print(used_car_df['NotRepaired'].value_counts())\n",
    "sns.countplot(used_car_df['NotRepaired'], order = used_car_df['NotRepaired'].value_counts().index);"
   ]
  },
  {
   "cell_type": "markdown",
   "metadata": {},
   "source": [
    "Целых машин значительно больше, чем битых (и вполне возможно что продавцы не указавшие ничего в этом поле просто не признаются...)"
   ]
  },
  {
   "cell_type": "code",
   "execution_count": 18,
   "metadata": {},
   "outputs": [
    {
     "name": "stdout",
     "output_type": "stream",
     "text": [
      "petrol          216349\n",
      "gasoline         98719\n",
      "not-declared     32895\n",
      "lpg               5310\n",
      "cng                565\n",
      "hybrid             233\n",
      "other              204\n",
      "electric            90\n",
      "Name: FuelType, dtype: int64\n"
     ]
    },
    {
     "data": {
      "image/png": "[encoded data removed]",
      "text/plain": [
       "<Figure size 1440x720 with 1 Axes>"
      ]
     },
     "metadata": {
      "needs_background": "light"
     },
     "output_type": "display_data"
    }
   ],
   "source": [
    "print(used_car_df['FuelType'].value_counts())\n",
    "sns.countplot(used_car_df['FuelType'], order = used_car_df['FuelType'].value_counts().index);"
   ]
  },
  {
   "cell_type": "markdown",
   "metadata": {},
   "source": [
    "С типом топлива несколько интереснее. Дело в том, что и petrol и gasoline обозначают ровным счетом одно и то же топливо, которое у нас называют бензином. Их следовало бы объединить в одну категорию, однако в данных нет ни одной машины на дизеле, что очень странно, и вполне возможно что тут просто ошибка в названии категорий. Поэтому пока трогать их не будем. "
   ]
  },
  {
   "cell_type": "markdown",
   "metadata": {},
   "source": [
    "___"
   ]
  },
  {
   "cell_type": "markdown",
   "metadata": {},
   "source": [
    "Исследуем так же категориальные признаки. К ним относятся RegistrationYear, Power и Kilometer."
   ]
  },
  {
   "cell_type": "code",
   "execution_count": 19,
   "metadata": {},
   "outputs": [
    {
     "data": {
      "text/html": [
       "<div>\n",
       "<style scoped>\n",
       "    .dataframe tbody tr th:only-of-type {\n",
       "        vertical-align: middle;\n",
       "    }\n",
       "\n",
       "    .dataframe tbody tr th {\n",
       "        vertical-align: top;\n",
       "    }\n",
       "\n",
       "    .dataframe thead th {\n",
       "        text-align: right;\n",
       "    }\n",
       "</style>\n",
       "<table border=\"1\" class=\"dataframe\">\n",
       "  <thead>\n",
       "    <tr style=\"text-align: right;\">\n",
       "      <th></th>\n",
       "      <th>Price</th>\n",
       "      <th>RegistrationYear</th>\n",
       "      <th>Power</th>\n",
       "      <th>Kilometer</th>\n",
       "    </tr>\n",
       "  </thead>\n",
       "  <tbody>\n",
       "    <tr>\n",
       "      <td>count</td>\n",
       "      <td>354365.000000</td>\n",
       "      <td>354365.000000</td>\n",
       "      <td>354365.000000</td>\n",
       "      <td>354365.000000</td>\n",
       "    </tr>\n",
       "    <tr>\n",
       "      <td>mean</td>\n",
       "      <td>4416.679830</td>\n",
       "      <td>2004.234481</td>\n",
       "      <td>110.093816</td>\n",
       "      <td>128211.363989</td>\n",
       "    </tr>\n",
       "    <tr>\n",
       "      <td>std</td>\n",
       "      <td>4514.176349</td>\n",
       "      <td>90.228466</td>\n",
       "      <td>189.851330</td>\n",
       "      <td>37905.083858</td>\n",
       "    </tr>\n",
       "    <tr>\n",
       "      <td>min</td>\n",
       "      <td>0.000000</td>\n",
       "      <td>1000.000000</td>\n",
       "      <td>0.000000</td>\n",
       "      <td>5000.000000</td>\n",
       "    </tr>\n",
       "    <tr>\n",
       "      <td>25%</td>\n",
       "      <td>1050.000000</td>\n",
       "      <td>1999.000000</td>\n",
       "      <td>69.000000</td>\n",
       "      <td>125000.000000</td>\n",
       "    </tr>\n",
       "    <tr>\n",
       "      <td>50%</td>\n",
       "      <td>2700.000000</td>\n",
       "      <td>2003.000000</td>\n",
       "      <td>105.000000</td>\n",
       "      <td>150000.000000</td>\n",
       "    </tr>\n",
       "    <tr>\n",
       "      <td>75%</td>\n",
       "      <td>6400.000000</td>\n",
       "      <td>2008.000000</td>\n",
       "      <td>143.000000</td>\n",
       "      <td>150000.000000</td>\n",
       "    </tr>\n",
       "    <tr>\n",
       "      <td>max</td>\n",
       "      <td>20000.000000</td>\n",
       "      <td>9999.000000</td>\n",
       "      <td>20000.000000</td>\n",
       "      <td>150000.000000</td>\n",
       "    </tr>\n",
       "  </tbody>\n",
       "</table>\n",
       "</div>"
      ],
      "text/plain": [
       "               Price  RegistrationYear          Power      Kilometer\n",
       "count  354365.000000     354365.000000  354365.000000  354365.000000\n",
       "mean     4416.679830       2004.234481     110.093816  128211.363989\n",
       "std      4514.176349         90.228466     189.851330   37905.083858\n",
       "min         0.000000       1000.000000       0.000000    5000.000000\n",
       "25%      1050.000000       1999.000000      69.000000  125000.000000\n",
       "50%      2700.000000       2003.000000     105.000000  150000.000000\n",
       "75%      6400.000000       2008.000000     143.000000  150000.000000\n",
       "max     20000.000000       9999.000000   20000.000000  150000.000000"
      ]
     },
     "execution_count": 19,
     "metadata": {},
     "output_type": "execute_result"
    }
   ],
   "source": [
    "used_car_df.describe()"
   ]
  },
  {
   "cell_type": "markdown",
   "metadata": {},
   "source": [
    "В данных имеются очевиднейшие выбросы, например год регистрации больше нынешнего. Используя в первую очередь здравый смысл удалим из рассмотрения те записи, значения которых мало соответствуют реальности. Удалим Записи об автомобилях старше 1960 и моложе 2020 года (зарагестрировать машину в будущем вряд ли возможно, а слишком старые автомобили явно относятся к раритетам и обладают своими особенностями предсказаня цены, что для нас будет проблемой). Так же уберем автомобили дешевле 100 долларов (это явно выбросы, и причина по которой автомобили отдают чуть ли не бесплатно тоже нас не интересует). Так же удалим автомобили со слишком большой и слишком маленькой мощностью. К размером пробега на первый взгляд проблем нет."
   ]
  },
  {
   "cell_type": "code",
   "execution_count": 20,
   "metadata": {},
   "outputs": [
    {
     "data": {
      "text/plain": [
       "354365"
      ]
     },
     "execution_count": 20,
     "metadata": {},
     "output_type": "execute_result"
    }
   ],
   "source": [
    "len(used_car_df)"
   ]
  },
  {
   "cell_type": "code",
   "execution_count": 21,
   "metadata": {},
   "outputs": [],
   "source": [
    "used_car_df = used_car_df[\n",
    "        (used_car_df['RegistrationYear'] <= 2020) \n",
    "      & (used_car_df['RegistrationYear'] >= 1960) \n",
    "      & (used_car_df['Price'] >= 100) \n",
    "      & (used_car_df['Power'] >= 10) \n",
    "      & (used_car_df['Power'] <= 500)]"
   ]
  },
  {
   "cell_type": "code",
   "execution_count": 22,
   "metadata": {},
   "outputs": [
    {
     "data": {
      "text/plain": [
       "305198"
      ]
     },
     "execution_count": 22,
     "metadata": {},
     "output_type": "execute_result"
    }
   ],
   "source": [
    "len(used_car_df)"
   ]
  },
  {
   "cell_type": "markdown",
   "metadata": {},
   "source": [
    "Выкинули из датасета почти 50000 записей! "
   ]
  },
  {
   "cell_type": "markdown",
   "metadata": {},
   "source": [
    "Посмотрим на графики распределения того, что осталось."
   ]
  },
  {
   "cell_type": "code",
   "execution_count": 23,
   "metadata": {
    "scrolled": false
   },
   "outputs": [
    {
     "data": {
      "image/png": "[encoded data removed]",
      "text/plain": [
       "<Figure size 1440x720 with 1 Axes>"
      ]
     },
     "metadata": {
      "needs_background": "light"
     },
     "output_type": "display_data"
    }
   ],
   "source": [
    "sns.distplot(used_car_df['RegistrationYear']);"
   ]
  },
  {
   "cell_type": "markdown",
   "metadata": {},
   "source": [
    "Распределение близко к нормальному, что в целом можно ожидать для такого параметра"
   ]
  },
  {
   "cell_type": "code",
   "execution_count": 24,
   "metadata": {},
   "outputs": [
    {
     "data": {
      "image/png": "[encoded data removed]",
      "text/plain": [
       "<Figure size 1440x720 with 1 Axes>"
      ]
     },
     "metadata": {
      "needs_background": "light"
     },
     "output_type": "display_data"
    }
   ],
   "source": [
    "sns.distplot(used_car_df['Power']);"
   ]
  },
  {
   "cell_type": "markdown",
   "metadata": {},
   "source": [
    "Здесь тоже все в порядке, видно, что машин с большой мощностью изчезающе мало, и большая часть их них занимает промежуток от 80-200 лс."
   ]
  },
  {
   "cell_type": "code",
   "execution_count": 25,
   "metadata": {},
   "outputs": [
    {
     "data": {
      "image/png": "[encoded data removed]",
      "text/plain": [
       "<Figure size 1440x720 with 1 Axes>"
      ]
     },
     "metadata": {
      "needs_background": "light"
     },
     "output_type": "display_data"
    }
   ],
   "source": [
    "sns.distplot(used_car_df['Kilometer']);"
   ]
  },
  {
   "cell_type": "markdown",
   "metadata": {},
   "source": [
    "Тут интереснее. Кажется, что 150000 км это максимальное значение, которое моожно ввести в базу данных. Соответственно у машин, пробек которых превышает это число он именно такой и указан. Более того, таких машин больше половины. Это в целом нормально для подержанных машин, и не совсем понятно, в почему киллометраж не измерен точнее, ведь здравый смысл говорит, что это один из важнейших показателей. Тут можно было бы наверное сделать этот признак бинарным, вроде \"пробег больше 100 тысяч\", но мне почему то кажется, что и малый пробег тут тоже важен.  "
   ]
  },
  {
   "cell_type": "markdown",
   "metadata": {},
   "source": [
    "## Вывод"
   ]
  },
  {
   "cell_type": "markdown",
   "metadata": {},
   "source": [
    "Была проведена загрузка и предобработка данных. Удалены дубликаты и мало коррелирующие с целевой переменной столбцы, пропуски категориальных признаков заполнены значением-заглушкой. "
   ]
  },
  {
   "cell_type": "markdown",
   "metadata": {},
   "source": [
    "# 2. Обучение моделей"
   ]
  },
  {
   "cell_type": "markdown",
   "metadata": {},
   "source": [
    "Для начала разделим выборку на тренировочную и тестовую часть. Настраивать гиперпараметры моделей будем на кроссвалидации. Тестовая часть нужна для итогового сравнения моделей. Тренировочная часть будет составлять 20% датасета."
   ]
  },
  {
   "cell_type": "code",
   "execution_count": 26,
   "metadata": {},
   "outputs": [],
   "source": [
    "X = used_car_df.drop(['Price'], axis='columns', inplace=False)\n",
    "y = used_car_df['Price']"
   ]
  },
  {
   "cell_type": "code",
   "execution_count": 27,
   "metadata": {},
   "outputs": [],
   "source": [
    "X_train, X_test, y_train, y_test = train_test_split(X, y, test_size=0.2, random_state=42)"
   ]
  },
  {
   "cell_type": "code",
   "execution_count": 28,
   "metadata": {},
   "outputs": [
    {
     "name": "stdout",
     "output_type": "stream",
     "text": [
      "(244158, 9)\n",
      "(61040, 9)\n",
      "0.25000204785425834\n"
     ]
    }
   ],
   "source": [
    "print(X_train.shape)\n",
    "print(X_test.shape)\n",
    "print(X_test.shape[0]/y_train.shape[0])"
   ]
  },
  {
   "cell_type": "markdown",
   "metadata": {},
   "source": [
    "Так как нам важна скорость предсказания и время обучения мы будет в дополнение к RMSE сравнивать и эти параметры различных моделей, и после составим сводную таблицу."
   ]
  },
  {
   "cell_type": "code",
   "execution_count": 29,
   "metadata": {},
   "outputs": [],
   "source": [
    "def rmse(y_true, y_pred):\n",
    "    return mean_squared_error(y_true, y_pred) ** 0.5"
   ]
  },
  {
   "cell_type": "markdown",
   "metadata": {},
   "source": [
    "___"
   ]
  },
  {
   "cell_type": "markdown",
   "metadata": {},
   "source": [
    "1. Константная модель"
   ]
  },
  {
   "cell_type": "markdown",
   "metadata": {},
   "source": [
    "Константную модель будем использовать в первую очедь для проверки на адекватность. Но и обучеться она должна быстро... Предсказывать будем по медиане тренировочной выборки."
   ]
  },
  {
   "cell_type": "code",
   "execution_count": 30,
   "metadata": {},
   "outputs": [],
   "source": [
    "class ConstantPredictor:\n",
    "    \n",
    "    def fit(self, train_features, train_target):\n",
    "        self.median = train_target.median()\n",
    "\n",
    "    def predict(self, test_features):\n",
    "        return np.ones(len(test_features)) * self.median"
   ]
  },
  {
   "cell_type": "code",
   "execution_count": 31,
   "metadata": {},
   "outputs": [],
   "source": [
    "constant_pred = ConstantPredictor()"
   ]
  },
  {
   "cell_type": "code",
   "execution_count": 32,
   "metadata": {
    "scrolled": true
   },
   "outputs": [
    {
     "name": "stdout",
     "output_type": "stream",
     "text": [
      "CPU times: user 8.72 ms, sys: 52 µs, total: 8.77 ms\n",
      "Wall time: 8.3 ms\n"
     ]
    }
   ],
   "source": [
    "%%time\n",
    "constant_pred.fit(X_train, y_train)"
   ]
  },
  {
   "cell_type": "markdown",
   "metadata": {},
   "source": [
    "Обучение занимает 8.3 миллисекунд"
   ]
  },
  {
   "cell_type": "code",
   "execution_count": 33,
   "metadata": {},
   "outputs": [
    {
     "name": "stdout",
     "output_type": "stream",
     "text": [
      "CPU times: user 879 µs, sys: 66 µs, total: 945 µs\n",
      "Wall time: 627 µs\n"
     ]
    }
   ],
   "source": [
    "%%time\n",
    "y_const_pred = constant_pred.predict(X_test)"
   ]
  },
  {
   "cell_type": "markdown",
   "metadata": {},
   "source": [
    "Предсказание на тестовом множестве занимает 627 микросекунд. Быстро!"
   ]
  },
  {
   "cell_type": "markdown",
   "metadata": {},
   "source": [
    "Теперь проверим качество предсказания. "
   ]
  },
  {
   "cell_type": "code",
   "execution_count": 34,
   "metadata": {},
   "outputs": [
    {
     "data": {
      "text/plain": [
       "4853.547267342413"
      ]
     },
     "execution_count": 34,
     "metadata": {},
     "output_type": "execute_result"
    }
   ],
   "source": [
    "rmse(y_test, y_const_pred)"
   ]
  },
  {
   "cell_type": "markdown",
   "metadata": {},
   "source": [
    "RMSE равен 4854. Не сказать, что очень хорошо"
   ]
  },
  {
   "cell_type": "markdown",
   "metadata": {},
   "source": [
    "___"
   ]
  },
  {
   "cell_type": "markdown",
   "metadata": {},
   "source": [
    "2. Дерево решений"
   ]
  },
  {
   "cell_type": "markdown",
   "metadata": {},
   "source": [
    "Проверим так же максимально простую модель, которая при этом должна показывать более адекватный результат, чем константное предсказание. В качестве такой модели используем дерево решений. "
   ]
  },
  {
   "cell_type": "markdown",
   "metadata": {},
   "source": [
    "Дерево решений из sklearn не очень понимает категориальные данные из коробки, поэтому необходимо произвести кодирование данных. Порядковое кодирование нам не подойдет, так-как данные не имеют значащего порядка. Поэтому для всех наших категориалных данных имеет смысл применять OneHotEncoding."
   ]
  },
  {
   "cell_type": "code",
   "execution_count": 35,
   "metadata": {},
   "outputs": [],
   "source": [
    "categorial = ['VehicleType', 'Gearbox', 'Model', 'FuelType', 'Brand', 'NotRepaired']\n",
    "numeric = ['RegistrationYear', 'Power', 'Kilometer']"
   ]
  },
  {
   "cell_type": "code",
   "execution_count": 36,
   "metadata": {},
   "outputs": [],
   "source": [
    "enc = OneHotEncoder(drop='first')"
   ]
  },
  {
   "cell_type": "code",
   "execution_count": 37,
   "metadata": {},
   "outputs": [
    {
     "name": "stdout",
     "output_type": "stream",
     "text": [
      "CPU times: user 2.08 s, sys: 184 ms, total: 2.27 s\n",
      "Wall time: 2.3 s\n"
     ]
    }
   ],
   "source": [
    "%%time\n",
    "X_enc = pd.concat((pd.get_dummies(X[categorial], drop_first=True), \n",
    "                         X[numeric]), axis=1)\n",
    "X_train_enc = X_enc.loc[X_train.index]\n",
    "X_test_enc = X_enc.loc[X_test.index]"
   ]
  },
  {
   "cell_type": "code",
   "execution_count": 38,
   "metadata": {
    "scrolled": true
   },
   "outputs": [
    {
     "data": {
      "text/html": [
       "<div>\n",
       "<style scoped>\n",
       "    .dataframe tbody tr th:only-of-type {\n",
       "        vertical-align: middle;\n",
       "    }\n",
       "\n",
       "    .dataframe tbody tr th {\n",
       "        vertical-align: top;\n",
       "    }\n",
       "\n",
       "    .dataframe thead th {\n",
       "        text-align: right;\n",
       "    }\n",
       "</style>\n",
       "<table border=\"1\" class=\"dataframe\">\n",
       "  <thead>\n",
       "    <tr style=\"text-align: right;\">\n",
       "      <th></th>\n",
       "      <th>NotRepaired_not-declared</th>\n",
       "      <th>NotRepaired_yes</th>\n",
       "    </tr>\n",
       "  </thead>\n",
       "  <tbody>\n",
       "    <tr>\n",
       "      <td>276572</td>\n",
       "      <td>1</td>\n",
       "      <td>0</td>\n",
       "    </tr>\n",
       "    <tr>\n",
       "      <td>53501</td>\n",
       "      <td>0</td>\n",
       "      <td>0</td>\n",
       "    </tr>\n",
       "    <tr>\n",
       "      <td>170693</td>\n",
       "      <td>1</td>\n",
       "      <td>0</td>\n",
       "    </tr>\n",
       "    <tr>\n",
       "      <td>261974</td>\n",
       "      <td>1</td>\n",
       "      <td>0</td>\n",
       "    </tr>\n",
       "    <tr>\n",
       "      <td>142860</td>\n",
       "      <td>0</td>\n",
       "      <td>0</td>\n",
       "    </tr>\n",
       "    <tr>\n",
       "      <td>...</td>\n",
       "      <td>...</td>\n",
       "      <td>...</td>\n",
       "    </tr>\n",
       "    <tr>\n",
       "      <td>139209</td>\n",
       "      <td>0</td>\n",
       "      <td>0</td>\n",
       "    </tr>\n",
       "    <tr>\n",
       "      <td>300827</td>\n",
       "      <td>0</td>\n",
       "      <td>0</td>\n",
       "    </tr>\n",
       "    <tr>\n",
       "      <td>153199</td>\n",
       "      <td>0</td>\n",
       "      <td>0</td>\n",
       "    </tr>\n",
       "    <tr>\n",
       "      <td>170524</td>\n",
       "      <td>0</td>\n",
       "      <td>1</td>\n",
       "    </tr>\n",
       "    <tr>\n",
       "      <td>141625</td>\n",
       "      <td>0</td>\n",
       "      <td>0</td>\n",
       "    </tr>\n",
       "  </tbody>\n",
       "</table>\n",
       "<p>244158 rows × 2 columns</p>\n",
       "</div>"
      ],
      "text/plain": [
       "        NotRepaired_not-declared  NotRepaired_yes\n",
       "276572                         1                0\n",
       "53501                          0                0\n",
       "170693                         1                0\n",
       "261974                         1                0\n",
       "142860                         0                0\n",
       "...                          ...              ...\n",
       "139209                         0                0\n",
       "300827                         0                0\n",
       "153199                         0                0\n",
       "170524                         0                1\n",
       "141625                         0                0\n",
       "\n",
       "[244158 rows x 2 columns]"
      ]
     },
     "execution_count": 38,
     "metadata": {},
     "output_type": "execute_result"
    }
   ],
   "source": [
    "X_train_enc.filter(like = 'NotRepaired')"
   ]
  },
  {
   "cell_type": "markdown",
   "metadata": {},
   "source": [
    "Само кодирование исходного датасета занимает определенное время, поэтому его стоит прибавить ко времени обучения модели"
   ]
  },
  {
   "cell_type": "code",
   "execution_count": 39,
   "metadata": {},
   "outputs": [],
   "source": [
    "tree_model = DecisionTreeRegressor()"
   ]
  },
  {
   "cell_type": "code",
   "execution_count": 40,
   "metadata": {},
   "outputs": [
    {
     "name": "stdout",
     "output_type": "stream",
     "text": [
      "CPU times: user 10.5 s, sys: 229 ms, total: 10.7 s\n",
      "Wall time: 11 s\n"
     ]
    },
    {
     "data": {
      "text/plain": [
       "DecisionTreeRegressor(criterion='mse', max_depth=None, max_features=None,\n",
       "                      max_leaf_nodes=None, min_impurity_decrease=0.0,\n",
       "                      min_impurity_split=None, min_samples_leaf=1,\n",
       "                      min_samples_split=2, min_weight_fraction_leaf=0.0,\n",
       "                      presort=False, random_state=None, splitter='best')"
      ]
     },
     "execution_count": 40,
     "metadata": {},
     "output_type": "execute_result"
    }
   ],
   "source": [
    "%%time\n",
    "tree_model.fit(X_train_enc, y_train)"
   ]
  },
  {
   "cell_type": "markdown",
   "metadata": {},
   "source": [
    "Обучение модели занимает целых 11.4 секунды. "
   ]
  },
  {
   "cell_type": "code",
   "execution_count": 41,
   "metadata": {},
   "outputs": [
    {
     "name": "stdout",
     "output_type": "stream",
     "text": [
      "CPU times: user 108 ms, sys: 56.1 ms, total: 164 ms\n",
      "Wall time: 183 ms\n"
     ]
    }
   ],
   "source": [
    "%%time\n",
    "y_tree_pred = tree_model.predict(X_test_enc)"
   ]
  },
  {
   "cell_type": "markdown",
   "metadata": {},
   "source": [
    "А вот предсказания делаются быстро, порядка 161 миллисекунды."
   ]
  },
  {
   "cell_type": "code",
   "execution_count": 42,
   "metadata": {
    "scrolled": true
   },
   "outputs": [
    {
     "data": {
      "text/plain": [
       "1828.3642936860917"
      ]
     },
     "execution_count": 42,
     "metadata": {},
     "output_type": "execute_result"
    }
   ],
   "source": [
    "rmse(y_test, y_tree_pred)"
   ]
  },
  {
   "cell_type": "markdown",
   "metadata": {},
   "source": [
    "Качество модели так же значительно повысилось."
   ]
  },
  {
   "cell_type": "markdown",
   "metadata": {},
   "source": [
    "Используем GridSearchCV для поиска оптимальных гиперпараметров модели. Изменять будем параметры max_depth и min_samples_split."
   ]
  },
  {
   "cell_type": "code",
   "execution_count": 43,
   "metadata": {},
   "outputs": [],
   "source": [
    "tree_grid_model = DecisionTreeRegressor(random_state=42)"
   ]
  },
  {
   "cell_type": "code",
   "execution_count": 44,
   "metadata": {},
   "outputs": [],
   "source": [
    "tree_param_dict = {'max_depth' : [10, 15, 25],\n",
    "                   'min_samples_split' : [7, 10, 12]}"
   ]
  },
  {
   "cell_type": "code",
   "execution_count": 45,
   "metadata": {},
   "outputs": [],
   "source": [
    "tree_grid = GridSearchCV(tree_grid_model, tree_param_dict, n_jobs=-1, cv = 3)"
   ]
  },
  {
   "cell_type": "code",
   "execution_count": 46,
   "metadata": {
    "scrolled": true
   },
   "outputs": [
    {
     "name": "stdout",
     "output_type": "stream",
     "text": [
      "CPU times: user 2min 27s, sys: 7.21 s, total: 2min 34s\n",
      "Wall time: 2min 36s\n"
     ]
    },
    {
     "data": {
      "text/plain": [
       "GridSearchCV(cv=3, error_score='raise-deprecating',\n",
       "             estimator=DecisionTreeRegressor(criterion='mse', max_depth=None,\n",
       "                                             max_features=None,\n",
       "                                             max_leaf_nodes=None,\n",
       "                                             min_impurity_decrease=0.0,\n",
       "                                             min_impurity_split=None,\n",
       "                                             min_samples_leaf=1,\n",
       "                                             min_samples_split=2,\n",
       "                                             min_weight_fraction_leaf=0.0,\n",
       "                                             presort=False, random_state=42,\n",
       "                                             splitter='best'),\n",
       "             iid='warn', n_jobs=-1,\n",
       "             param_grid={'max_depth': [10, 15, 25],\n",
       "                         'min_samples_split': [7, 10, 12]},\n",
       "             pre_dispatch='2*n_jobs', refit=True, return_train_score=False,\n",
       "             scoring=None, verbose=0)"
      ]
     },
     "execution_count": 46,
     "metadata": {},
     "output_type": "execute_result"
    }
   ],
   "source": [
    "%%time\n",
    "tree_grid.fit(X_train_enc, y_train)"
   ]
  },
  {
   "cell_type": "code",
   "execution_count": 47,
   "metadata": {
    "scrolled": true
   },
   "outputs": [
    {
     "data": {
      "text/plain": [
       "DecisionTreeRegressor(criterion='mse', max_depth=25, max_features=None,\n",
       "                      max_leaf_nodes=None, min_impurity_decrease=0.0,\n",
       "                      min_impurity_split=None, min_samples_leaf=1,\n",
       "                      min_samples_split=12, min_weight_fraction_leaf=0.0,\n",
       "                      presort=False, random_state=42, splitter='best')"
      ]
     },
     "execution_count": 47,
     "metadata": {},
     "output_type": "execute_result"
    }
   ],
   "source": [
    "tree_grid.best_estimator_"
   ]
  },
  {
   "cell_type": "markdown",
   "metadata": {},
   "source": [
    "Оптимальные параметры max_depth=25, min_samples_split=12"
   ]
  },
  {
   "cell_type": "code",
   "execution_count": 48,
   "metadata": {},
   "outputs": [
    {
     "name": "stdout",
     "output_type": "stream",
     "text": [
      "CPU times: user 90.1 ms, sys: 52 ms, total: 142 ms\n",
      "Wall time: 157 ms\n"
     ]
    }
   ],
   "source": [
    "%%time\n",
    "y_tree_grid_pred = tree_grid.predict(X_test_enc)"
   ]
  },
  {
   "cell_type": "code",
   "execution_count": 49,
   "metadata": {},
   "outputs": [
    {
     "data": {
      "text/plain": [
       "1736.0717006107595"
      ]
     },
     "execution_count": 49,
     "metadata": {},
     "output_type": "execute_result"
    }
   ],
   "source": [
    "rmse(y_test, y_tree_grid_pred)"
   ]
  },
  {
   "cell_type": "markdown",
   "metadata": {},
   "source": [
    "3. LightGBM"
   ]
  },
  {
   "cell_type": "markdown",
   "metadata": {},
   "source": [
    "Для начала работы с LightGBM необходимо создать контейнер, в котором ко всему прочему указать, какие переменные являются категориальными. При этом LightGBM понимает только категории типа int, так что предварительно закодируем их LabelEncoder'om"
   ]
  },
  {
   "cell_type": "code",
   "execution_count": 50,
   "metadata": {},
   "outputs": [],
   "source": [
    "X_train_lbl = X_train.copy()\n",
    "X_test_lbl = X_test.copy()"
   ]
  },
  {
   "cell_type": "code",
   "execution_count": 51,
   "metadata": {},
   "outputs": [],
   "source": [
    "for category in categorial:\n",
    "    lbl = LabelEncoder()\n",
    "    X_train_lbl[category] = lbl.fit_transform(X_train_lbl[category])\n",
    "    X_test_lbl[category] = lbl.transform(X_test_lbl[category])"
   ]
  },
  {
   "cell_type": "code",
   "execution_count": 52,
   "metadata": {},
   "outputs": [],
   "source": [
    "train_data = lightgbm.Dataset(X_train_lbl, label=y_train, categorical_feature=categorial)\n",
    "test_data = lightgbm.Dataset(X_test_lbl, label=y_test)"
   ]
  },
  {
   "cell_type": "markdown",
   "metadata": {},
   "source": [
    "Зададим параметры обучения. Используем те же параметры, что и в настроенном одиночном "
   ]
  },
  {
   "cell_type": "code",
   "execution_count": 53,
   "metadata": {},
   "outputs": [],
   "source": [
    "parameters = {\n",
    "    'objective': 'regression', # очевидно потому что у нас регрессия\n",
    "    'metric': 'l2', # метрика mse с регуляризацией l2\n",
    "    'boosting': 'gbdt', # стандартный бустинг над решающими деревьями\n",
    "    'learning_rate': 0.1,\n",
    "    'verbose': 1,\n",
    "    'stratified': False,\n",
    "    'max_depth': 25\n",
    "}"
   ]
  },
  {
   "cell_type": "markdown",
   "metadata": {},
   "source": [
    "Создадим модель регрессии. Используем трехкратную кроссвалидацию, а так же установим максимальное количество итераций бустинга на 100."
   ]
  },
  {
   "cell_type": "code",
   "execution_count": 54,
   "metadata": {
    "scrolled": true
   },
   "outputs": [
    {
     "name": "stdout",
     "output_type": "stream",
     "text": [
      "CPU times: user 21.3 s, sys: 165 ms, total: 21.4 s\n",
      "Wall time: 21.6 s\n"
     ]
    }
   ],
   "source": [
    "%%time\n",
    "model_lgbm = lightgbm.train(parameters,\n",
    "                       train_data,\n",
    "                       categorical_feature=categorial,\n",
    "                       num_boost_round=200)"
   ]
  },
  {
   "cell_type": "markdown",
   "metadata": {},
   "source": [
    "Само обучение занимает 21.6 секунды"
   ]
  },
  {
   "cell_type": "code",
   "execution_count": 55,
   "metadata": {},
   "outputs": [
    {
     "name": "stdout",
     "output_type": "stream",
     "text": [
      "CPU times: user 1.72 s, sys: 1.06 ms, total: 1.72 s\n",
      "Wall time: 1.79 s\n"
     ]
    }
   ],
   "source": [
    "%%time\n",
    "y_lgbm_pred = model_lgbm.predict(X_test_lbl)"
   ]
  },
  {
   "cell_type": "markdown",
   "metadata": {},
   "source": [
    "Предсказание - 1.79 секунды"
   ]
  },
  {
   "cell_type": "code",
   "execution_count": 56,
   "metadata": {},
   "outputs": [
    {
     "data": {
      "text/plain": [
       "1584.820749257236"
      ]
     },
     "execution_count": 56,
     "metadata": {},
     "output_type": "execute_result"
    }
   ],
   "source": [
    "rmse(y_test, y_lgbm_pred)"
   ]
  },
  {
   "cell_type": "markdown",
   "metadata": {},
   "source": [
    "Качество модели очевидно лучше, чем у одиночного дерева и тем более у константного предсказания."
   ]
  },
  {
   "cell_type": "markdown",
   "metadata": {},
   "source": [
    "Посмотрим, какие признаки важны для построения модели. "
   ]
  },
  {
   "cell_type": "code",
   "execution_count": 57,
   "metadata": {},
   "outputs": [
    {
     "data": {
      "image/png": "[encoded data removed]",
      "text/plain": [
       "<Figure size 1440x720 with 1 Axes>"
      ]
     },
     "metadata": {
      "needs_background": "light"
     },
     "output_type": "display_data"
    }
   ],
   "source": [
    "lightgbm.plot_importance(model_lgbm);"
   ]
  },
  {
   "cell_type": "markdown",
   "metadata": {},
   "source": [
    "Видно, что самые важные признаки для определения цены это мощность, модель и возраст. Все это кажется очень логичным. "
   ]
  },
  {
   "cell_type": "markdown",
   "metadata": {},
   "source": [
    "4. CatBoost"
   ]
  },
  {
   "cell_type": "markdown",
   "metadata": {},
   "source": [
    "Опробуем так же CatBoost. Создать модель с его помощью даже несколько проще. Обучим его так же на 300 итерациях."
   ]
  },
  {
   "cell_type": "code",
   "execution_count": 58,
   "metadata": {},
   "outputs": [],
   "source": [
    "model_cat = CatBoostRegressor(iterations=200, eval_metric='RMSE', learning_rate=0.1, random_seed=42)"
   ]
  },
  {
   "cell_type": "code",
   "execution_count": 59,
   "metadata": {},
   "outputs": [
    {
     "name": "stdout",
     "output_type": "stream",
     "text": [
      "0:\tlearn: 4282.8935754\ttotal: 973ms\tremaining: 3m 13s\n",
      "1:\tlearn: 4023.7544771\ttotal: 1.87s\tremaining: 3m 5s\n",
      "2:\tlearn: 3792.7336060\ttotal: 2.77s\tremaining: 3m 2s\n",
      "3:\tlearn: 3582.3042737\ttotal: 3.67s\tremaining: 2m 59s\n",
      "4:\tlearn: 3401.6473973\ttotal: 4.67s\tremaining: 3m 2s\n",
      "5:\tlearn: 3241.7173052\ttotal: 5.57s\tremaining: 3m\n",
      "6:\tlearn: 3098.9030367\ttotal: 6.38s\tremaining: 2m 55s\n",
      "7:\tlearn: 2962.1553571\ttotal: 7.37s\tremaining: 2m 56s\n",
      "8:\tlearn: 2849.9850927\ttotal: 8.27s\tremaining: 2m 55s\n",
      "9:\tlearn: 2752.6056161\ttotal: 9.07s\tremaining: 2m 52s\n",
      "10:\tlearn: 2658.3119050\ttotal: 9.97s\tremaining: 2m 51s\n",
      "11:\tlearn: 2585.9310372\ttotal: 10.8s\tremaining: 2m 48s\n",
      "12:\tlearn: 2519.9146059\ttotal: 11.7s\tremaining: 2m 47s\n",
      "13:\tlearn: 2454.2858589\ttotal: 12.5s\tremaining: 2m 45s\n",
      "14:\tlearn: 2395.0497319\ttotal: 13.4s\tremaining: 2m 44s\n",
      "15:\tlearn: 2338.5025610\ttotal: 14.4s\tremaining: 2m 45s\n",
      "16:\tlearn: 2288.7547091\ttotal: 15.3s\tremaining: 2m 44s\n",
      "17:\tlearn: 2248.2489266\ttotal: 16.2s\tremaining: 2m 43s\n",
      "18:\tlearn: 2208.8794552\ttotal: 17s\tremaining: 2m 41s\n",
      "19:\tlearn: 2174.9471003\ttotal: 17.9s\tremaining: 2m 40s\n",
      "20:\tlearn: 2144.5298330\ttotal: 18.8s\tremaining: 2m 39s\n",
      "21:\tlearn: 2116.1934486\ttotal: 19.6s\tremaining: 2m 38s\n",
      "22:\tlearn: 2088.6859330\ttotal: 20.5s\tremaining: 2m 37s\n",
      "23:\tlearn: 2066.6333075\ttotal: 21.4s\tremaining: 2m 36s\n",
      "24:\tlearn: 2047.1328847\ttotal: 22.2s\tremaining: 2m 35s\n",
      "25:\tlearn: 2029.7938585\ttotal: 23s\tremaining: 2m 33s\n",
      "26:\tlearn: 2015.5418440\ttotal: 23.8s\tremaining: 2m 32s\n",
      "27:\tlearn: 2000.7722516\ttotal: 24.6s\tremaining: 2m 30s\n",
      "28:\tlearn: 1987.9995744\ttotal: 25.4s\tremaining: 2m 29s\n",
      "29:\tlearn: 1973.9361218\ttotal: 26.1s\tremaining: 2m 27s\n",
      "30:\tlearn: 1963.9919351\ttotal: 26.8s\tremaining: 2m 26s\n",
      "31:\tlearn: 1953.8482575\ttotal: 27.7s\tremaining: 2m 25s\n",
      "32:\tlearn: 1943.3556433\ttotal: 28.3s\tremaining: 2m 23s\n",
      "33:\tlearn: 1935.6604579\ttotal: 29s\tremaining: 2m 21s\n",
      "34:\tlearn: 1927.4647460\ttotal: 29.8s\tremaining: 2m 20s\n",
      "35:\tlearn: 1919.5660297\ttotal: 30.6s\tremaining: 2m 19s\n",
      "36:\tlearn: 1912.5985667\ttotal: 31.4s\tremaining: 2m 18s\n",
      "37:\tlearn: 1906.9256646\ttotal: 32.1s\tremaining: 2m 17s\n",
      "38:\tlearn: 1901.8681967\ttotal: 32.9s\tremaining: 2m 16s\n",
      "39:\tlearn: 1896.4522744\ttotal: 33.7s\tremaining: 2m 14s\n",
      "40:\tlearn: 1889.8418719\ttotal: 34.6s\tremaining: 2m 14s\n",
      "41:\tlearn: 1886.4207049\ttotal: 35.4s\tremaining: 2m 13s\n",
      "42:\tlearn: 1881.6483066\ttotal: 36.3s\tremaining: 2m 12s\n",
      "43:\tlearn: 1875.8504412\ttotal: 37.2s\tremaining: 2m 12s\n",
      "44:\tlearn: 1870.8383345\ttotal: 38.1s\tremaining: 2m 11s\n",
      "45:\tlearn: 1866.7779152\ttotal: 38.9s\tremaining: 2m 10s\n",
      "46:\tlearn: 1863.2409988\ttotal: 39.6s\tremaining: 2m 9s\n",
      "47:\tlearn: 1860.0076753\ttotal: 40.5s\tremaining: 2m 8s\n",
      "48:\tlearn: 1857.4878676\ttotal: 41.3s\tremaining: 2m 7s\n",
      "49:\tlearn: 1853.3960506\ttotal: 42.2s\tremaining: 2m 6s\n",
      "50:\tlearn: 1850.4268989\ttotal: 42.8s\tremaining: 2m 5s\n",
      "51:\tlearn: 1846.1162753\ttotal: 43.6s\tremaining: 2m 4s\n",
      "52:\tlearn: 1843.9615397\ttotal: 44.5s\tremaining: 2m 3s\n",
      "53:\tlearn: 1840.2233705\ttotal: 45.4s\tremaining: 2m 2s\n",
      "54:\tlearn: 1836.8496254\ttotal: 46.1s\tremaining: 2m 1s\n",
      "55:\tlearn: 1833.5844037\ttotal: 46.8s\tremaining: 2m\n",
      "56:\tlearn: 1830.2738494\ttotal: 47.6s\tremaining: 1m 59s\n",
      "57:\tlearn: 1827.2667020\ttotal: 48.5s\tremaining: 1m 58s\n",
      "58:\tlearn: 1824.0697584\ttotal: 49.4s\tremaining: 1m 58s\n",
      "59:\tlearn: 1821.9697045\ttotal: 50.2s\tremaining: 1m 57s\n",
      "60:\tlearn: 1819.2058909\ttotal: 50.8s\tremaining: 1m 55s\n",
      "61:\tlearn: 1816.7314704\ttotal: 51.6s\tremaining: 1m 54s\n",
      "62:\tlearn: 1814.7301311\ttotal: 52.5s\tremaining: 1m 54s\n",
      "63:\tlearn: 1812.5214473\ttotal: 53.2s\tremaining: 1m 53s\n",
      "64:\tlearn: 1808.8690844\ttotal: 53.9s\tremaining: 1m 51s\n",
      "65:\tlearn: 1806.6870837\ttotal: 54.5s\tremaining: 1m 50s\n",
      "66:\tlearn: 1805.0395081\ttotal: 55.3s\tremaining: 1m 49s\n",
      "67:\tlearn: 1802.7405228\ttotal: 56.1s\tremaining: 1m 48s\n",
      "68:\tlearn: 1800.5773120\ttotal: 57s\tremaining: 1m 48s\n",
      "69:\tlearn: 1798.8683893\ttotal: 57.9s\tremaining: 1m 47s\n",
      "70:\tlearn: 1797.3826956\ttotal: 58.8s\tremaining: 1m 46s\n",
      "71:\tlearn: 1795.3412396\ttotal: 59.6s\tremaining: 1m 45s\n",
      "72:\tlearn: 1793.1461295\ttotal: 1m\tremaining: 1m 44s\n",
      "73:\tlearn: 1791.1797840\ttotal: 1m 1s\tremaining: 1m 44s\n",
      "74:\tlearn: 1789.4015330\ttotal: 1m 2s\tremaining: 1m 43s\n",
      "75:\tlearn: 1787.9274586\ttotal: 1m 3s\tremaining: 1m 42s\n",
      "76:\tlearn: 1786.7314362\ttotal: 1m 3s\tremaining: 1m 42s\n",
      "77:\tlearn: 1784.4570097\ttotal: 1m 4s\tremaining: 1m 41s\n",
      "78:\tlearn: 1783.4439241\ttotal: 1m 5s\tremaining: 1m 40s\n",
      "79:\tlearn: 1781.9806494\ttotal: 1m 6s\tremaining: 1m 39s\n",
      "80:\tlearn: 1780.1356423\ttotal: 1m 7s\tremaining: 1m 38s\n",
      "81:\tlearn: 1778.5435951\ttotal: 1m 8s\tremaining: 1m 38s\n",
      "82:\tlearn: 1777.7775408\ttotal: 1m 9s\tremaining: 1m 37s\n",
      "83:\tlearn: 1775.7594157\ttotal: 1m 9s\tremaining: 1m 36s\n",
      "84:\tlearn: 1774.6326986\ttotal: 1m 10s\tremaining: 1m 35s\n",
      "85:\tlearn: 1772.6454472\ttotal: 1m 11s\tremaining: 1m 34s\n",
      "86:\tlearn: 1771.0802769\ttotal: 1m 12s\tremaining: 1m 33s\n",
      "87:\tlearn: 1769.8683221\ttotal: 1m 13s\tremaining: 1m 33s\n",
      "88:\tlearn: 1768.7659697\ttotal: 1m 13s\tremaining: 1m 32s\n",
      "89:\tlearn: 1766.8956358\ttotal: 1m 14s\tremaining: 1m 31s\n",
      "90:\tlearn: 1765.8555175\ttotal: 1m 15s\tremaining: 1m 30s\n",
      "91:\tlearn: 1764.7795628\ttotal: 1m 16s\tremaining: 1m 29s\n",
      "92:\tlearn: 1763.4233455\ttotal: 1m 16s\tremaining: 1m 28s\n",
      "93:\tlearn: 1762.4523973\ttotal: 1m 17s\tremaining: 1m 27s\n",
      "94:\tlearn: 1761.3202848\ttotal: 1m 18s\tremaining: 1m 26s\n",
      "95:\tlearn: 1759.5234742\ttotal: 1m 19s\tremaining: 1m 25s\n",
      "96:\tlearn: 1758.4079439\ttotal: 1m 20s\tremaining: 1m 25s\n",
      "97:\tlearn: 1757.4200738\ttotal: 1m 20s\tremaining: 1m 24s\n",
      "98:\tlearn: 1755.5101378\ttotal: 1m 21s\tremaining: 1m 23s\n",
      "99:\tlearn: 1754.4364785\ttotal: 1m 22s\tremaining: 1m 22s\n",
      "100:\tlearn: 1753.0934611\ttotal: 1m 23s\tremaining: 1m 21s\n",
      "101:\tlearn: 1752.3061833\ttotal: 1m 24s\tremaining: 1m 20s\n",
      "102:\tlearn: 1750.8641132\ttotal: 1m 24s\tremaining: 1m 20s\n",
      "103:\tlearn: 1749.3879272\ttotal: 1m 25s\tremaining: 1m 19s\n",
      "104:\tlearn: 1748.2416488\ttotal: 1m 26s\tremaining: 1m 18s\n",
      "105:\tlearn: 1747.6024681\ttotal: 1m 27s\tremaining: 1m 17s\n",
      "106:\tlearn: 1746.5343567\ttotal: 1m 28s\tremaining: 1m 16s\n",
      "107:\tlearn: 1745.1783039\ttotal: 1m 28s\tremaining: 1m 15s\n",
      "108:\tlearn: 1744.1499630\ttotal: 1m 29s\tremaining: 1m 14s\n",
      "109:\tlearn: 1743.4823719\ttotal: 1m 30s\tremaining: 1m 14s\n",
      "110:\tlearn: 1742.4187819\ttotal: 1m 31s\tremaining: 1m 13s\n",
      "111:\tlearn: 1740.8115893\ttotal: 1m 32s\tremaining: 1m 12s\n",
      "112:\tlearn: 1739.4039040\ttotal: 1m 33s\tremaining: 1m 11s\n",
      "113:\tlearn: 1738.7057027\ttotal: 1m 34s\tremaining: 1m 11s\n",
      "114:\tlearn: 1738.1564239\ttotal: 1m 35s\tremaining: 1m 10s\n",
      "115:\tlearn: 1736.9505124\ttotal: 1m 35s\tremaining: 1m 9s\n",
      "116:\tlearn: 1736.0496987\ttotal: 1m 36s\tremaining: 1m 8s\n",
      "117:\tlearn: 1734.9174879\ttotal: 1m 37s\tremaining: 1m 7s\n",
      "118:\tlearn: 1734.0317549\ttotal: 1m 38s\tremaining: 1m 7s\n",
      "119:\tlearn: 1733.1729860\ttotal: 1m 39s\tremaining: 1m 6s\n",
      "120:\tlearn: 1731.8617009\ttotal: 1m 40s\tremaining: 1m 5s\n",
      "121:\tlearn: 1730.8907280\ttotal: 1m 40s\tremaining: 1m 4s\n",
      "122:\tlearn: 1730.4046931\ttotal: 1m 41s\tremaining: 1m 3s\n",
      "123:\tlearn: 1728.7109888\ttotal: 1m 42s\tremaining: 1m 2s\n",
      "124:\tlearn: 1727.8951584\ttotal: 1m 43s\tremaining: 1m 2s\n",
      "125:\tlearn: 1727.0912803\ttotal: 1m 44s\tremaining: 1m 1s\n",
      "126:\tlearn: 1725.4426700\ttotal: 1m 45s\tremaining: 1m\n",
      "127:\tlearn: 1724.7575245\ttotal: 1m 46s\tremaining: 59.8s\n",
      "128:\tlearn: 1724.1177846\ttotal: 1m 47s\tremaining: 58.9s\n",
      "129:\tlearn: 1723.4636986\ttotal: 1m 48s\tremaining: 58.2s\n",
      "130:\tlearn: 1722.2394839\ttotal: 1m 48s\tremaining: 57.3s\n",
      "131:\tlearn: 1721.4556176\ttotal: 1m 49s\tremaining: 56.5s\n",
      "132:\tlearn: 1721.0939789\ttotal: 1m 50s\tremaining: 55.7s\n",
      "133:\tlearn: 1720.1916364\ttotal: 1m 51s\tremaining: 54.9s\n",
      "134:\tlearn: 1719.4767838\ttotal: 1m 52s\tremaining: 54s\n",
      "135:\tlearn: 1718.2481870\ttotal: 1m 53s\tremaining: 53.3s\n",
      "136:\tlearn: 1717.2792882\ttotal: 1m 54s\tremaining: 52.4s\n",
      "137:\tlearn: 1716.6597631\ttotal: 1m 54s\tremaining: 51.6s\n",
      "138:\tlearn: 1715.4948814\ttotal: 1m 55s\tremaining: 50.8s\n",
      "139:\tlearn: 1714.9335730\ttotal: 1m 56s\tremaining: 50s\n",
      "140:\tlearn: 1713.9058017\ttotal: 1m 57s\tremaining: 49.2s\n",
      "141:\tlearn: 1713.0336286\ttotal: 1m 58s\tremaining: 48.4s\n",
      "142:\tlearn: 1712.5798504\ttotal: 1m 59s\tremaining: 47.6s\n",
      "143:\tlearn: 1711.7515234\ttotal: 2m\tremaining: 46.7s\n",
      "144:\tlearn: 1710.9173499\ttotal: 2m\tremaining: 45.8s\n",
      "145:\tlearn: 1710.0804329\ttotal: 2m 1s\tremaining: 45s\n",
      "146:\tlearn: 1709.3367160\ttotal: 2m 2s\tremaining: 44.1s\n",
      "147:\tlearn: 1708.4474116\ttotal: 2m 3s\tremaining: 43.3s\n",
      "148:\tlearn: 1707.9701437\ttotal: 2m 4s\tremaining: 42.5s\n",
      "149:\tlearn: 1706.6630257\ttotal: 2m 5s\tremaining: 41.7s\n",
      "150:\tlearn: 1706.3004888\ttotal: 2m 5s\tremaining: 40.9s\n",
      "151:\tlearn: 1705.2820430\ttotal: 2m 6s\tremaining: 40s\n",
      "152:\tlearn: 1704.5981041\ttotal: 2m 7s\tremaining: 39.2s\n",
      "153:\tlearn: 1703.7350564\ttotal: 2m 8s\tremaining: 38.4s\n",
      "154:\tlearn: 1703.1186537\ttotal: 2m 9s\tremaining: 37.5s\n",
      "155:\tlearn: 1702.0784833\ttotal: 2m 10s\tremaining: 36.7s\n",
      "156:\tlearn: 1701.1437850\ttotal: 2m 11s\tremaining: 35.9s\n",
      "157:\tlearn: 1700.1129169\ttotal: 2m 11s\tremaining: 35.1s\n",
      "158:\tlearn: 1699.4042813\ttotal: 2m 12s\tremaining: 34.3s\n",
      "159:\tlearn: 1699.0471347\ttotal: 2m 13s\tremaining: 33.4s\n",
      "160:\tlearn: 1698.2712524\ttotal: 2m 14s\tremaining: 32.6s\n",
      "161:\tlearn: 1697.8453171\ttotal: 2m 15s\tremaining: 31.7s\n",
      "162:\tlearn: 1696.9399726\ttotal: 2m 16s\tremaining: 30.9s\n",
      "163:\tlearn: 1696.0332067\ttotal: 2m 17s\tremaining: 30.1s\n",
      "164:\tlearn: 1695.3572048\ttotal: 2m 17s\tremaining: 29.2s\n",
      "165:\tlearn: 1694.4470802\ttotal: 2m 18s\tremaining: 28.4s\n",
      "166:\tlearn: 1693.9585427\ttotal: 2m 19s\tremaining: 27.5s\n",
      "167:\tlearn: 1693.5610087\ttotal: 2m 20s\tremaining: 26.7s\n",
      "168:\tlearn: 1692.5647893\ttotal: 2m 21s\tremaining: 25.9s\n",
      "169:\tlearn: 1691.8244499\ttotal: 2m 22s\tremaining: 25.1s\n",
      "170:\tlearn: 1691.2518321\ttotal: 2m 23s\tremaining: 24.3s\n",
      "171:\tlearn: 1690.5711746\ttotal: 2m 23s\tremaining: 23.4s\n",
      "172:\tlearn: 1690.0472239\ttotal: 2m 24s\tremaining: 22.6s\n",
      "173:\tlearn: 1689.2953508\ttotal: 2m 25s\tremaining: 21.7s\n",
      "174:\tlearn: 1688.6880677\ttotal: 2m 26s\tremaining: 20.9s\n",
      "175:\tlearn: 1687.6823481\ttotal: 2m 27s\tremaining: 20.1s\n",
      "176:\tlearn: 1687.0919285\ttotal: 2m 28s\tremaining: 19.2s\n",
      "177:\tlearn: 1686.1699043\ttotal: 2m 28s\tremaining: 18.4s\n",
      "178:\tlearn: 1685.3387122\ttotal: 2m 29s\tremaining: 17.6s\n",
      "179:\tlearn: 1684.8180576\ttotal: 2m 30s\tremaining: 16.7s\n",
      "180:\tlearn: 1684.1297350\ttotal: 2m 31s\tremaining: 15.9s\n",
      "181:\tlearn: 1683.5779430\ttotal: 2m 32s\tremaining: 15s\n",
      "182:\tlearn: 1683.3097670\ttotal: 2m 33s\tremaining: 14.2s\n",
      "183:\tlearn: 1682.4914158\ttotal: 2m 33s\tremaining: 13.4s\n",
      "184:\tlearn: 1682.1597949\ttotal: 2m 34s\tremaining: 12.5s\n",
      "185:\tlearn: 1681.5436739\ttotal: 2m 35s\tremaining: 11.7s\n",
      "186:\tlearn: 1680.9195533\ttotal: 2m 36s\tremaining: 10.9s\n",
      "187:\tlearn: 1680.4450130\ttotal: 2m 37s\tremaining: 10.1s\n",
      "188:\tlearn: 1679.9032256\ttotal: 2m 38s\tremaining: 9.21s\n",
      "189:\tlearn: 1679.3784129\ttotal: 2m 39s\tremaining: 8.37s\n",
      "190:\tlearn: 1678.6121929\ttotal: 2m 39s\tremaining: 7.53s\n",
      "191:\tlearn: 1678.2041659\ttotal: 2m 40s\tremaining: 6.69s\n",
      "192:\tlearn: 1677.8577163\ttotal: 2m 41s\tremaining: 5.86s\n",
      "193:\tlearn: 1677.3377421\ttotal: 2m 42s\tremaining: 5.02s\n",
      "194:\tlearn: 1676.6280847\ttotal: 2m 43s\tremaining: 4.19s\n",
      "195:\tlearn: 1676.1267282\ttotal: 2m 44s\tremaining: 3.35s\n",
      "196:\tlearn: 1675.7628758\ttotal: 2m 45s\tremaining: 2.52s\n",
      "197:\tlearn: 1675.5733771\ttotal: 2m 46s\tremaining: 1.68s\n",
      "198:\tlearn: 1674.9922388\ttotal: 2m 46s\tremaining: 838ms\n",
      "199:\tlearn: 1674.2493534\ttotal: 2m 47s\tremaining: 0us\n",
      "CPU times: user 2min 35s, sys: 12.9 s, total: 2min 48s\n",
      "Wall time: 2min 53s\n"
     ]
    },
    {
     "data": {
      "text/plain": [
       "<catboost.core.CatBoostRegressor at 0x7fd4eb490150>"
      ]
     },
     "execution_count": 59,
     "metadata": {},
     "output_type": "execute_result"
    }
   ],
   "source": [
    "%%time\n",
    "model_cat.fit(X_train, y_train,\n",
    "             cat_features=categorial)"
   ]
  },
  {
   "cell_type": "code",
   "execution_count": 60,
   "metadata": {},
   "outputs": [
    {
     "name": "stdout",
     "output_type": "stream",
     "text": [
      "CPU times: user 322 ms, sys: 29.4 ms, total: 351 ms\n",
      "Wall time: 349 ms\n"
     ]
    }
   ],
   "source": [
    "%%time\n",
    "y_cat_pred = model_cat.predict(X_test)"
   ]
  },
  {
   "cell_type": "code",
   "execution_count": 61,
   "metadata": {
    "scrolled": false
   },
   "outputs": [
    {
     "data": {
      "text/plain": [
       "1686.1501787103205"
      ]
     },
     "execution_count": 61,
     "metadata": {},
     "output_type": "execute_result"
    }
   ],
   "source": [
    "rmse(y_test, y_cat_pred)"
   ]
  },
  {
   "cell_type": "markdown",
   "metadata": {},
   "source": [
    "Посмотрим так же какие признаки модель считает самыми важными. "
   ]
  },
  {
   "cell_type": "code",
   "execution_count": 62,
   "metadata": {},
   "outputs": [],
   "source": [
    "importances = pd.DataFrame(model_cat.feature_importances_, index = X_train.columns, columns=['Importance'])"
   ]
  },
  {
   "cell_type": "code",
   "execution_count": 63,
   "metadata": {},
   "outputs": [
    {
     "data": {
      "text/html": [
       "<div>\n",
       "<style scoped>\n",
       "    .dataframe tbody tr th:only-of-type {\n",
       "        vertical-align: middle;\n",
       "    }\n",
       "\n",
       "    .dataframe tbody tr th {\n",
       "        vertical-align: top;\n",
       "    }\n",
       "\n",
       "    .dataframe thead th {\n",
       "        text-align: right;\n",
       "    }\n",
       "</style>\n",
       "<table border=\"1\" class=\"dataframe\">\n",
       "  <thead>\n",
       "    <tr style=\"text-align: right;\">\n",
       "      <th></th>\n",
       "      <th>Importance</th>\n",
       "    </tr>\n",
       "  </thead>\n",
       "  <tbody>\n",
       "    <tr>\n",
       "      <td>VehicleType</td>\n",
       "      <td>9.774242</td>\n",
       "    </tr>\n",
       "    <tr>\n",
       "      <td>RegistrationYear</td>\n",
       "      <td>37.431067</td>\n",
       "    </tr>\n",
       "    <tr>\n",
       "      <td>Gearbox</td>\n",
       "      <td>0.274144</td>\n",
       "    </tr>\n",
       "    <tr>\n",
       "      <td>Power</td>\n",
       "      <td>24.573517</td>\n",
       "    </tr>\n",
       "    <tr>\n",
       "      <td>Model</td>\n",
       "      <td>3.894494</td>\n",
       "    </tr>\n",
       "    <tr>\n",
       "      <td>Kilometer</td>\n",
       "      <td>12.435596</td>\n",
       "    </tr>\n",
       "    <tr>\n",
       "      <td>FuelType</td>\n",
       "      <td>2.132354</td>\n",
       "    </tr>\n",
       "    <tr>\n",
       "      <td>Brand</td>\n",
       "      <td>6.889603</td>\n",
       "    </tr>\n",
       "    <tr>\n",
       "      <td>NotRepaired</td>\n",
       "      <td>2.594984</td>\n",
       "    </tr>\n",
       "  </tbody>\n",
       "</table>\n",
       "</div>"
      ],
      "text/plain": [
       "                  Importance\n",
       "VehicleType         9.774242\n",
       "RegistrationYear   37.431067\n",
       "Gearbox             0.274144\n",
       "Power              24.573517\n",
       "Model               3.894494\n",
       "Kilometer          12.435596\n",
       "FuelType            2.132354\n",
       "Brand               6.889603\n",
       "NotRepaired         2.594984"
      ]
     },
     "execution_count": 63,
     "metadata": {},
     "output_type": "execute_result"
    }
   ],
   "source": [
    "importances"
   ]
  },
  {
   "cell_type": "code",
   "execution_count": 64,
   "metadata": {
    "scrolled": false
   },
   "outputs": [
    {
     "data": {
      "image/png": "[encoded data removed]",
      "text/plain": [
       "<Figure size 1440x720 with 1 Axes>"
      ]
     },
     "metadata": {
      "needs_background": "light"
     },
     "output_type": "display_data"
    }
   ],
   "source": [
    "sns.barplot(data=importances, x='Importance', y=importances.index, \n",
    "            order = importances.sort_values(by='Importance', ascending = False).index)\n",
    "plt.title('Feature Importances');  "
   ]
  },
  {
   "cell_type": "markdown",
   "metadata": {},
   "source": [
    "Для CatBoost самым важным параметром оказался год регистрации. Интересно, что в отличае от LGBM модель автомобиля для него не очень важна. В остальном важность признаков для обоих этих моделей похожа."
   ]
  },
  {
   "cell_type": "markdown",
   "metadata": {},
   "source": [
    "# 3. Анализ моделей"
   ]
  },
  {
   "cell_type": "markdown",
   "metadata": {},
   "source": [
    "Составим сводную таблицу исследованных моделей."
   ]
  },
  {
   "cell_type": "markdown",
   "metadata": {},
   "source": [
    "| Модель | Качество предсказания  (RMSE) | Скорость предсказания, c | Скорость обучения, c |\n",
    "|:-:|:-:|:-:|:-:|\n",
    "| Константная модель | 4853 | $627\\cdot10^{-6}$ | $8.3\\cdot10^{-3}$ |\n",
    "| Дерево решений | 1828 | $183\\cdot10^{-3}$ | 11+2.3|\n",
    "| LightGBM | 1585 | 1.78 | 21.6 |\n",
    "| CatBoost | 1686 | $349\\cdot10^{-3}$ | 173 |"
   ]
  },
  {
   "cell_type": "markdown",
   "metadata": {},
   "source": [
    "Итак, быстрее всего, очевидно, работет константная модель, ведь все что ей нужно это запомнить медианное значение тренировочного датасета и предсказать его для всех экземпляров тестового множества. Однакое её качество мало подходит для нас. Дерево решений простое, быстро обучается и показывает неплохую точность, однако модели с использованием бустинга показывают себя гораздо лучше.  \n",
    "\n",
    "Качество LightGBM и CatBoost приблизительно сопоставимы, а вот у времени работы каждой модели бустинга из этих библиотек имеет свои особенности.  \n",
    "Так, LightGBM быстро обучается, время обучения на 100 итерациях приблизительно сопоставимо со временем обучения одиночного дерева. Однако при этом предсказания занимают гораздо больше времени.  \n",
    "У CatBoost ситуация прямо обратная, время предсказания сопоставимо с таковым у одиночного дерева, а вот обучение происходит значительно дольше.   \n",
    "\n",
    "В итоге выбор модели зависит от того, какие именно параметры важнее для данного заказчика. Если важна именно скорость предсказания и можно позволить себе потратить время на обучение - лучше использовать CatBoost. Если скорость обучения более важна, хорошо покажет себя LightGBM."
   ]
  }
 ],
 "metadata": {
  "kernelspec": {
   "display_name": "Python 3",
   "language": "python",
   "name": "python3"
  },
  "language_info": {
   "codemirror_mode": {
    "name": "ipython",
    "version": 3
   },
   "file_extension": ".py",
   "mimetype": "text/x-python",
   "name": "python",
   "nbconvert_exporter": "python",
   "pygments_lexer": "ipython3",
   "version": "3.6.5"
  }
 },
 "nbformat": 4,
 "nbformat_minor": 2
}
