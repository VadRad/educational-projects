{
 "cells": [
  {
   "cell_type": "markdown",
   "metadata": {},
   "source": [
    "# Исследование надёжности заёмщиков\n",
    "\n",
    "Заказчик — кредитный отдел банка. Нужно разобраться, влияет ли семейное положение и количество детей клиента на факт погашения кредита в срок. Входные данные от банка — статистика о платёжеспособности клиентов.\n",
    "\n",
    "Результаты исследования будут учтены при построении модели **кредитного скоринга** — специальной системы, которая оценивает способность потенциального заёмщика вернуть кредит банку."
   ]
  },
  {
   "cell_type": "markdown",
   "metadata": {},
   "source": [
    "### Шаг 1. Открытие файла с данными и изучение общей информации. "
   ]
  },
  {
   "cell_type": "markdown",
   "metadata": {},
   "source": [
    "Поместим файл в DataFrame и с помощью метода .info() получим общую информацию, а так же выведем первые первые 10 строчек таблицы.  \n"
   ]
  },
  {
   "cell_type": "code",
   "execution_count": 1,
   "metadata": {},
   "outputs": [
    {
     "name": "stdout",
     "output_type": "stream",
     "text": [
      "<class 'pandas.core.frame.DataFrame'>\n",
      "RangeIndex: 21525 entries, 0 to 21524\n",
      "Data columns (total 12 columns):\n",
      "children            21525 non-null int64\n",
      "days_employed       19351 non-null float64\n",
      "dob_years           21525 non-null int64\n",
      "education           21525 non-null object\n",
      "education_id        21525 non-null int64\n",
      "family_status       21525 non-null object\n",
      "family_status_id    21525 non-null int64\n",
      "gender              21525 non-null object\n",
      "income_type         21525 non-null object\n",
      "debt                21525 non-null int64\n",
      "total_income        19351 non-null float64\n",
      "purpose             21525 non-null object\n",
      "dtypes: float64(2), int64(5), object(5)\n",
      "memory usage: 2.0+ MB\n"
     ]
    },
    {
     "data": {
      "text/html": [
       "<div>\n",
       "<style scoped>\n",
       "    .dataframe tbody tr th:only-of-type {\n",
       "        vertical-align: middle;\n",
       "    }\n",
       "\n",
       "    .dataframe tbody tr th {\n",
       "        vertical-align: top;\n",
       "    }\n",
       "\n",
       "    .dataframe thead th {\n",
       "        text-align: right;\n",
       "    }\n",
       "</style>\n",
       "<table border=\"1\" class=\"dataframe\">\n",
       "  <thead>\n",
       "    <tr style=\"text-align: right;\">\n",
       "      <th></th>\n",
       "      <th>children</th>\n",
       "      <th>days_employed</th>\n",
       "      <th>dob_years</th>\n",
       "      <th>education</th>\n",
       "      <th>education_id</th>\n",
       "      <th>family_status</th>\n",
       "      <th>family_status_id</th>\n",
       "      <th>gender</th>\n",
       "      <th>income_type</th>\n",
       "      <th>debt</th>\n",
       "      <th>total_income</th>\n",
       "      <th>purpose</th>\n",
       "    </tr>\n",
       "  </thead>\n",
       "  <tbody>\n",
       "    <tr>\n",
       "      <td>0</td>\n",
       "      <td>1</td>\n",
       "      <td>-8437.673028</td>\n",
       "      <td>42</td>\n",
       "      <td>высшее</td>\n",
       "      <td>0</td>\n",
       "      <td>женат / замужем</td>\n",
       "      <td>0</td>\n",
       "      <td>F</td>\n",
       "      <td>сотрудник</td>\n",
       "      <td>0</td>\n",
       "      <td>253875.639453</td>\n",
       "      <td>покупка жилья</td>\n",
       "    </tr>\n",
       "    <tr>\n",
       "      <td>1</td>\n",
       "      <td>1</td>\n",
       "      <td>-4024.803754</td>\n",
       "      <td>36</td>\n",
       "      <td>среднее</td>\n",
       "      <td>1</td>\n",
       "      <td>женат / замужем</td>\n",
       "      <td>0</td>\n",
       "      <td>F</td>\n",
       "      <td>сотрудник</td>\n",
       "      <td>0</td>\n",
       "      <td>112080.014102</td>\n",
       "      <td>приобретение автомобиля</td>\n",
       "    </tr>\n",
       "    <tr>\n",
       "      <td>2</td>\n",
       "      <td>0</td>\n",
       "      <td>-5623.422610</td>\n",
       "      <td>33</td>\n",
       "      <td>Среднее</td>\n",
       "      <td>1</td>\n",
       "      <td>женат / замужем</td>\n",
       "      <td>0</td>\n",
       "      <td>M</td>\n",
       "      <td>сотрудник</td>\n",
       "      <td>0</td>\n",
       "      <td>145885.952297</td>\n",
       "      <td>покупка жилья</td>\n",
       "    </tr>\n",
       "    <tr>\n",
       "      <td>3</td>\n",
       "      <td>3</td>\n",
       "      <td>-4124.747207</td>\n",
       "      <td>32</td>\n",
       "      <td>среднее</td>\n",
       "      <td>1</td>\n",
       "      <td>женат / замужем</td>\n",
       "      <td>0</td>\n",
       "      <td>M</td>\n",
       "      <td>сотрудник</td>\n",
       "      <td>0</td>\n",
       "      <td>267628.550329</td>\n",
       "      <td>дополнительное образование</td>\n",
       "    </tr>\n",
       "    <tr>\n",
       "      <td>4</td>\n",
       "      <td>0</td>\n",
       "      <td>340266.072047</td>\n",
       "      <td>53</td>\n",
       "      <td>среднее</td>\n",
       "      <td>1</td>\n",
       "      <td>гражданский брак</td>\n",
       "      <td>1</td>\n",
       "      <td>F</td>\n",
       "      <td>пенсионер</td>\n",
       "      <td>0</td>\n",
       "      <td>158616.077870</td>\n",
       "      <td>сыграть свадьбу</td>\n",
       "    </tr>\n",
       "    <tr>\n",
       "      <td>5</td>\n",
       "      <td>0</td>\n",
       "      <td>-926.185831</td>\n",
       "      <td>27</td>\n",
       "      <td>высшее</td>\n",
       "      <td>0</td>\n",
       "      <td>гражданский брак</td>\n",
       "      <td>1</td>\n",
       "      <td>M</td>\n",
       "      <td>компаньон</td>\n",
       "      <td>0</td>\n",
       "      <td>255763.565419</td>\n",
       "      <td>покупка жилья</td>\n",
       "    </tr>\n",
       "    <tr>\n",
       "      <td>6</td>\n",
       "      <td>0</td>\n",
       "      <td>-2879.202052</td>\n",
       "      <td>43</td>\n",
       "      <td>высшее</td>\n",
       "      <td>0</td>\n",
       "      <td>женат / замужем</td>\n",
       "      <td>0</td>\n",
       "      <td>F</td>\n",
       "      <td>компаньон</td>\n",
       "      <td>0</td>\n",
       "      <td>240525.971920</td>\n",
       "      <td>операции с жильем</td>\n",
       "    </tr>\n",
       "    <tr>\n",
       "      <td>7</td>\n",
       "      <td>0</td>\n",
       "      <td>-152.779569</td>\n",
       "      <td>50</td>\n",
       "      <td>СРЕДНЕЕ</td>\n",
       "      <td>1</td>\n",
       "      <td>женат / замужем</td>\n",
       "      <td>0</td>\n",
       "      <td>M</td>\n",
       "      <td>сотрудник</td>\n",
       "      <td>0</td>\n",
       "      <td>135823.934197</td>\n",
       "      <td>образование</td>\n",
       "    </tr>\n",
       "    <tr>\n",
       "      <td>8</td>\n",
       "      <td>2</td>\n",
       "      <td>-6929.865299</td>\n",
       "      <td>35</td>\n",
       "      <td>ВЫСШЕЕ</td>\n",
       "      <td>0</td>\n",
       "      <td>гражданский брак</td>\n",
       "      <td>1</td>\n",
       "      <td>F</td>\n",
       "      <td>сотрудник</td>\n",
       "      <td>0</td>\n",
       "      <td>95856.832424</td>\n",
       "      <td>на проведение свадьбы</td>\n",
       "    </tr>\n",
       "    <tr>\n",
       "      <td>9</td>\n",
       "      <td>0</td>\n",
       "      <td>-2188.756445</td>\n",
       "      <td>41</td>\n",
       "      <td>среднее</td>\n",
       "      <td>1</td>\n",
       "      <td>женат / замужем</td>\n",
       "      <td>0</td>\n",
       "      <td>M</td>\n",
       "      <td>сотрудник</td>\n",
       "      <td>0</td>\n",
       "      <td>144425.938277</td>\n",
       "      <td>покупка жилья для семьи</td>\n",
       "    </tr>\n",
       "  </tbody>\n",
       "</table>\n",
       "</div>"
      ],
      "text/plain": [
       "   children  days_employed  dob_years education  education_id  \\\n",
       "0         1   -8437.673028         42    высшее             0   \n",
       "1         1   -4024.803754         36   среднее             1   \n",
       "2         0   -5623.422610         33   Среднее             1   \n",
       "3         3   -4124.747207         32   среднее             1   \n",
       "4         0  340266.072047         53   среднее             1   \n",
       "5         0    -926.185831         27    высшее             0   \n",
       "6         0   -2879.202052         43    высшее             0   \n",
       "7         0    -152.779569         50   СРЕДНЕЕ             1   \n",
       "8         2   -6929.865299         35    ВЫСШЕЕ             0   \n",
       "9         0   -2188.756445         41   среднее             1   \n",
       "\n",
       "      family_status  family_status_id gender income_type  debt   total_income  \\\n",
       "0   женат / замужем                 0      F   сотрудник     0  253875.639453   \n",
       "1   женат / замужем                 0      F   сотрудник     0  112080.014102   \n",
       "2   женат / замужем                 0      M   сотрудник     0  145885.952297   \n",
       "3   женат / замужем                 0      M   сотрудник     0  267628.550329   \n",
       "4  гражданский брак                 1      F   пенсионер     0  158616.077870   \n",
       "5  гражданский брак                 1      M   компаньон     0  255763.565419   \n",
       "6   женат / замужем                 0      F   компаньон     0  240525.971920   \n",
       "7   женат / замужем                 0      M   сотрудник     0  135823.934197   \n",
       "8  гражданский брак                 1      F   сотрудник     0   95856.832424   \n",
       "9   женат / замужем                 0      M   сотрудник     0  144425.938277   \n",
       "\n",
       "                      purpose  \n",
       "0               покупка жилья  \n",
       "1     приобретение автомобиля  \n",
       "2               покупка жилья  \n",
       "3  дополнительное образование  \n",
       "4             сыграть свадьбу  \n",
       "5               покупка жилья  \n",
       "6           операции с жильем  \n",
       "7                 образование  \n",
       "8       на проведение свадьбы  \n",
       "9     покупка жилья для семьи  "
      ]
     },
     "execution_count": 1,
     "metadata": {},
     "output_type": "execute_result"
    }
   ],
   "source": [
    "import pandas as pd\n",
    "df = pd.read_csv('/datasets/data.csv')\n",
    "df.info()\n",
    "df.head(10)"
   ]
  },
  {
   "cell_type": "markdown",
   "metadata": {},
   "source": [
    "Проверим категориальные признаки на наличае проблем:"
   ]
  },
  {
   "cell_type": "code",
   "execution_count": 2,
   "metadata": {},
   "outputs": [
    {
     "data": {
      "text/plain": [
       "среднее                13750\n",
       "высшее                  4718\n",
       "СРЕДНЕЕ                  772\n",
       "Среднее                  711\n",
       "неоконченное высшее      668\n",
       "ВЫСШЕЕ                   274\n",
       "Высшее                   268\n",
       "начальное                250\n",
       "Неоконченное высшее       47\n",
       "НЕОКОНЧЕННОЕ ВЫСШЕЕ       29\n",
       "НАЧАЛЬНОЕ                 17\n",
       "Начальное                 15\n",
       "ученая степень             4\n",
       "Ученая степень             1\n",
       "УЧЕНАЯ СТЕПЕНЬ             1\n",
       "Name: education, dtype: int64"
      ]
     },
     "execution_count": 2,
     "metadata": {},
     "output_type": "execute_result"
    }
   ],
   "source": [
    "df['education'].value_counts() "
   ]
  },
  {
   "cell_type": "code",
   "execution_count": 3,
   "metadata": {},
   "outputs": [
    {
     "data": {
      "text/plain": [
       "женат / замужем          12380\n",
       "гражданский брак          4177\n",
       "Не женат / не замужем     2813\n",
       "в разводе                 1195\n",
       "вдовец / вдова             960\n",
       "Name: family_status, dtype: int64"
      ]
     },
     "execution_count": 3,
     "metadata": {},
     "output_type": "execute_result"
    }
   ],
   "source": [
    "df['family_status'].value_counts()"
   ]
  },
  {
   "cell_type": "code",
   "execution_count": 4,
   "metadata": {},
   "outputs": [
    {
     "data": {
      "text/plain": [
       "сотрудник          11119\n",
       "компаньон           5085\n",
       "пенсионер           3856\n",
       "госслужащий         1459\n",
       "безработный            2\n",
       "предприниматель        2\n",
       "в декрете              1\n",
       "студент                1\n",
       "Name: income_type, dtype: int64"
      ]
     },
     "execution_count": 4,
     "metadata": {},
     "output_type": "execute_result"
    }
   ],
   "source": [
    "df['income_type'].value_counts()"
   ]
  },
  {
   "cell_type": "code",
   "execution_count": 5,
   "metadata": {},
   "outputs": [
    {
     "data": {
      "text/plain": [
       "F      14236\n",
       "M       7288\n",
       "XNA        1\n",
       "Name: gender, dtype: int64"
      ]
     },
     "execution_count": 5,
     "metadata": {},
     "output_type": "execute_result"
    }
   ],
   "source": [
    "df['gender'].value_counts()"
   ]
  },
  {
   "cell_type": "code",
   "execution_count": 6,
   "metadata": {},
   "outputs": [
    {
     "data": {
      "text/plain": [
       "свадьба                                   797\n",
       "на проведение свадьбы                     777\n",
       "сыграть свадьбу                           774\n",
       "операции с недвижимостью                  676\n",
       "покупка коммерческой недвижимости         664\n",
       "покупка жилья для сдачи                   653\n",
       "операции с жильем                         653\n",
       "операции с коммерческой недвижимостью     651\n",
       "покупка жилья                             647\n",
       "жилье                                     647\n",
       "покупка жилья для семьи                   641\n",
       "строительство собственной недвижимости    635\n",
       "недвижимость                              634\n",
       "операции со своей недвижимостью           630\n",
       "строительство жилой недвижимости          626\n",
       "покупка недвижимости                      624\n",
       "покупка своего жилья                      620\n",
       "строительство недвижимости                620\n",
       "ремонт жилью                              612\n",
       "покупка жилой недвижимости                607\n",
       "на покупку своего автомобиля              505\n",
       "заняться высшим образованием              496\n",
       "автомобиль                                495\n",
       "сделка с подержанным автомобилем          489\n",
       "свой автомобиль                           480\n",
       "на покупку подержанного автомобиля        479\n",
       "автомобили                                478\n",
       "на покупку автомобиля                     472\n",
       "приобретение автомобиля                   462\n",
       "дополнительное образование                462\n",
       "сделка с автомобилем                      455\n",
       "высшее образование                        453\n",
       "получение дополнительного образования     447\n",
       "образование                               447\n",
       "получение образования                     443\n",
       "профильное образование                    436\n",
       "получение высшего образования             426\n",
       "заняться образованием                     412\n",
       "Name: purpose, dtype: int64"
      ]
     },
     "execution_count": 6,
     "metadata": {},
     "output_type": "execute_result"
    }
   ],
   "source": [
    "df['purpose'].value_counts()"
   ]
  },
  {
   "cell_type": "markdown",
   "metadata": {},
   "source": [
    "### Вывод "
   ]
  },
  {
   "cell_type": "markdown",
   "metadata": {},
   "source": [
    "С названиями столбцов все в норме, при этом в столбцах \"days_employed\" и \"total_income\" есть пропущенные значения (обработка значений производится в шаге 2.1). Эти же столбцы имеют тип данных float64, так как нам вряд ли понадобится знать доход с точностью до тысячной доли копейки (да и само количество знаков после запятой наводит на мысль, что такая избыточность возникла в результате деления), имеет смысл привести эти столбцы к целочисленному типу данных (пункт 2.2)  \n",
    "При этом в столбце \"days_employed\" содержаться так же отрицательные значения и значения заведомо превышающие возможные. Вероятно это связано с особенностями представления даты (например если значение представляется как разница между днем подачи заявления и днем принятия на работу). В задании нет необходимости анализировать стаж, поэтому никаких исправлений неизвестно как работающей Series не требуется.\n",
    "\n",
    "Видимые проблемы есть со столбцом education, строковые значения которого написаны в различных регистрах (о причинах этого и обработке в пункте 2.3) Эти значения необходимо привести к нижнему регистру для корректной обработки дубликатов.  \n",
    "\n",
    "Стоблец \"family_status\" не содержит не содержит критических ошибок, хотя вариант \"Не женат\" и написан с большой буквы, что приводит к нежелательному нарушению единообразия (исправление в пункте 2.2).  \n",
    "\n",
    "Столбец \"income_type\" также не нуждается в испровлении, однако заметна разбалансировка классов, одни значения (безработный, предприниматель, студент, в декрете) встречаются значительно реже остальных, что может привести к неправильной работе моделей машинного обучения (если они будут применяться).\n",
    "\n",
    "В столбце \"gender\" есть одно пропущенное значение. (попытка его заменить будет предпринята в пункте 2.1) \n",
    "\n",
    "Так же столбец \"purpose\" содержит очевидно одинаковые цели, написаные разными формулировками. Чтобы исправить это необходимо произвести лемматизацию (в пункте 2.4).  \n"
   ]
  },
  {
   "cell_type": "markdown",
   "metadata": {},
   "source": [
    "### Шаг 2. Предобработка данных"
   ]
  },
  {
   "cell_type": "markdown",
   "metadata": {},
   "source": [
    "### 2.1. Обработка пропусков"
   ]
  },
  {
   "cell_type": "markdown",
   "metadata": {},
   "source": [
    "#### 2.1.1. Потерянные значения в dob_years"
   ]
  },
  {
   "cell_type": "markdown",
   "metadata": {},
   "source": [
    "Количество уникальных значений в столбце возраста велико, поэтому для наглядности начертим гистограмму "
   ]
  },
  {
   "cell_type": "code",
   "execution_count": 7,
   "metadata": {},
   "outputs": [
    {
     "data": {
      "text/plain": [
       "(array([101.,   0.,   0.,   0.,   0.,   0.,   0.,   0.,   0.,   0.,   0.,\n",
       "          0.,   0.,   0.,   0.,   0.,   0.,   0.,   0.,  14.,  51., 111.,\n",
       "        183., 254., 264., 357., 408., 493., 503., 545., 540., 560., 510.,\n",
       "        581., 603., 617., 555., 537., 598., 573., 609., 607., 597., 513.,\n",
       "        547., 497., 475., 480., 538., 508., 514., 448., 484., 459., 479.,\n",
       "        443., 487., 460., 461., 444., 377., 355., 352., 269., 265., 194.,\n",
       "        183., 167.,  99.,  85.,  65.,  58.,  33.,   8.,   7.]),\n",
       " array([ 0.,  1.,  2.,  3.,  4.,  5.,  6.,  7.,  8.,  9., 10., 11., 12.,\n",
       "        13., 14., 15., 16., 17., 18., 19., 20., 21., 22., 23., 24., 25.,\n",
       "        26., 27., 28., 29., 30., 31., 32., 33., 34., 35., 36., 37., 38.,\n",
       "        39., 40., 41., 42., 43., 44., 45., 46., 47., 48., 49., 50., 51.,\n",
       "        52., 53., 54., 55., 56., 57., 58., 59., 60., 61., 62., 63., 64.,\n",
       "        65., 66., 67., 68., 69., 70., 71., 72., 73., 74., 75.]),\n",
       " <a list of 75 Patch objects>)"
      ]
     },
     "execution_count": 7,
     "metadata": {},
     "output_type": "execute_result"
    },
    {
     "data": {
      "image/png": "[encoded data removed]",
      "text/plain": [
       "<Figure size 432x288 with 1 Axes>"
      ]
     },
     "metadata": {
      "needs_background": "light"
     },
     "output_type": "display_data"
    }
   ],
   "source": [
    "import matplotlib.pyplot as plt\n",
    "plt.hist(df['dob_years'], edgecolor = 'k', bins = 75) # кол-во необходимых бинов найдено как разница между максимальным и минимальным значениями столбца, для того чтобы каждый бин соответствовал одному значению возраста"
   ]
  },
  {
   "cell_type": "markdown",
   "metadata": {},
   "source": [
    "Можно заметить, что в данных встречаются артефакты: у 101 записи значение \"dob_years\" равно 0. Скорее всего значение возраста просто не было указано клиентом и 0 представляет собой заглушку на этот случай. Для анализа возможно следует заменить нули на како-либо значение. При этом имеет смысл использовать медиану, так как среднее значение не будет отражать реальные данные (как видно из гистограммы распределение сдвинуто в сторону людей 20-30 лет, используя среднее мы получим завышенное значение)"
   ]
  },
  {
   "cell_type": "code",
   "execution_count": 8,
   "metadata": {},
   "outputs": [
    {
     "data": {
      "text/html": [
       "<div>\n",
       "<style scoped>\n",
       "    .dataframe tbody tr th:only-of-type {\n",
       "        vertical-align: middle;\n",
       "    }\n",
       "\n",
       "    .dataframe tbody tr th {\n",
       "        vertical-align: top;\n",
       "    }\n",
       "\n",
       "    .dataframe thead th {\n",
       "        text-align: right;\n",
       "    }\n",
       "</style>\n",
       "<table border=\"1\" class=\"dataframe\">\n",
       "  <thead>\n",
       "    <tr style=\"text-align: right;\">\n",
       "      <th></th>\n",
       "      <th>children</th>\n",
       "      <th>days_employed</th>\n",
       "      <th>dob_years</th>\n",
       "      <th>education</th>\n",
       "      <th>education_id</th>\n",
       "      <th>family_status</th>\n",
       "      <th>family_status_id</th>\n",
       "      <th>gender</th>\n",
       "      <th>income_type</th>\n",
       "      <th>debt</th>\n",
       "      <th>total_income</th>\n",
       "      <th>purpose</th>\n",
       "    </tr>\n",
       "  </thead>\n",
       "  <tbody>\n",
       "    <tr>\n",
       "      <td>99</td>\n",
       "      <td>0</td>\n",
       "      <td>346541.618895</td>\n",
       "      <td>0</td>\n",
       "      <td>Среднее</td>\n",
       "      <td>1</td>\n",
       "      <td>женат / замужем</td>\n",
       "      <td>0</td>\n",
       "      <td>F</td>\n",
       "      <td>пенсионер</td>\n",
       "      <td>0</td>\n",
       "      <td>71291.522491</td>\n",
       "      <td>автомобиль</td>\n",
       "    </tr>\n",
       "    <tr>\n",
       "      <td>149</td>\n",
       "      <td>0</td>\n",
       "      <td>-2664.273168</td>\n",
       "      <td>0</td>\n",
       "      <td>среднее</td>\n",
       "      <td>1</td>\n",
       "      <td>в разводе</td>\n",
       "      <td>3</td>\n",
       "      <td>F</td>\n",
       "      <td>сотрудник</td>\n",
       "      <td>0</td>\n",
       "      <td>70176.435951</td>\n",
       "      <td>операции с жильем</td>\n",
       "    </tr>\n",
       "    <tr>\n",
       "      <td>270</td>\n",
       "      <td>3</td>\n",
       "      <td>-1872.663186</td>\n",
       "      <td>0</td>\n",
       "      <td>среднее</td>\n",
       "      <td>1</td>\n",
       "      <td>женат / замужем</td>\n",
       "      <td>0</td>\n",
       "      <td>F</td>\n",
       "      <td>сотрудник</td>\n",
       "      <td>0</td>\n",
       "      <td>102166.458894</td>\n",
       "      <td>ремонт жилью</td>\n",
       "    </tr>\n",
       "    <tr>\n",
       "      <td>578</td>\n",
       "      <td>0</td>\n",
       "      <td>397856.565013</td>\n",
       "      <td>0</td>\n",
       "      <td>среднее</td>\n",
       "      <td>1</td>\n",
       "      <td>женат / замужем</td>\n",
       "      <td>0</td>\n",
       "      <td>F</td>\n",
       "      <td>пенсионер</td>\n",
       "      <td>0</td>\n",
       "      <td>97620.687042</td>\n",
       "      <td>строительство собственной недвижимости</td>\n",
       "    </tr>\n",
       "    <tr>\n",
       "      <td>1040</td>\n",
       "      <td>0</td>\n",
       "      <td>-1158.029561</td>\n",
       "      <td>0</td>\n",
       "      <td>высшее</td>\n",
       "      <td>0</td>\n",
       "      <td>в разводе</td>\n",
       "      <td>3</td>\n",
       "      <td>F</td>\n",
       "      <td>компаньон</td>\n",
       "      <td>0</td>\n",
       "      <td>303994.134987</td>\n",
       "      <td>свой автомобиль</td>\n",
       "    </tr>\n",
       "    <tr>\n",
       "      <td>...</td>\n",
       "      <td>...</td>\n",
       "      <td>...</td>\n",
       "      <td>...</td>\n",
       "      <td>...</td>\n",
       "      <td>...</td>\n",
       "      <td>...</td>\n",
       "      <td>...</td>\n",
       "      <td>...</td>\n",
       "      <td>...</td>\n",
       "      <td>...</td>\n",
       "      <td>...</td>\n",
       "      <td>...</td>\n",
       "    </tr>\n",
       "    <tr>\n",
       "      <td>19829</td>\n",
       "      <td>0</td>\n",
       "      <td>NaN</td>\n",
       "      <td>0</td>\n",
       "      <td>среднее</td>\n",
       "      <td>1</td>\n",
       "      <td>женат / замужем</td>\n",
       "      <td>0</td>\n",
       "      <td>F</td>\n",
       "      <td>сотрудник</td>\n",
       "      <td>0</td>\n",
       "      <td>NaN</td>\n",
       "      <td>жилье</td>\n",
       "    </tr>\n",
       "    <tr>\n",
       "      <td>20462</td>\n",
       "      <td>0</td>\n",
       "      <td>338734.868540</td>\n",
       "      <td>0</td>\n",
       "      <td>среднее</td>\n",
       "      <td>1</td>\n",
       "      <td>женат / замужем</td>\n",
       "      <td>0</td>\n",
       "      <td>F</td>\n",
       "      <td>пенсионер</td>\n",
       "      <td>0</td>\n",
       "      <td>259193.920299</td>\n",
       "      <td>покупка своего жилья</td>\n",
       "    </tr>\n",
       "    <tr>\n",
       "      <td>20577</td>\n",
       "      <td>0</td>\n",
       "      <td>331741.271455</td>\n",
       "      <td>0</td>\n",
       "      <td>среднее</td>\n",
       "      <td>1</td>\n",
       "      <td>Не женат / не замужем</td>\n",
       "      <td>4</td>\n",
       "      <td>F</td>\n",
       "      <td>пенсионер</td>\n",
       "      <td>0</td>\n",
       "      <td>129788.762899</td>\n",
       "      <td>недвижимость</td>\n",
       "    </tr>\n",
       "    <tr>\n",
       "      <td>21179</td>\n",
       "      <td>2</td>\n",
       "      <td>-108.967042</td>\n",
       "      <td>0</td>\n",
       "      <td>высшее</td>\n",
       "      <td>0</td>\n",
       "      <td>женат / замужем</td>\n",
       "      <td>0</td>\n",
       "      <td>M</td>\n",
       "      <td>компаньон</td>\n",
       "      <td>0</td>\n",
       "      <td>240702.007382</td>\n",
       "      <td>строительство жилой недвижимости</td>\n",
       "    </tr>\n",
       "    <tr>\n",
       "      <td>21313</td>\n",
       "      <td>0</td>\n",
       "      <td>-1268.487728</td>\n",
       "      <td>0</td>\n",
       "      <td>среднее</td>\n",
       "      <td>1</td>\n",
       "      <td>Не женат / не замужем</td>\n",
       "      <td>4</td>\n",
       "      <td>M</td>\n",
       "      <td>сотрудник</td>\n",
       "      <td>0</td>\n",
       "      <td>152419.184851</td>\n",
       "      <td>операции с жильем</td>\n",
       "    </tr>\n",
       "  </tbody>\n",
       "</table>\n",
       "<p>101 rows × 12 columns</p>\n",
       "</div>"
      ],
      "text/plain": [
       "       children  days_employed  dob_years education  education_id  \\\n",
       "99            0  346541.618895          0   Среднее             1   \n",
       "149           0   -2664.273168          0   среднее             1   \n",
       "270           3   -1872.663186          0   среднее             1   \n",
       "578           0  397856.565013          0   среднее             1   \n",
       "1040          0   -1158.029561          0    высшее             0   \n",
       "...         ...            ...        ...       ...           ...   \n",
       "19829         0            NaN          0   среднее             1   \n",
       "20462         0  338734.868540          0   среднее             1   \n",
       "20577         0  331741.271455          0   среднее             1   \n",
       "21179         2    -108.967042          0    высшее             0   \n",
       "21313         0   -1268.487728          0   среднее             1   \n",
       "\n",
       "               family_status  family_status_id gender income_type  debt  \\\n",
       "99           женат / замужем                 0      F   пенсионер     0   \n",
       "149                в разводе                 3      F   сотрудник     0   \n",
       "270          женат / замужем                 0      F   сотрудник     0   \n",
       "578          женат / замужем                 0      F   пенсионер     0   \n",
       "1040               в разводе                 3      F   компаньон     0   \n",
       "...                      ...               ...    ...         ...   ...   \n",
       "19829        женат / замужем                 0      F   сотрудник     0   \n",
       "20462        женат / замужем                 0      F   пенсионер     0   \n",
       "20577  Не женат / не замужем                 4      F   пенсионер     0   \n",
       "21179        женат / замужем                 0      M   компаньон     0   \n",
       "21313  Не женат / не замужем                 4      M   сотрудник     0   \n",
       "\n",
       "        total_income                                 purpose  \n",
       "99      71291.522491                              автомобиль  \n",
       "149     70176.435951                       операции с жильем  \n",
       "270    102166.458894                            ремонт жилью  \n",
       "578     97620.687042  строительство собственной недвижимости  \n",
       "1040   303994.134987                         свой автомобиль  \n",
       "...              ...                                     ...  \n",
       "19829            NaN                                   жилье  \n",
       "20462  259193.920299                    покупка своего жилья  \n",
       "20577  129788.762899                            недвижимость  \n",
       "21179  240702.007382        строительство жилой недвижимости  \n",
       "21313  152419.184851                       операции с жильем  \n",
       "\n",
       "[101 rows x 12 columns]"
      ]
     },
     "execution_count": 8,
     "metadata": {},
     "output_type": "execute_result"
    }
   ],
   "source": [
    "df.loc[df['dob_years']==0]"
   ]
  },
  {
   "cell_type": "code",
   "execution_count": 9,
   "metadata": {},
   "outputs": [],
   "source": [
    "df.loc[df['dob_years']==0, 'dob_years'] = int(df['dob_years'].median())"
   ]
  },
  {
   "cell_type": "markdown",
   "metadata": {},
   "source": [
    "Так как нам нет необходимость анализировать зависимость возвратов от возраста клиента мы могли бы этого и не делать, но если такая задача вдруг появится - мы будем готовы."
   ]
  },
  {
   "cell_type": "markdown",
   "metadata": {},
   "source": [
    "#### 2.1.2. Пропуски в total_income"
   ]
  },
  {
   "cell_type": "code",
   "execution_count": 10,
   "metadata": {},
   "outputs": [
    {
     "data": {
      "text/plain": [
       "children            2174\n",
       "days_employed          0\n",
       "dob_years           2174\n",
       "education           2174\n",
       "education_id        2174\n",
       "family_status       2174\n",
       "family_status_id    2174\n",
       "gender              2174\n",
       "income_type         2174\n",
       "debt                2174\n",
       "total_income           0\n",
       "purpose             2174\n",
       "dtype: int64"
      ]
     },
     "execution_count": 10,
     "metadata": {},
     "output_type": "execute_result"
    }
   ],
   "source": [
    "df[df['total_income'].isnull()].count()"
   ]
  },
  {
   "cell_type": "code",
   "execution_count": 11,
   "metadata": {},
   "outputs": [
    {
     "data": {
      "text/html": [
       "<div>\n",
       "<style scoped>\n",
       "    .dataframe tbody tr th:only-of-type {\n",
       "        vertical-align: middle;\n",
       "    }\n",
       "\n",
       "    .dataframe tbody tr th {\n",
       "        vertical-align: top;\n",
       "    }\n",
       "\n",
       "    .dataframe thead th {\n",
       "        text-align: right;\n",
       "    }\n",
       "</style>\n",
       "<table border=\"1\" class=\"dataframe\">\n",
       "  <thead>\n",
       "    <tr style=\"text-align: right;\">\n",
       "      <th></th>\n",
       "      <th>children</th>\n",
       "      <th>days_employed</th>\n",
       "      <th>dob_years</th>\n",
       "      <th>education</th>\n",
       "      <th>education_id</th>\n",
       "      <th>family_status</th>\n",
       "      <th>family_status_id</th>\n",
       "      <th>gender</th>\n",
       "      <th>income_type</th>\n",
       "      <th>debt</th>\n",
       "      <th>total_income</th>\n",
       "      <th>purpose</th>\n",
       "    </tr>\n",
       "  </thead>\n",
       "  <tbody>\n",
       "    <tr>\n",
       "      <td>21497</td>\n",
       "      <td>0</td>\n",
       "      <td>NaN</td>\n",
       "      <td>48</td>\n",
       "      <td>ВЫСШЕЕ</td>\n",
       "      <td>0</td>\n",
       "      <td>женат / замужем</td>\n",
       "      <td>0</td>\n",
       "      <td>F</td>\n",
       "      <td>компаньон</td>\n",
       "      <td>0</td>\n",
       "      <td>NaN</td>\n",
       "      <td>строительство недвижимости</td>\n",
       "    </tr>\n",
       "    <tr>\n",
       "      <td>21502</td>\n",
       "      <td>1</td>\n",
       "      <td>NaN</td>\n",
       "      <td>42</td>\n",
       "      <td>среднее</td>\n",
       "      <td>1</td>\n",
       "      <td>женат / замужем</td>\n",
       "      <td>0</td>\n",
       "      <td>F</td>\n",
       "      <td>сотрудник</td>\n",
       "      <td>0</td>\n",
       "      <td>NaN</td>\n",
       "      <td>строительство жилой недвижимости</td>\n",
       "    </tr>\n",
       "    <tr>\n",
       "      <td>21510</td>\n",
       "      <td>2</td>\n",
       "      <td>NaN</td>\n",
       "      <td>28</td>\n",
       "      <td>среднее</td>\n",
       "      <td>1</td>\n",
       "      <td>женат / замужем</td>\n",
       "      <td>0</td>\n",
       "      <td>F</td>\n",
       "      <td>сотрудник</td>\n",
       "      <td>0</td>\n",
       "      <td>NaN</td>\n",
       "      <td>приобретение автомобиля</td>\n",
       "    </tr>\n",
       "  </tbody>\n",
       "</table>\n",
       "</div>"
      ],
      "text/plain": [
       "       children  days_employed  dob_years education  education_id  \\\n",
       "21497         0            NaN         48    ВЫСШЕЕ             0   \n",
       "21502         1            NaN         42   среднее             1   \n",
       "21510         2            NaN         28   среднее             1   \n",
       "\n",
       "         family_status  family_status_id gender income_type  debt  \\\n",
       "21497  женат / замужем                 0      F   компаньон     0   \n",
       "21502  женат / замужем                 0      F   сотрудник     0   \n",
       "21510  женат / замужем                 0      F   сотрудник     0   \n",
       "\n",
       "       total_income                           purpose  \n",
       "21497           NaN        строительство недвижимости  \n",
       "21502           NaN  строительство жилой недвижимости  \n",
       "21510           NaN           приобретение автомобиля  "
      ]
     },
     "execution_count": 11,
     "metadata": {},
     "output_type": "execute_result"
    }
   ],
   "source": [
    "df[df['total_income'].isnull()].tail(3)"
   ]
  },
  {
   "cell_type": "markdown",
   "metadata": {},
   "source": [
    "Мы имеем 2164 пропущенных значения в столбце \"total_income\".  \n",
    "Интересно то, что с каждым таким пропуском ассоциирован пропуск в столбце \"days_employed\".  \n",
    "Очевидная гипотеза о том, что все эти люди безработны опровергается тем, что каждой такой записи соответствует совершенно различный 'income_type' (а не безработный).  \n",
    "Поэтому есть смысл заменить каждое такое значение заменить на медианный доход, посчитаный по каждому \"income_type\""
   ]
  },
  {
   "cell_type": "code",
   "execution_count": 12,
   "metadata": {},
   "outputs": [
    {
     "data": {
      "text/plain": [
       "array(['сотрудник', 'пенсионер', 'компаньон', 'госслужащий',\n",
       "       'безработный', 'предприниматель', 'студент', 'в декрете'],\n",
       "      dtype=object)"
      ]
     },
     "execution_count": 12,
     "metadata": {},
     "output_type": "execute_result"
    }
   ],
   "source": [
    "df['income_type'].unique()"
   ]
  },
  {
   "cell_type": "code",
   "execution_count": 13,
   "metadata": {},
   "outputs": [],
   "source": [
    "for income_type in df['income_type'].unique(): #для каждого типа занятости \n",
    "    med = df.loc[df['income_type'] == income_type, 'total_income'].median() # находим медиану \n",
    "    df.loc[df['income_type'] == income_type, 'total_income'] = df.loc[df['income_type'] == income_type, 'total_income'].fillna(med) # и присваеваем её значение всем строкам с данным типом занятости"
   ]
  },
  {
   "cell_type": "markdown",
   "metadata": {},
   "source": [
    "Проверяем полученную таблицу "
   ]
  },
  {
   "cell_type": "code",
   "execution_count": 14,
   "metadata": {
    "scrolled": true
   },
   "outputs": [
    {
     "data": {
      "text/html": [
       "<div>\n",
       "<style scoped>\n",
       "    .dataframe tbody tr th:only-of-type {\n",
       "        vertical-align: middle;\n",
       "    }\n",
       "\n",
       "    .dataframe tbody tr th {\n",
       "        vertical-align: top;\n",
       "    }\n",
       "\n",
       "    .dataframe thead th {\n",
       "        text-align: right;\n",
       "    }\n",
       "</style>\n",
       "<table border=\"1\" class=\"dataframe\">\n",
       "  <thead>\n",
       "    <tr style=\"text-align: right;\">\n",
       "      <th></th>\n",
       "      <th>children</th>\n",
       "      <th>days_employed</th>\n",
       "      <th>dob_years</th>\n",
       "      <th>education</th>\n",
       "      <th>education_id</th>\n",
       "      <th>family_status</th>\n",
       "      <th>family_status_id</th>\n",
       "      <th>gender</th>\n",
       "      <th>income_type</th>\n",
       "      <th>debt</th>\n",
       "      <th>total_income</th>\n",
       "      <th>purpose</th>\n",
       "    </tr>\n",
       "  </thead>\n",
       "  <tbody>\n",
       "    <tr>\n",
       "      <td>21497</td>\n",
       "      <td>0</td>\n",
       "      <td>NaN</td>\n",
       "      <td>48</td>\n",
       "      <td>ВЫСШЕЕ</td>\n",
       "      <td>0</td>\n",
       "      <td>женат / замужем</td>\n",
       "      <td>0</td>\n",
       "      <td>F</td>\n",
       "      <td>компаньон</td>\n",
       "      <td>0</td>\n",
       "      <td>172357.950966</td>\n",
       "      <td>строительство недвижимости</td>\n",
       "    </tr>\n",
       "    <tr>\n",
       "      <td>21502</td>\n",
       "      <td>1</td>\n",
       "      <td>NaN</td>\n",
       "      <td>42</td>\n",
       "      <td>среднее</td>\n",
       "      <td>1</td>\n",
       "      <td>женат / замужем</td>\n",
       "      <td>0</td>\n",
       "      <td>F</td>\n",
       "      <td>сотрудник</td>\n",
       "      <td>0</td>\n",
       "      <td>142594.396847</td>\n",
       "      <td>строительство жилой недвижимости</td>\n",
       "    </tr>\n",
       "    <tr>\n",
       "      <td>21510</td>\n",
       "      <td>2</td>\n",
       "      <td>NaN</td>\n",
       "      <td>28</td>\n",
       "      <td>среднее</td>\n",
       "      <td>1</td>\n",
       "      <td>женат / замужем</td>\n",
       "      <td>0</td>\n",
       "      <td>F</td>\n",
       "      <td>сотрудник</td>\n",
       "      <td>0</td>\n",
       "      <td>142594.396847</td>\n",
       "      <td>приобретение автомобиля</td>\n",
       "    </tr>\n",
       "  </tbody>\n",
       "</table>\n",
       "</div>"
      ],
      "text/plain": [
       "       children  days_employed  dob_years education  education_id  \\\n",
       "21497         0            NaN         48    ВЫСШЕЕ             0   \n",
       "21502         1            NaN         42   среднее             1   \n",
       "21510         2            NaN         28   среднее             1   \n",
       "\n",
       "         family_status  family_status_id gender income_type  debt  \\\n",
       "21497  женат / замужем                 0      F   компаньон     0   \n",
       "21502  женат / замужем                 0      F   сотрудник     0   \n",
       "21510  женат / замужем                 0      F   сотрудник     0   \n",
       "\n",
       "        total_income                           purpose  \n",
       "21497  172357.950966        строительство недвижимости  \n",
       "21502  142594.396847  строительство жилой недвижимости  \n",
       "21510  142594.396847           приобретение автомобиля  "
      ]
     },
     "execution_count": 14,
     "metadata": {},
     "output_type": "execute_result"
    }
   ],
   "source": [
    "df[df['days_employed'].isnull()].tail(3)"
   ]
  },
  {
   "cell_type": "markdown",
   "metadata": {},
   "source": [
    "Мы избавились от NaN в столбце total_income, однако NaN в days_employed все ещё остается.  \n",
    "Так-как нам не нужно анализировать данные в этом столбце мы могли бы его проигнорировать, однако лучше будет заменить NaN на значение-заглушку. Судя по гистограмме, как заглушки в \"days_employed\" используются числа превышающие 1000 лет. Поэтому поступим так же и используем число 365243 (это ровно 999 лет) "
   ]
  },
  {
   "cell_type": "code",
   "execution_count": 15,
   "metadata": {},
   "outputs": [],
   "source": [
    "df['days_employed'] = df['days_employed'].fillna(365243)"
   ]
  },
  {
   "cell_type": "markdown",
   "metadata": {},
   "source": [
    "---\n",
    "## Комментарий от наставника\n",
    "\n",
    "Пропуски в столбце с доходами обработаны верно. Для столбца со стажем клиентов использованы индикаторные значения. Таким образом мы пометили места пропусков в данном столбце. Все верно.\n",
    "\n",
    "---"
   ]
  },
  {
   "cell_type": "markdown",
   "metadata": {},
   "source": [
    "#### 2.1.3. Пропуск в столбце gender"
   ]
  },
  {
   "cell_type": "markdown",
   "metadata": {},
   "source": [
    "В столбце \"gender\" есть одно значение XNA. Удаление всей строки приведет к потере данных, поэтому можно заменить это единственное значение на наиболее типичное."
   ]
  },
  {
   "cell_type": "code",
   "execution_count": 16,
   "metadata": {},
   "outputs": [],
   "source": [
    "df.loc[df['gender'] == \"XNA\", 'gender'] = \"F\""
   ]
  },
  {
   "cell_type": "code",
   "execution_count": 17,
   "metadata": {},
   "outputs": [
    {
     "data": {
      "text/plain": [
       "F    14237\n",
       "M     7288\n",
       "Name: gender, dtype: int64"
      ]
     },
     "execution_count": 17,
     "metadata": {},
     "output_type": "execute_result"
    }
   ],
   "source": [
    "df['gender'].value_counts()"
   ]
  },
  {
   "cell_type": "markdown",
   "metadata": {},
   "source": [
    "### Вывод"
   ]
  },
  {
   "cell_type": "markdown",
   "metadata": {},
   "source": [
    "Выведем информацию о DataFrame"
   ]
  },
  {
   "cell_type": "code",
   "execution_count": 18,
   "metadata": {},
   "outputs": [
    {
     "name": "stdout",
     "output_type": "stream",
     "text": [
      "<class 'pandas.core.frame.DataFrame'>\n",
      "RangeIndex: 21525 entries, 0 to 21524\n",
      "Data columns (total 12 columns):\n",
      "children            21525 non-null int64\n",
      "days_employed       21525 non-null float64\n",
      "dob_years           21525 non-null int64\n",
      "education           21525 non-null object\n",
      "education_id        21525 non-null int64\n",
      "family_status       21525 non-null object\n",
      "family_status_id    21525 non-null int64\n",
      "gender              21525 non-null object\n",
      "income_type         21525 non-null object\n",
      "debt                21525 non-null int64\n",
      "total_income        21525 non-null float64\n",
      "purpose             21525 non-null object\n",
      "dtypes: float64(2), int64(5), object(5)\n",
      "memory usage: 2.0+ MB\n"
     ]
    }
   ],
   "source": [
    "df.info()"
   ]
  },
  {
   "cell_type": "markdown",
   "metadata": {},
   "source": [
    "Как видно мы избавились от пропусков данных в столбцах days_employed и total_income.   \n",
    "Заглушка в виде нулевого возраста в  dob_years возникла вероятнее всего по причине того, что анкета пропускает симбиты без указанного возраста. Возможно стоит обратить на это внимание и сделать поле возраста обязательным.  \n",
    "Так же необходимо выяснить, как работает столбец days_employed и разобраться с отрицательными значениями и заглушками.\n",
    "Пропущенное значение столбца gender следовало уточнить в других источниках, например у менеджера (или принять что есть не только два гендера), однако для ответа на наши вопросы знать точный пол не обязательно. "
   ]
  },
  {
   "cell_type": "markdown",
   "metadata": {},
   "source": [
    "---\n",
    "## Комментарий от наставника\n",
    "\n",
    "Здорово, что обнаружены и исправлены ошибки в данных\n",
    "\n",
    "---"
   ]
  },
  {
   "cell_type": "markdown",
   "metadata": {},
   "source": [
    "### 2.2 Замена типа данных"
   ]
  },
  {
   "cell_type": "markdown",
   "metadata": {},
   "source": [
    "#### 2.2.1 Замена типов данных в days_employed и total_income"
   ]
  },
  {
   "cell_type": "markdown",
   "metadata": {},
   "source": [
    "Необходимо заменить тип данных в этих столбцах на целочисленный. total_income так или иначе используется в кластеризации и большая точность не должна повлиять на результат, а доли дня в days_employed не имеют вряд ли вообще отражают действительность. Для приведения типа данных к целочисленному используем метод .astype()"
   ]
  },
  {
   "cell_type": "code",
   "execution_count": 19,
   "metadata": {},
   "outputs": [],
   "source": [
    "df['days_employed']=df['days_employed'].astype('int')\n",
    "df['total_income']=df['total_income'].astype('int')"
   ]
  },
  {
   "cell_type": "code",
   "execution_count": 20,
   "metadata": {},
   "outputs": [
    {
     "data": {
      "text/html": [
       "<div>\n",
       "<style scoped>\n",
       "    .dataframe tbody tr th:only-of-type {\n",
       "        vertical-align: middle;\n",
       "    }\n",
       "\n",
       "    .dataframe tbody tr th {\n",
       "        vertical-align: top;\n",
       "    }\n",
       "\n",
       "    .dataframe thead th {\n",
       "        text-align: right;\n",
       "    }\n",
       "</style>\n",
       "<table border=\"1\" class=\"dataframe\">\n",
       "  <thead>\n",
       "    <tr style=\"text-align: right;\">\n",
       "      <th></th>\n",
       "      <th>children</th>\n",
       "      <th>days_employed</th>\n",
       "      <th>dob_years</th>\n",
       "      <th>education</th>\n",
       "      <th>education_id</th>\n",
       "      <th>family_status</th>\n",
       "      <th>family_status_id</th>\n",
       "      <th>gender</th>\n",
       "      <th>income_type</th>\n",
       "      <th>debt</th>\n",
       "      <th>total_income</th>\n",
       "      <th>purpose</th>\n",
       "    </tr>\n",
       "  </thead>\n",
       "  <tbody>\n",
       "    <tr>\n",
       "      <td>0</td>\n",
       "      <td>1</td>\n",
       "      <td>-8437</td>\n",
       "      <td>42</td>\n",
       "      <td>высшее</td>\n",
       "      <td>0</td>\n",
       "      <td>женат / замужем</td>\n",
       "      <td>0</td>\n",
       "      <td>F</td>\n",
       "      <td>сотрудник</td>\n",
       "      <td>0</td>\n",
       "      <td>253875</td>\n",
       "      <td>покупка жилья</td>\n",
       "    </tr>\n",
       "    <tr>\n",
       "      <td>1</td>\n",
       "      <td>1</td>\n",
       "      <td>-4024</td>\n",
       "      <td>36</td>\n",
       "      <td>среднее</td>\n",
       "      <td>1</td>\n",
       "      <td>женат / замужем</td>\n",
       "      <td>0</td>\n",
       "      <td>F</td>\n",
       "      <td>сотрудник</td>\n",
       "      <td>0</td>\n",
       "      <td>112080</td>\n",
       "      <td>приобретение автомобиля</td>\n",
       "    </tr>\n",
       "    <tr>\n",
       "      <td>2</td>\n",
       "      <td>0</td>\n",
       "      <td>-5623</td>\n",
       "      <td>33</td>\n",
       "      <td>Среднее</td>\n",
       "      <td>1</td>\n",
       "      <td>женат / замужем</td>\n",
       "      <td>0</td>\n",
       "      <td>M</td>\n",
       "      <td>сотрудник</td>\n",
       "      <td>0</td>\n",
       "      <td>145885</td>\n",
       "      <td>покупка жилья</td>\n",
       "    </tr>\n",
       "  </tbody>\n",
       "</table>\n",
       "</div>"
      ],
      "text/plain": [
       "   children  days_employed  dob_years education  education_id  \\\n",
       "0         1          -8437         42    высшее             0   \n",
       "1         1          -4024         36   среднее             1   \n",
       "2         0          -5623         33   Среднее             1   \n",
       "\n",
       "     family_status  family_status_id gender income_type  debt  total_income  \\\n",
       "0  женат / замужем                 0      F   сотрудник     0        253875   \n",
       "1  женат / замужем                 0      F   сотрудник     0        112080   \n",
       "2  женат / замужем                 0      M   сотрудник     0        145885   \n",
       "\n",
       "                   purpose  \n",
       "0            покупка жилья  \n",
       "1  приобретение автомобиля  \n",
       "2            покупка жилья  "
      ]
     },
     "execution_count": 20,
     "metadata": {},
     "output_type": "execute_result"
    }
   ],
   "source": [
    "df.head(3)"
   ]
  },
  {
   "cell_type": "markdown",
   "metadata": {},
   "source": [
    "#### 2.2.2 Переименование family_status\n"
   ]
  },
  {
   "cell_type": "markdown",
   "metadata": {},
   "source": [
    "На случай, если кто-то не знакомый с дата фреймом решит поискать в нем тех, кто \"не женат\" и обнаружит что таких нет, заменим \"Не женат\" на \"не женат\""
   ]
  },
  {
   "cell_type": "code",
   "execution_count": 21,
   "metadata": {},
   "outputs": [],
   "source": [
    "df.loc[df['family_status']=='Не женат / не замужем', 'family_status'] = \"не женат / не замужем\""
   ]
  },
  {
   "cell_type": "code",
   "execution_count": 22,
   "metadata": {},
   "outputs": [
    {
     "data": {
      "text/plain": [
       "женат / замужем          12380\n",
       "гражданский брак          4177\n",
       "не женат / не замужем     2813\n",
       "в разводе                 1195\n",
       "вдовец / вдова             960\n",
       "Name: family_status, dtype: int64"
      ]
     },
     "execution_count": 22,
     "metadata": {},
     "output_type": "execute_result"
    }
   ],
   "source": [
    "df['family_status'].value_counts()"
   ]
  },
  {
   "cell_type": "markdown",
   "metadata": {},
   "source": [
    "### Вывод"
   ]
  },
  {
   "cell_type": "markdown",
   "metadata": {},
   "source": [
    "Теперь типы данных соответствуют задачам. Значения total_income и days_employed возможно следовало бы округлить, однако для этого надо узнать как они полученны. "
   ]
  },
  {
   "cell_type": "markdown",
   "metadata": {},
   "source": [
    "---\n",
    "## Комментарий от наставника\n",
    "\n",
    "Исходя из общей информации о таблице мы видим, что два столбца имеют вещественный тип данных, который и надо заменить на целочисленный. Это замена произведена верно. Также хорошо бы освоить метод to_numeric() для будущих работ. \n",
    "\n",
    "---"
   ]
  },
  {
   "cell_type": "markdown",
   "metadata": {},
   "source": [
    "### 2.3 Обработка дубликатов"
   ]
  },
  {
   "cell_type": "markdown",
   "metadata": {},
   "source": [
    "#### 2.3.1 Регистр в столбце education"
   ]
  },
  {
   "cell_type": "markdown",
   "metadata": {},
   "source": [
    "Для начала следует привести строковые значения к нижнему регистру методом str.lower()"
   ]
  },
  {
   "cell_type": "code",
   "execution_count": 23,
   "metadata": {},
   "outputs": [],
   "source": [
    "df['education']=df['education'].str.lower()"
   ]
  },
  {
   "cell_type": "code",
   "execution_count": 24,
   "metadata": {},
   "outputs": [
    {
     "data": {
      "text/plain": [
       "среднее                15233\n",
       "высшее                  5260\n",
       "неоконченное высшее      744\n",
       "начальное                282\n",
       "ученая степень             6\n",
       "Name: education, dtype: int64"
      ]
     },
     "execution_count": 24,
     "metadata": {},
     "output_type": "execute_result"
    }
   ],
   "source": [
    "df['education'].value_counts() "
   ]
  },
  {
   "cell_type": "markdown",
   "metadata": {},
   "source": [
    "#### 2.3.2. Количество детей"
   ]
  },
  {
   "cell_type": "markdown",
   "metadata": {},
   "source": [
    "Проверим значения в колонке children. "
   ]
  },
  {
   "cell_type": "code",
   "execution_count": 25,
   "metadata": {},
   "outputs": [
    {
     "data": {
      "text/plain": [
       " 0     14149\n",
       " 1      4818\n",
       " 2      2055\n",
       " 3       330\n",
       " 20       76\n",
       "-1        47\n",
       " 4        41\n",
       " 5         9\n",
       "Name: children, dtype: int64"
      ]
     },
     "execution_count": 25,
     "metadata": {},
     "output_type": "execute_result"
    }
   ],
   "source": [
    "df['children'].value_counts() "
   ]
  },
  {
   "cell_type": "markdown",
   "metadata": {},
   "source": [
    "Как видно в данных присутствуют артефакты, такие как отрицательное количество детей и заведомо маловероятное значение в 20 детей. Если бы такое значение встретилось в реальных данных его стоило бы проверить, потому что ничего принципиально невозможного в такой ситуации нет. Однако тут такое значение встречается в 76 случаях, что дает оснавание думать, что такое значение являлось ошибкой оператора. Из этого следует, что стоит заменить данные значения на те, что вероятнее всего имелись в виду."
   ]
  },
  {
   "cell_type": "code",
   "execution_count": 26,
   "metadata": {},
   "outputs": [],
   "source": [
    "df.loc[df['children']==20, 'children'] = 2\n",
    "df.loc[df['children']==-1, 'children'] = 1"
   ]
  },
  {
   "cell_type": "code",
   "execution_count": 27,
   "metadata": {},
   "outputs": [
    {
     "data": {
      "text/plain": [
       "0    14149\n",
       "1     4865\n",
       "2     2131\n",
       "3      330\n",
       "4       41\n",
       "5        9\n",
       "Name: children, dtype: int64"
      ]
     },
     "execution_count": 27,
     "metadata": {},
     "output_type": "execute_result"
    }
   ],
   "source": [
    "df['children'].value_counts() "
   ]
  },
  {
   "cell_type": "markdown",
   "metadata": {},
   "source": [
    "#### 2.3.3. Удаление дубликатов"
   ]
  },
  {
   "cell_type": "markdown",
   "metadata": {},
   "source": [
    "После того как строковые значения приведены к единообразию можно заняться удалением дубликатов. Для начала посчитаем количество дубликатов в данных."
   ]
  },
  {
   "cell_type": "code",
   "execution_count": 28,
   "metadata": {},
   "outputs": [
    {
     "data": {
      "text/plain": [
       "72"
      ]
     },
     "execution_count": 28,
     "metadata": {},
     "output_type": "execute_result"
    }
   ],
   "source": [
    "df.duplicated().sum()"
   ]
  },
  {
   "cell_type": "markdown",
   "metadata": {},
   "source": [
    "Удалим дубликаты методом drop_duplicates(), оставляя первый."
   ]
  },
  {
   "cell_type": "code",
   "execution_count": 29,
   "metadata": {},
   "outputs": [],
   "source": [
    "df.drop_duplicates(keep='first',inplace=True)"
   ]
  },
  {
   "cell_type": "code",
   "execution_count": 30,
   "metadata": {},
   "outputs": [
    {
     "data": {
      "text/plain": [
       "0"
      ]
     },
     "execution_count": 30,
     "metadata": {},
     "output_type": "execute_result"
    }
   ],
   "source": [
    "df.duplicated().sum()"
   ]
  },
  {
   "cell_type": "markdown",
   "metadata": {},
   "source": [
    "### Вывод"
   ]
  },
  {
   "cell_type": "markdown",
   "metadata": {},
   "source": [
    "Дубликаты могли возникнуть при загрузке данных из источников в хранилище данных или при ошибках ввода данных (например при загрузке данных из разных источников, если в каждом из них была запись об одном и том же заемщике). Дубликаты, как правило, требуют удаления, которое было произведено. Впрочем бывают случаи, когда дубликаты несут действительную информацию (например если заемщик запросил кредит в двух разных офисах банка, это будет характеризовать Реальные события, а не просто ошибку). "
   ]
  },
  {
   "cell_type": "markdown",
   "metadata": {},
   "source": [
    "---\n",
    "## Комментарий от наставника\n",
    "\n",
    "Дубликаты вызывают смещение финальных результатов, поэтому их и надо удалять. Конечно, в данных нет уникального идентификатора, однако надо уметь удалять дубликаты. Метод drop_duplicates() использован верно.\n",
    "\n",
    "---"
   ]
  },
  {
   "cell_type": "markdown",
   "metadata": {},
   "source": [
    "### 2.4 Лемматизация"
   ]
  },
  {
   "cell_type": "markdown",
   "metadata": {},
   "source": [
    "Для лемматизации столбца purpose используем библиотеку Mystem()"
   ]
  },
  {
   "cell_type": "code",
   "execution_count": 31,
   "metadata": {},
   "outputs": [],
   "source": [
    "from pymystem3 import Mystem\n",
    "m = Mystem()"
   ]
  },
  {
   "cell_type": "markdown",
   "metadata": {},
   "source": [
    "Из анализа уникальных значений столбца purpose видно, что все кредиты можно разделить на 5 категорий: свадьба, недвижимость, жилье, автомобиль и образование.    \n",
    "Напишем функцию, которая будет возвращать значения из этого списка и применим её к столбцу с помощью метода .apply()"
   ]
  },
  {
   "cell_type": "code",
   "execution_count": 32,
   "metadata": {},
   "outputs": [],
   "source": [
    "def purpose_lemma(purpose):\n",
    "    purposes = ['свадьба', 'недвижимость', 'жилье', 'автомобиль', 'образование']\n",
    "    lemmas = m.lemmatize(purpose)\n",
    "    for lemma in lemmas:\n",
    "        if lemma in purposes:\n",
    "            return lemma"
   ]
  },
  {
   "cell_type": "code",
   "execution_count": 33,
   "metadata": {},
   "outputs": [],
   "source": [
    "df['purpose']=df['purpose'].apply(purpose_lemma)"
   ]
  },
  {
   "cell_type": "code",
   "execution_count": 34,
   "metadata": {},
   "outputs": [
    {
     "data": {
      "text/plain": [
       "недвижимость    6351\n",
       "жилье           4460\n",
       "автомобиль      4306\n",
       "образование     4013\n",
       "свадьба         2323\n",
       "Name: purpose, dtype: int64"
      ]
     },
     "execution_count": 34,
     "metadata": {},
     "output_type": "execute_result"
    }
   ],
   "source": [
    "df['purpose'].value_counts()"
   ]
  },
  {
   "cell_type": "markdown",
   "metadata": {},
   "source": [
    "### Вывод"
   ]
  },
  {
   "cell_type": "markdown",
   "metadata": {},
   "source": [
    "Из данных можно сделать вывод что столбец purpose может быть заполнен в анкете в свободной форме, что и приводит к такому разнообразию практически различных по написанию, но одинаковых по смыслу значений. Возможно следовало бы предоставлять клиенту возможность выбрать из основных категорий (тем более что в представленных данных редкие категории не встречаются)."
   ]
  },
  {
   "cell_type": "markdown",
   "metadata": {},
   "source": [
    "---\n",
    "## Комментарий от наставника\n",
    "\n",
    "Все верно, метод lemmatize() использован правильно. Хорошо бы на данном этапе подробно объяснить выбор лемм.\n",
    "\n",
    "---"
   ]
  },
  {
   "cell_type": "markdown",
   "metadata": {},
   "source": [
    "### 2.5 Категоризация данных"
   ]
  },
  {
   "cell_type": "markdown",
   "metadata": {},
   "source": [
    "Данные в некоторых столбцах, которые необходимо исследовать, не дискретные, поэтому для анализа необходимо произвести их категоризацию. "
   ]
  },
  {
   "cell_type": "markdown",
   "metadata": {},
   "source": [
    "#### 2.5.1 Количество детей"
   ]
  },
  {
   "cell_type": "markdown",
   "metadata": {},
   "source": [
    "Данные в этом столбце и так дискретные, но записей, в которых значение количества детей больше трех, не так много, поэтому для целей анализа имеет смысл объеденить их в одну категорию \"многодетные\". При таком количестве запесей оценить влияние конкретно числового количества детей было бы сложно, плюс к этому есть основание полагать, что в реальной жизни вероятность возврата кредита при числе детей более трех меняется незначительно (это доказывается тем, что в россии и большинстве стран многодетные семьи выделяются в отдельную категорию при колиечестве детей именно больше трех).   \n",
    "Напишем функцию, разделяющую количество детей по категориям. В случае если число детей не будет соответствовать предложеным категориям функция выведет строки, содержащие аномальные значения.  "
   ]
  },
  {
   "cell_type": "code",
   "execution_count": 35,
   "metadata": {},
   "outputs": [],
   "source": [
    "def children_category(row):\n",
    "    children = int(row['children'])\n",
    "    try:        \n",
    "        if children >= 3:\n",
    "            return 'многодетные'\n",
    "        elif children == 2:\n",
    "            return 'двое'\n",
    "        elif children == 1:\n",
    "            return 'один'\n",
    "        elif children == 0:\n",
    "            return 'нет детей'\n",
    "        else:\n",
    "            raise Exception(row)\n",
    "    except Exception as inst:\n",
    "        print('Проверить число детей в строке в строке:', inst) # а есть более простые способы вызвать ошибку?      "
   ]
  },
  {
   "cell_type": "code",
   "execution_count": 36,
   "metadata": {},
   "outputs": [],
   "source": [
    "df['children_category']=df.apply(children_category, axis=1)"
   ]
  },
  {
   "cell_type": "markdown",
   "metadata": {},
   "source": [
    "#### 2.5.2 Уровень дохода"
   ]
  },
  {
   "cell_type": "markdown",
   "metadata": {},
   "source": [
    "Для того чтобы категоризировать уровень дохода определим сначала принцип разделения на категории"
   ]
  },
  {
   "cell_type": "code",
   "execution_count": 37,
   "metadata": {},
   "outputs": [
    {
     "data": {
      "text/plain": [
       "max       2.265604e+06\n",
       "min       2.066700e+04\n",
       "mean      1.653206e+05\n",
       "median    1.425940e+05\n",
       "Name: total_income, dtype: float64"
      ]
     },
     "execution_count": 37,
     "metadata": {},
     "output_type": "execute_result"
    }
   ],
   "source": [
    "df['total_income'].agg(['max', 'min', 'mean','median'])"
   ]
  },
  {
   "cell_type": "markdown",
   "metadata": {},
   "source": [
    "Порядок величин данных не предоставляет возможности судить о том, в какой валюте представлен доход (медианная и средняя зарпалта значительно выше данных по России), поэтому нет смысла использовать как корзины для распределения те величины, которые обычно применяются в российской социологической статистике.  \n",
    "Поэтому выведем гистограмму распределения и оценим на ней границы возможных категорий"
   ]
  },
  {
   "cell_type": "code",
   "execution_count": 38,
   "metadata": {},
   "outputs": [
    {
     "data": {
      "text/plain": [
       "(array([1.840e+02, 9.550e+02, 2.008e+03, 2.562e+03, 2.961e+03, 3.593e+03,\n",
       "        2.609e+03, 1.534e+03, 1.167e+03, 9.250e+02, 7.470e+02, 5.520e+02,\n",
       "        3.350e+02, 2.880e+02, 2.290e+02, 1.640e+02, 1.250e+02, 9.400e+01,\n",
       "        8.200e+01, 5.200e+01, 5.100e+01, 4.000e+01, 2.800e+01, 2.700e+01,\n",
       "        1.800e+01, 1.400e+01, 1.000e+01, 1.100e+01, 1.100e+01, 1.400e+01,\n",
       "        1.000e+01, 4.000e+00, 4.000e+00, 1.000e+00, 1.000e+00, 4.000e+00,\n",
       "        2.000e+00, 6.000e+00, 0.000e+00, 2.000e+00, 1.000e+00, 1.000e+00,\n",
       "        1.000e+00, 3.000e+00, 1.000e+00, 1.000e+00, 1.000e+00, 4.000e+00,\n",
       "        1.000e+00, 1.000e+00, 0.000e+00, 1.000e+00, 0.000e+00, 1.000e+00,\n",
       "        1.000e+00, 0.000e+00, 2.000e+00, 0.000e+00, 0.000e+00, 1.000e+00,\n",
       "        0.000e+00, 0.000e+00, 1.000e+00, 0.000e+00, 0.000e+00, 0.000e+00,\n",
       "        0.000e+00, 0.000e+00, 1.000e+00, 0.000e+00, 1.000e+00, 0.000e+00,\n",
       "        0.000e+00, 0.000e+00, 0.000e+00, 3.000e+00, 0.000e+00, 0.000e+00,\n",
       "        0.000e+00, 0.000e+00, 0.000e+00, 0.000e+00, 0.000e+00, 0.000e+00,\n",
       "        0.000e+00, 0.000e+00, 0.000e+00, 0.000e+00, 0.000e+00, 0.000e+00,\n",
       "        0.000e+00, 0.000e+00, 0.000e+00, 0.000e+00, 0.000e+00, 0.000e+00,\n",
       "        0.000e+00, 1.000e+00, 0.000e+00, 1.000e+00]),\n",
       " array([  20667.  ,   43116.37,   65565.74,   88015.11,  110464.48,\n",
       "         132913.85,  155363.22,  177812.59,  200261.96,  222711.33,\n",
       "         245160.7 ,  267610.07,  290059.44,  312508.81,  334958.18,\n",
       "         357407.55,  379856.92,  402306.29,  424755.66,  447205.03,\n",
       "         469654.4 ,  492103.77,  514553.14,  537002.51,  559451.88,\n",
       "         581901.25,  604350.62,  626799.99,  649249.36,  671698.73,\n",
       "         694148.1 ,  716597.47,  739046.84,  761496.21,  783945.58,\n",
       "         806394.95,  828844.32,  851293.69,  873743.06,  896192.43,\n",
       "         918641.8 ,  941091.17,  963540.54,  985989.91, 1008439.28,\n",
       "        1030888.65, 1053338.02, 1075787.39, 1098236.76, 1120686.13,\n",
       "        1143135.5 , 1165584.87, 1188034.24, 1210483.61, 1232932.98,\n",
       "        1255382.35, 1277831.72, 1300281.09, 1322730.46, 1345179.83,\n",
       "        1367629.2 , 1390078.57, 1412527.94, 1434977.31, 1457426.68,\n",
       "        1479876.05, 1502325.42, 1524774.79, 1547224.16, 1569673.53,\n",
       "        1592122.9 , 1614572.27, 1637021.64, 1659471.01, 1681920.38,\n",
       "        1704369.75, 1726819.12, 1749268.49, 1771717.86, 1794167.23,\n",
       "        1816616.6 , 1839065.97, 1861515.34, 1883964.71, 1906414.08,\n",
       "        1928863.45, 1951312.82, 1973762.19, 1996211.56, 2018660.93,\n",
       "        2041110.3 , 2063559.67, 2086009.04, 2108458.41, 2130907.78,\n",
       "        2153357.15, 2175806.52, 2198255.89, 2220705.26, 2243154.63,\n",
       "        2265604.  ]),\n",
       " <a list of 100 Patch objects>)"
      ]
     },
     "execution_count": 38,
     "metadata": {},
     "output_type": "execute_result"
    },
    {
     "data": {
      "image/png": "[encoded data removed]",
      "text/plain": [
       "<Figure size 432x288 with 1 Axes>"
      ]
     },
     "metadata": {
      "needs_background": "light"
     },
     "output_type": "display_data"
    }
   ],
   "source": [
    "plt.hist(df['total_income'], edgecolor = 'k', bins = 100)"
   ]
  },
  {
   "cell_type": "markdown",
   "metadata": {},
   "source": [
    "Видно что у данных очень большой хвост с малой частотой упоминания людей со сверхвысокими доходами.   \n",
    "Предположим, что самым удачным будет следующее распределение\n",
    "+ очень низкий доход от 0 до 50 тысяч\n",
    "+ низкий доход от 50 до 100 тысяч \n",
    "+ средний доход от 100 до 200 тысяч\n",
    "+ высокий доход от 200 до 300 тысяч \n",
    "+ очень высокий доход от 300 тысяч   \n",
    "\n",
    "Напишем функцию для категоризации данных столбца"
   ]
  },
  {
   "cell_type": "code",
   "execution_count": 39,
   "metadata": {},
   "outputs": [],
   "source": [
    "def income_category(income):\n",
    "    try:\n",
    "        if (income >= 0) & (income <= 50000):\n",
    "            return 'очень низкий'\n",
    "        elif (income > 50000) & (income <= 100000):\n",
    "            return 'низкий'\n",
    "        elif (income > 100000) & (income <= 200000):\n",
    "            return 'средний'\n",
    "        elif (income > 200000) & (income <= 300000):\n",
    "            return 'высокий'\n",
    "        elif (income > 300000):\n",
    "            return 'очень высокий'            \n",
    "        else:\n",
    "            raise Exception(income)\n",
    "    except Exception as inst:\n",
    "        print('Неверное значение дохода:', inst)"
   ]
  },
  {
   "cell_type": "code",
   "execution_count": 40,
   "metadata": {},
   "outputs": [],
   "source": [
    "df['income_category']=df['total_income'].apply(income_category)"
   ]
  },
  {
   "cell_type": "markdown",
   "metadata": {},
   "source": [
    "Проверим полученный столбец категорий  "
   ]
  },
  {
   "cell_type": "code",
   "execution_count": 41,
   "metadata": {},
   "outputs": [
    {
     "data": {
      "text/plain": [
       "средний          11923\n",
       "низкий            4091\n",
       "высокий           3584\n",
       "очень высокий     1483\n",
       "очень низкий       372\n",
       "Name: income_category, dtype: int64"
      ]
     },
     "execution_count": 41,
     "metadata": {},
     "output_type": "execute_result"
    }
   ],
   "source": [
    "df['income_category'].value_counts()"
   ]
  },
  {
   "cell_type": "markdown",
   "metadata": {},
   "source": [
    "### Вывод"
   ]
  },
  {
   "cell_type": "markdown",
   "metadata": {},
   "source": [
    "Значения в столбцах children и total_income были категоризированы для облегчения анализа. Для более достоверной категоризации требуется наличае априорных знаний. Так же хорошей идеей была бы категоризация столбца children с использованием данных из столбца family_status. В этом случае можно было бы определить тех людей, которые воспитывают детей в одиночку, и выдвинуть гипотезу о том, как это влияет на возврат кредитов."
   ]
  },
  {
   "cell_type": "markdown",
   "metadata": {},
   "source": [
    "---\n",
    "## Комментарий от наставника\n",
    "\n",
    "Категоризация столбца с доходами произведена верно. Соотношение полученных групп близко к реальной ситуации.\n",
    "\n",
    "---"
   ]
  },
  {
   "cell_type": "markdown",
   "metadata": {},
   "source": [
    "### Шаг 3. Ответьте на вопросы"
   ]
  },
  {
   "cell_type": "markdown",
   "metadata": {},
   "source": [
    "Сначала вычислим средний процени возврата кредитов в предстваленной выборке."
   ]
  },
  {
   "cell_type": "code",
   "execution_count": 42,
   "metadata": {},
   "outputs": [
    {
     "data": {
      "text/plain": [
       "mean         0.081154\n",
       "count    21453.000000\n",
       "Name: debt, dtype: float64"
      ]
     },
     "execution_count": 42,
     "metadata": {},
     "output_type": "execute_result"
    }
   ],
   "source": [
    "df['debt'].agg(['mean','count'])"
   ]
  },
  {
   "cell_type": "code",
   "execution_count": 43,
   "metadata": {},
   "outputs": [
    {
     "data": {
      "text/plain": [
       "1741"
      ]
     },
     "execution_count": 43,
     "metadata": {},
     "output_type": "execute_result"
    }
   ],
   "source": [
    "df[df['debt']==1]['debt'].count()"
   ]
  },
  {
   "cell_type": "markdown",
   "metadata": {},
   "source": [
    "Из 21453 человек у 1741 имеются проблемы с возвратом кредита. Это составляет приблизительно 8,1%. "
   ]
  },
  {
   "cell_type": "markdown",
   "metadata": {},
   "source": [
    "- Есть ли зависимость между наличием детей и возвратом кредита в срок?\n",
    "\n",
    "Маловероятно, что существует линейная корреляция между количеством детей и возвратом кредита, поэтому сделаем вывод на основе сводной таблицы. "
   ]
  },
  {
   "cell_type": "code",
   "execution_count": 44,
   "metadata": {},
   "outputs": [
    {
     "data": {
      "text/html": [
       "<div>\n",
       "<style scoped>\n",
       "    .dataframe tbody tr th:only-of-type {\n",
       "        vertical-align: middle;\n",
       "    }\n",
       "\n",
       "    .dataframe tbody tr th {\n",
       "        vertical-align: top;\n",
       "    }\n",
       "\n",
       "    .dataframe thead th {\n",
       "        text-align: right;\n",
       "    }\n",
       "</style>\n",
       "<table border=\"1\" class=\"dataframe\">\n",
       "  <thead>\n",
       "    <tr style=\"text-align: right;\">\n",
       "      <th></th>\n",
       "      <th>mean</th>\n",
       "      <th>count</th>\n",
       "    </tr>\n",
       "    <tr>\n",
       "      <th>children_category</th>\n",
       "      <th></th>\n",
       "      <th></th>\n",
       "    </tr>\n",
       "  </thead>\n",
       "  <tbody>\n",
       "    <tr>\n",
       "      <td>двое</td>\n",
       "      <td>0.094925</td>\n",
       "      <td>2128</td>\n",
       "    </tr>\n",
       "    <tr>\n",
       "      <td>многодетные</td>\n",
       "      <td>0.081579</td>\n",
       "      <td>380</td>\n",
       "    </tr>\n",
       "    <tr>\n",
       "      <td>нет детей</td>\n",
       "      <td>0.075444</td>\n",
       "      <td>14090</td>\n",
       "    </tr>\n",
       "    <tr>\n",
       "      <td>один</td>\n",
       "      <td>0.091658</td>\n",
       "      <td>4855</td>\n",
       "    </tr>\n",
       "  </tbody>\n",
       "</table>\n",
       "</div>"
      ],
      "text/plain": [
       "                       mean  count\n",
       "children_category                 \n",
       "двое               0.094925   2128\n",
       "многодетные        0.081579    380\n",
       "нет детей          0.075444  14090\n",
       "один               0.091658   4855"
      ]
     },
     "execution_count": 44,
     "metadata": {},
     "output_type": "execute_result"
    }
   ],
   "source": [
    "df.groupby('children_category')['debt'].agg(['mean','count'])"
   ]
  },
  {
   "cell_type": "markdown",
   "metadata": {},
   "source": [
    "### Вывод"
   ]
  },
  {
   "cell_type": "markdown",
   "metadata": {},
   "source": [
    "Семьи с одним или двумя детьмя чаще сталкиваются с проблемой невыплаты кредита чем в среднем среди всех, причем семьи с двумя детьми не могут выплатить кредит еще чаще. А вот семьи совмем без детей не выплачивают кредит всего в 7,5% случаев. При этом процент невыплаты кредитов в многодетных семьях не отличается от среднего.  \n",
    "\n",
    "Можно предположить, что причина кроется в том, что у семей с детьми гораздо чаще встречаются непредвиденные траты (связанные например с болезнью ребенка, сборами в школу и так далее), соответственно семьям без детей гораздо проще планировать бюджет.  \n",
    "Многодетные же семьи начинают чаще возвращать кредит из-за роста возможных рисков, связанных с потерей денег, обрекающих детей на голодное существование, поэтому относятся к кредитам более ответственно. (И, возможно, начинают проще относиться к потребностям детей. Как в анекдоте, если третий ребенок поел из миски кота, то это проблемы кота...)"
   ]
  },
  {
   "cell_type": "markdown",
   "metadata": {},
   "source": [
    "---\n",
    "## Комментарий от наставника\n",
    "\n",
    "Выводы не роптиворечат полученным результатам.\n",
    "\n",
    "---"
   ]
  },
  {
   "cell_type": "markdown",
   "metadata": {},
   "source": [
    "- Есть ли зависимость между семейным положением и возвратом кредита в срок?  \n",
    "\n",
    "Как и в прошлый раз, так как данные являются категориальными проанализируем их с помощью сводной таблицы"
   ]
  },
  {
   "cell_type": "code",
   "execution_count": 45,
   "metadata": {},
   "outputs": [
    {
     "data": {
      "text/html": [
       "<div>\n",
       "<style scoped>\n",
       "    .dataframe tbody tr th:only-of-type {\n",
       "        vertical-align: middle;\n",
       "    }\n",
       "\n",
       "    .dataframe tbody tr th {\n",
       "        vertical-align: top;\n",
       "    }\n",
       "\n",
       "    .dataframe thead th {\n",
       "        text-align: right;\n",
       "    }\n",
       "</style>\n",
       "<table border=\"1\" class=\"dataframe\">\n",
       "  <thead>\n",
       "    <tr style=\"text-align: right;\">\n",
       "      <th></th>\n",
       "      <th>count</th>\n",
       "      <th>mean</th>\n",
       "    </tr>\n",
       "    <tr>\n",
       "      <th>family_status</th>\n",
       "      <th></th>\n",
       "      <th></th>\n",
       "    </tr>\n",
       "  </thead>\n",
       "  <tbody>\n",
       "    <tr>\n",
       "      <td>в разводе</td>\n",
       "      <td>1195</td>\n",
       "      <td>0.071130</td>\n",
       "    </tr>\n",
       "    <tr>\n",
       "      <td>вдовец / вдова</td>\n",
       "      <td>959</td>\n",
       "      <td>0.065693</td>\n",
       "    </tr>\n",
       "    <tr>\n",
       "      <td>гражданский брак</td>\n",
       "      <td>4150</td>\n",
       "      <td>0.093494</td>\n",
       "    </tr>\n",
       "    <tr>\n",
       "      <td>женат / замужем</td>\n",
       "      <td>12339</td>\n",
       "      <td>0.075452</td>\n",
       "    </tr>\n",
       "    <tr>\n",
       "      <td>не женат / не замужем</td>\n",
       "      <td>2810</td>\n",
       "      <td>0.097509</td>\n",
       "    </tr>\n",
       "  </tbody>\n",
       "</table>\n",
       "</div>"
      ],
      "text/plain": [
       "                       count      mean\n",
       "family_status                         \n",
       "в разводе               1195  0.071130\n",
       "вдовец / вдова           959  0.065693\n",
       "гражданский брак        4150  0.093494\n",
       "женат / замужем        12339  0.075452\n",
       "не женат / не замужем   2810  0.097509"
      ]
     },
     "execution_count": 45,
     "metadata": {},
     "output_type": "execute_result"
    }
   ],
   "source": [
    "df.groupby('family_status')['debt'].agg(['count','mean'])"
   ]
  },
  {
   "cell_type": "markdown",
   "metadata": {},
   "source": [
    "### Вывод"
   ]
  },
  {
   "cell_type": "markdown",
   "metadata": {},
   "source": [
    "По данной таблице также можно судить о зависимости возврата кредита от семейного положения. В процентном соотношении полученный результат можно разделить на три группы  \n",
    "+ не женаты и находящиеся в гражданском браке не возвращают кредит примерно в 9,5% случаев, что превышает среднее \n",
    "+ женаты и находящиеся в разводе наоборот возвращают кредит чаще, отказ происходит приблизительно в 7,3%\n",
    "+ наконец вдовцы являются самыми надежными заемщиками и не возвращают кредит приблизительно в 6,5%\n",
    "\n",
    "Предполагается, что эти данные могут быть сильно коррелированы с возрастом. Так, вдовы в среднем вероятнее старше, а не женаты еще не успели вступить в брак. Соответственно возврат кредита в таком случае будет зависеть не столько от семейного положения, скорлько от возраста (а вместе с ним и дохода и общего уровня ответственности) Необходимо проверить не является ли этот столбец избыточным и возможно исключить его из рассмотрения.  "
   ]
  },
  {
   "cell_type": "markdown",
   "metadata": {},
   "source": [
    "- Есть ли зависимость между уровнем дохода и возвратом кредита в срок?  \n",
    "\n",
    "Данные о доходе по большому счету непрерывные, и визуально оценить их можно построив график"
   ]
  },
  {
   "cell_type": "code",
   "execution_count": 46,
   "metadata": {},
   "outputs": [
    {
     "data": {
      "text/plain": [
       "<matplotlib.axes._subplots.AxesSubplot at 0x7f27518fed10>"
      ]
     },
     "execution_count": 46,
     "metadata": {},
     "output_type": "execute_result"
    },
    {
     "data": {
      "image/png": "[encoded data removed]",
      "text/plain": [
       "<Figure size 432x288 with 1 Axes>"
      ]
     },
     "metadata": {
      "needs_background": "light"
     },
     "output_type": "display_data"
    }
   ],
   "source": [
    "df.plot(x='total_income',y='debt',kind='scatter', alpha = 0.1)"
   ]
  },
  {
   "cell_type": "markdown",
   "metadata": {},
   "source": [
    "Как видно из него основные невозвраты кредитов сконцентрированы около людей со средним и ниже доходом, однако встречаются и при сверхвысоких значениях. Однако тем не менее видно, что люди со сверхвысокими доходами кредиты как правило возвращают.   \n",
    "Для лучшей оценки данных по категориям построим сводную таблицу."
   ]
  },
  {
   "cell_type": "code",
   "execution_count": 47,
   "metadata": {},
   "outputs": [
    {
     "data": {
      "text/html": [
       "<div>\n",
       "<style scoped>\n",
       "    .dataframe tbody tr th:only-of-type {\n",
       "        vertical-align: middle;\n",
       "    }\n",
       "\n",
       "    .dataframe tbody tr th {\n",
       "        vertical-align: top;\n",
       "    }\n",
       "\n",
       "    .dataframe thead th {\n",
       "        text-align: right;\n",
       "    }\n",
       "</style>\n",
       "<table border=\"1\" class=\"dataframe\">\n",
       "  <thead>\n",
       "    <tr style=\"text-align: right;\">\n",
       "      <th></th>\n",
       "      <th>count</th>\n",
       "      <th>mean</th>\n",
       "    </tr>\n",
       "    <tr>\n",
       "      <th>income_category</th>\n",
       "      <th></th>\n",
       "      <th></th>\n",
       "    </tr>\n",
       "  </thead>\n",
       "  <tbody>\n",
       "    <tr>\n",
       "      <td>высокий</td>\n",
       "      <td>3584</td>\n",
       "      <td>0.070312</td>\n",
       "    </tr>\n",
       "    <tr>\n",
       "      <td>низкий</td>\n",
       "      <td>4091</td>\n",
       "      <td>0.080909</td>\n",
       "    </tr>\n",
       "    <tr>\n",
       "      <td>очень высокий</td>\n",
       "      <td>1483</td>\n",
       "      <td>0.071477</td>\n",
       "    </tr>\n",
       "    <tr>\n",
       "      <td>очень низкий</td>\n",
       "      <td>372</td>\n",
       "      <td>0.061828</td>\n",
       "    </tr>\n",
       "    <tr>\n",
       "      <td>средний</td>\n",
       "      <td>11923</td>\n",
       "      <td>0.086304</td>\n",
       "    </tr>\n",
       "  </tbody>\n",
       "</table>\n",
       "</div>"
      ],
      "text/plain": [
       "                 count      mean\n",
       "income_category                 \n",
       "высокий           3584  0.070312\n",
       "низкий            4091  0.080909\n",
       "очень высокий     1483  0.071477\n",
       "очень низкий       372  0.061828\n",
       "средний          11923  0.086304"
      ]
     },
     "execution_count": 47,
     "metadata": {},
     "output_type": "execute_result"
    }
   ],
   "source": [
    "df.groupby('income_category')['debt'].agg(['count','mean'])"
   ]
  },
  {
   "cell_type": "markdown",
   "metadata": {},
   "source": [
    "### Вывод"
   ]
  },
  {
   "cell_type": "markdown",
   "metadata": {},
   "source": [
    "Из полученной таблицы видно, что высокий и очень высокий доход действительно снижает риск невыплаты кредита. При таких доходах невыплата кредита вряд ли может быть связана с отсутствием денег, поэтому и встречается реже.   \n",
    "Что интересно, люди с очень низким доходом ещё реже пропускают срок выплаты. Вероятнее всего это связано с тем, что пропустив выплату они рискуют не получить следующий кредит, который необходим им для жизни и потерять источник заработка, поэтому предпочитают не рисковать. "
   ]
  },
  {
   "cell_type": "markdown",
   "metadata": {},
   "source": [
    "- Как разные цели кредита влияют на его возврат в срок?\n",
    "\n",
    "Снова построим сводную таблицу."
   ]
  },
  {
   "cell_type": "code",
   "execution_count": 48,
   "metadata": {},
   "outputs": [
    {
     "data": {
      "text/html": [
       "<div>\n",
       "<style scoped>\n",
       "    .dataframe tbody tr th:only-of-type {\n",
       "        vertical-align: middle;\n",
       "    }\n",
       "\n",
       "    .dataframe tbody tr th {\n",
       "        vertical-align: top;\n",
       "    }\n",
       "\n",
       "    .dataframe thead th {\n",
       "        text-align: right;\n",
       "    }\n",
       "</style>\n",
       "<table border=\"1\" class=\"dataframe\">\n",
       "  <thead>\n",
       "    <tr style=\"text-align: right;\">\n",
       "      <th></th>\n",
       "      <th>count</th>\n",
       "      <th>mean</th>\n",
       "    </tr>\n",
       "    <tr>\n",
       "      <th>purpose</th>\n",
       "      <th></th>\n",
       "      <th></th>\n",
       "    </tr>\n",
       "  </thead>\n",
       "  <tbody>\n",
       "    <tr>\n",
       "      <td>автомобиль</td>\n",
       "      <td>4306</td>\n",
       "      <td>0.093590</td>\n",
       "    </tr>\n",
       "    <tr>\n",
       "      <td>жилье</td>\n",
       "      <td>4460</td>\n",
       "      <td>0.069058</td>\n",
       "    </tr>\n",
       "    <tr>\n",
       "      <td>недвижимость</td>\n",
       "      <td>6351</td>\n",
       "      <td>0.074634</td>\n",
       "    </tr>\n",
       "    <tr>\n",
       "      <td>образование</td>\n",
       "      <td>4013</td>\n",
       "      <td>0.092200</td>\n",
       "    </tr>\n",
       "    <tr>\n",
       "      <td>свадьба</td>\n",
       "      <td>2323</td>\n",
       "      <td>0.080069</td>\n",
       "    </tr>\n",
       "  </tbody>\n",
       "</table>\n",
       "</div>"
      ],
      "text/plain": [
       "              count      mean\n",
       "purpose                      \n",
       "автомобиль     4306  0.093590\n",
       "жилье          4460  0.069058\n",
       "недвижимость   6351  0.074634\n",
       "образование    4013  0.092200\n",
       "свадьба        2323  0.080069"
      ]
     },
     "execution_count": 48,
     "metadata": {},
     "output_type": "execute_result"
    }
   ],
   "source": [
    "df.groupby('purpose')['debt'].agg(['count','mean'])"
   ]
  },
  {
   "cell_type": "markdown",
   "metadata": {},
   "source": [
    "### Вывод"
   ]
  },
  {
   "cell_type": "markdown",
   "metadata": {},
   "source": [
    "Как видно возврат кредита в срок зависит и от цели кредита. Наиболее безопасными для кредитора являются кредиты на недвижимость и, в особенности, на собственное жилье. Это можно объяснить том, что риск потерять такое имущество для людей является очень существенным.\n",
    "Кредиты на свадьбу в целом не так интересны, процент возвратов по ним соовтетствует среднему.  \n",
    "Реже всего возвращают кредиты на автомобили и образование. Образование является ценностью нематериальной и изъятию не подлежит, плюс люди берущие кредит на образование как правило более молоды и не имеют источников стабильного дохода. Причина просрочки автомобильных кредитов не так очевидна и должна быть исследована."
   ]
  },
  {
   "cell_type": "markdown",
   "metadata": {},
   "source": [
    "---\n",
    "## Комментарий от наставника\n",
    "\n",
    "На данном шаге рекомендуется использовать метод сводных таблиц (pivot_table()). Однако он является аналогом метода groupby(). Изучи метод сводных таблиц и применяй его в дальнейших проектах.\n",
    "\n",
    "---"
   ]
  },
  {
   "cell_type": "markdown",
   "metadata": {},
   "source": [
    "### Шаг 4. Общий вывод"
   ]
  },
  {
   "cell_type": "markdown",
   "metadata": {},
   "source": [
    "Была проведена предобработка данных и первичный анализ связи невыплаты кредита с различными показателями. Вероятная причина многих ошибок, встречаемых в данных заключается в том, что первичный сбор данных (скорее всего это анкета) не стандартизирован, и допускает ошибки в введенных значениях. Необходимо обратить на это внимание и контролировать чистоту данных еще до этапа загрузки в хранилище. Это позволяет сэкономить на предобработке.  \n",
    "\n",
    "В ходе анализа было выяснено что возврат кредита зависит от многих факторов, однако вделить из них какой-то, который позволял бы однозначно судить об этом не представляется возможным. Многие из предложенных данных, вероятно, коррелируют с возрастом, и хорошей идеей было бы проверить связь возраста и возврата кредита. Наиболее сильно на вероятность возврата влияет уровень дохода. \n",
    "\n"
   ]
  },
  {
   "cell_type": "markdown",
   "metadata": {},
   "source": [
    "---\n",
    "## Комментарий от наставника\n",
    "\n",
    "Выводы описаны грамотно. Приведены ответы на главные вопросы проекта. В выводах можно приводить полученные ранее значения. Также можно расписать все, что было сделано и какими методами. \n",
    "\n",
    "---"
   ]
  },
  {
   "cell_type": "markdown",
   "metadata": {},
   "source": [
    "## Комментарий от наставника\n",
    "\n",
    "- В начале работы следует описывать данные, с которыми работаешь;\n",
    "- Изучи метод сводных таблиц и применяй его в работах.\n",
    "\n",
    "Ты проделал большую работу, молодец! Продолжай в том же духе :)\n",
    "\n",
    "-----"
   ]
  },
  {
   "cell_type": "markdown",
   "metadata": {},
   "source": [
    "### Чек-лист готовности проекта\n",
    "\n",
    "Поставьте 'x' в выполненных пунктах. Далее нажмите Shift+Enter."
   ]
  },
  {
   "cell_type": "markdown",
   "metadata": {},
   "source": [
    "- [x]  открыт файл;\n",
    "- [x]  файл изучен;\n",
    "- [x]  определены пропущенные значения;\n",
    "- [x]  заполнены пропущенные значения;\n",
    "- [x]  есть пояснение какие пропущенные значения обнаружены;\n",
    "- [x]  описаны возможные причины появления пропусков в данных;\n",
    "- [x]  объяснено по какому принципу заполнены пропуски;\n",
    "- [x]  заменен вещественный тип данных на целочисленный;\n",
    "- [x]  есть пояснение какой метод используется для изменения типа данных и почему;\n",
    "- [x]  удалены дубликаты;\n",
    "- [x]  есть пояснение какой метод используется для поиска и удаления дубликатов;\n",
    "- [x]  описаны возможные причины появления дубликатов в данных;\n",
    "- [x]  выделены леммы в значениях столбца с целями получения кредита;\n",
    "- [x]  описан процесс лемматизации;\n",
    "- [x]  данные категоризированы;\n",
    "- [x]  есть объяснение принципа категоризации данных;\n",
    "- [x]  есть ответ на вопрос \"Есть ли зависимость между наличием детей и возвратом кредита в срок?\";\n",
    "- [x]  есть ответ на вопрос \"Есть ли зависимость между семейным положением и возвратом кредита в срок?\";\n",
    "- [x]  есть ответ на вопрос \"Есть ли зависимость между уровнем дохода и возвратом кредита в срок?\";\n",
    "- [x]  есть ответ на вопрос \"Как разные цели кредита влияют на его возврат в срок?\";\n",
    "- [x]  в каждом этапе есть выводы;\n",
    "- [x]  есть общий вывод."
   ]
  },
  {
   "cell_type": "code",
   "execution_count": null,
   "metadata": {},
   "outputs": [],
   "source": []
  }
 ],
 "metadata": {
  "kernelspec": {
   "display_name": "Python 3",
   "language": "python",
   "name": "python3"
  },
  "language_info": {
   "codemirror_mode": {
    "name": "ipython",
    "version": 3
   },
   "file_extension": ".py",
   "mimetype": "text/x-python",
   "name": "python",
   "nbconvert_exporter": "python",
   "pygments_lexer": "ipython3",
   "version": "3.6.5"
  }
 },
 "nbformat": 4,
 "nbformat_minor": 2
}
