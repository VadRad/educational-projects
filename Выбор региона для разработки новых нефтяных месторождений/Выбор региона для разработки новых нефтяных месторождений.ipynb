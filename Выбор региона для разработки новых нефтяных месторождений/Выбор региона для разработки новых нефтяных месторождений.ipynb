{
 "cells": [
  {
   "cell_type": "markdown",
   "metadata": {},
   "source": [
    "# Описание проекта"
   ]
  },
  {
   "cell_type": "markdown",
   "metadata": {},
   "source": [
    "Решить в каком регионе добывать нефть. Построить модель машинного обучения, которая поможет определить регион, где добыча принесет наибольшую прибыль с наименьшим риском убытков."
   ]
  },
  {
   "cell_type": "markdown",
   "metadata": {},
   "source": [
    "# 1. Загрузка и подготовка данных"
   ]
  },
  {
   "cell_type": "markdown",
   "metadata": {},
   "source": [
    "Загрузим необходимые библиотеки"
   ]
  },
  {
   "cell_type": "code",
   "execution_count": 1,
   "metadata": {},
   "outputs": [],
   "source": [
    "import pandas as pd\n",
    "import numpy as np\n",
    "import seaborn as sns\n",
    "\n",
    "from sklearn.model_selection import train_test_split\n",
    "from sklearn.linear_model import LinearRegression\n",
    "from sklearn.preprocessing import StandardScaler\n",
    "from sklearn.metrics import mean_squared_error"
   ]
  },
  {
   "cell_type": "markdown",
   "metadata": {},
   "source": [
    "... и откроем файлы с данными опробоавния по каждому региону. "
   ]
  },
  {
   "cell_type": "code",
   "execution_count": 2,
   "metadata": {},
   "outputs": [],
   "source": [
    "df_region0 = pd.read_csv('/datasets/geo_data_0.csv')\n",
    "df_region1 = pd.read_csv('/datasets/geo_data_1.csv')\n",
    "df_region2 = pd.read_csv('/datasets/geo_data_2.csv')"
   ]
  },
  {
   "cell_type": "code",
   "execution_count": 3,
   "metadata": {},
   "outputs": [
    {
     "data": {
      "text/html": [
       "<div>\n",
       "<style scoped>\n",
       "    .dataframe tbody tr th:only-of-type {\n",
       "        vertical-align: middle;\n",
       "    }\n",
       "\n",
       "    .dataframe tbody tr th {\n",
       "        vertical-align: top;\n",
       "    }\n",
       "\n",
       "    .dataframe thead th {\n",
       "        text-align: right;\n",
       "    }\n",
       "</style>\n",
       "<table border=\"1\" class=\"dataframe\">\n",
       "  <thead>\n",
       "    <tr style=\"text-align: right;\">\n",
       "      <th></th>\n",
       "      <th>id</th>\n",
       "      <th>f0</th>\n",
       "      <th>f1</th>\n",
       "      <th>f2</th>\n",
       "      <th>product</th>\n",
       "    </tr>\n",
       "  </thead>\n",
       "  <tbody>\n",
       "    <tr>\n",
       "      <td>0</td>\n",
       "      <td>txEyH</td>\n",
       "      <td>0.705745</td>\n",
       "      <td>-0.497823</td>\n",
       "      <td>1.221170</td>\n",
       "      <td>105.280062</td>\n",
       "    </tr>\n",
       "    <tr>\n",
       "      <td>1</td>\n",
       "      <td>2acmU</td>\n",
       "      <td>1.334711</td>\n",
       "      <td>-0.340164</td>\n",
       "      <td>4.365080</td>\n",
       "      <td>73.037750</td>\n",
       "    </tr>\n",
       "    <tr>\n",
       "      <td>2</td>\n",
       "      <td>409Wp</td>\n",
       "      <td>1.022732</td>\n",
       "      <td>0.151990</td>\n",
       "      <td>1.419926</td>\n",
       "      <td>85.265647</td>\n",
       "    </tr>\n",
       "    <tr>\n",
       "      <td>3</td>\n",
       "      <td>iJLyR</td>\n",
       "      <td>-0.032172</td>\n",
       "      <td>0.139033</td>\n",
       "      <td>2.978566</td>\n",
       "      <td>168.620776</td>\n",
       "    </tr>\n",
       "    <tr>\n",
       "      <td>4</td>\n",
       "      <td>Xdl7t</td>\n",
       "      <td>1.988431</td>\n",
       "      <td>0.155413</td>\n",
       "      <td>4.751769</td>\n",
       "      <td>154.036647</td>\n",
       "    </tr>\n",
       "  </tbody>\n",
       "</table>\n",
       "</div>"
      ],
      "text/plain": [
       "      id        f0        f1        f2     product\n",
       "0  txEyH  0.705745 -0.497823  1.221170  105.280062\n",
       "1  2acmU  1.334711 -0.340164  4.365080   73.037750\n",
       "2  409Wp  1.022732  0.151990  1.419926   85.265647\n",
       "3  iJLyR -0.032172  0.139033  2.978566  168.620776\n",
       "4  Xdl7t  1.988431  0.155413  4.751769  154.036647"
      ]
     },
     "execution_count": 3,
     "metadata": {},
     "output_type": "execute_result"
    }
   ],
   "source": [
    "df_region0.head()\n",
    "#df_region1.head()\n",
    "#df_region2.head()"
   ]
  },
  {
   "cell_type": "code",
   "execution_count": 4,
   "metadata": {},
   "outputs": [
    {
     "name": "stdout",
     "output_type": "stream",
     "text": [
      "<class 'pandas.core.frame.DataFrame'>\n",
      "RangeIndex: 100000 entries, 0 to 99999\n",
      "Data columns (total 5 columns):\n",
      "id         100000 non-null object\n",
      "f0         100000 non-null float64\n",
      "f1         100000 non-null float64\n",
      "f2         100000 non-null float64\n",
      "product    100000 non-null float64\n",
      "dtypes: float64(4), object(1)\n",
      "memory usage: 3.8+ MB\n"
     ]
    }
   ],
   "source": [
    "# df_region0.info()\n",
    "df_region1.info()\n",
    "# df_region2.info()"
   ]
  },
  {
   "cell_type": "markdown",
   "metadata": {},
   "source": [
    "Для каждого региона присутствует 100000 записей с данными опробования скважин. В столбцах присутствует id каждой скважины, три вещественных параметра и итоговое значение объема запасов. "
   ]
  },
  {
   "cell_type": "markdown",
   "metadata": {},
   "source": [
    "Интересно заметить, что в каждом регионе некоторые значения id повторяются, например так:"
   ]
  },
  {
   "cell_type": "code",
   "execution_count": 5,
   "metadata": {},
   "outputs": [
    {
     "data": {
      "text/html": [
       "<div>\n",
       "<style scoped>\n",
       "    .dataframe tbody tr th:only-of-type {\n",
       "        vertical-align: middle;\n",
       "    }\n",
       "\n",
       "    .dataframe tbody tr th {\n",
       "        vertical-align: top;\n",
       "    }\n",
       "\n",
       "    .dataframe thead th {\n",
       "        text-align: right;\n",
       "    }\n",
       "</style>\n",
       "<table border=\"1\" class=\"dataframe\">\n",
       "  <thead>\n",
       "    <tr style=\"text-align: right;\">\n",
       "      <th></th>\n",
       "      <th>id</th>\n",
       "      <th>f0</th>\n",
       "      <th>f1</th>\n",
       "      <th>f2</th>\n",
       "      <th>product</th>\n",
       "    </tr>\n",
       "  </thead>\n",
       "  <tbody>\n",
       "    <tr>\n",
       "      <td>11449</td>\n",
       "      <td>VF7Jo</td>\n",
       "      <td>2.122656</td>\n",
       "      <td>-0.858275</td>\n",
       "      <td>5.746001</td>\n",
       "      <td>181.716817</td>\n",
       "    </tr>\n",
       "    <tr>\n",
       "      <td>49564</td>\n",
       "      <td>VF7Jo</td>\n",
       "      <td>-0.883115</td>\n",
       "      <td>0.560537</td>\n",
       "      <td>0.723601</td>\n",
       "      <td>136.233420</td>\n",
       "    </tr>\n",
       "  </tbody>\n",
       "</table>\n",
       "</div>"
      ],
      "text/plain": [
       "          id        f0        f1        f2     product\n",
       "11449  VF7Jo  2.122656 -0.858275  5.746001  181.716817\n",
       "49564  VF7Jo -0.883115  0.560537  0.723601  136.233420"
      ]
     },
     "execution_count": 5,
     "metadata": {},
     "output_type": "execute_result"
    }
   ],
   "source": [
    "df_region2[df_region2['id']=='VF7Jo']"
   ]
  },
  {
   "cell_type": "markdown",
   "metadata": {},
   "source": [
    "При этом все остальные параетры различаются значительно, так что вряд ли это можно списать на повторные измерения по одной и той же скважине. Скорее всего тут есть ошибка в самом id. В любом случае оно не играет роли в создании модели и дальнейших рассчетах, так что эти столбцы необходимо удалить."
   ]
  },
  {
   "cell_type": "code",
   "execution_count": 6,
   "metadata": {},
   "outputs": [],
   "source": [
    "df_region0.drop('id', axis=1, inplace=True)\n",
    "df_region1.drop('id', axis=1, inplace=True)\n",
    "df_region2.drop('id', axis=1, inplace=True)"
   ]
  },
  {
   "cell_type": "markdown",
   "metadata": {},
   "source": [
    "## Комментарий наставника\n",
    "<span style=\"color:green\">Согласен, решение верное.</span>"
   ]
  },
  {
   "cell_type": "markdown",
   "metadata": {},
   "source": [
    "Распределение целевого признака по регионам выглядит... не слишком нормально. Особенно для 1 региона."
   ]
  },
  {
   "cell_type": "code",
   "execution_count": 7,
   "metadata": {},
   "outputs": [
    {
     "data": {
      "image/png": "[encoded data removed]",
      "text/plain": [
       "<Figure size 432x288 with 1 Axes>"
      ]
     },
     "metadata": {
      "needs_background": "light"
     },
     "output_type": "display_data"
    }
   ],
   "source": [
    "sns.distplot(df_region0['product']);\n",
    "sns.distplot(df_region1['product']);\n",
    "sns.distplot(df_region2['product']);"
   ]
  },
  {
   "cell_type": "markdown",
   "metadata": {},
   "source": [
    "### Вывод"
   ]
  },
  {
   "cell_type": "markdown",
   "metadata": {},
   "source": [
    "Данные и необходимые библиотеки загружены, пропусков в данных не наблюдается. Столбец с id скважины исключен из рассмотрения. "
   ]
  },
  {
   "cell_type": "markdown",
   "metadata": {},
   "source": [
    "# 2. Обучение и проверка модели"
   ]
  },
  {
   "cell_type": "markdown",
   "metadata": {},
   "source": [
    "Обучим модели для каждого региона в отдельности. "
   ]
  },
  {
   "cell_type": "markdown",
   "metadata": {},
   "source": [
    "**0 регион**"
   ]
  },
  {
   "cell_type": "markdown",
   "metadata": {},
   "source": [
    "В данной работе мы используем линейную регрессию."
   ]
  },
  {
   "cell_type": "markdown",
   "metadata": {},
   "source": [
    "Напишем функцию, разделяющую датасет на тренировочную и валидационную часть в соотношении 75:25, обущающую линейную регрессию на тренировочной части, предсказывающую значеня по валидационной, и выводящую на экран средний запас предсказанного сырья и RMSE модели. При этом сохраним в переменные предсказания и правильные ответы на валидационной выборке"
   ]
  },
  {
   "cell_type": "code",
   "execution_count": 8,
   "metadata": {},
   "outputs": [],
   "source": [
    "def RegionMeanResources(df_region):\n",
    "    \n",
    "    region_features = df_region.drop('product', axis=1)\n",
    "    region_targets = df_region['product']\n",
    "    \n",
    "    region_features_train, region_features_valid, region_targets_train, region_targets_valid = (\n",
    "    train_test_split(region_features, region_targets, test_size=0.25, random_state=42))\n",
    "    \n",
    "    model = LinearRegression()\n",
    "    model.fit(region_features_train, region_targets_train)\n",
    "    \n",
    "    predictions_reg = model.predict(region_features_valid)\n",
    "    print(\"Средний запас предсказанного сырья:\", predictions_reg.mean())\n",
    "    print(\"RMSE модели:\", mean_squared_error(region_targets_valid, predictions_reg)**0.5)\n",
    "    return region_targets_valid, predictions_reg"
   ]
  },
  {
   "cell_type": "code",
   "execution_count": 9,
   "metadata": {},
   "outputs": [
    {
     "name": "stdout",
     "output_type": "stream",
     "text": [
      "Средний запас предсказанного сырья: 92.39879990657768\n",
      "RMSE модели: 37.75660035026169\n"
     ]
    }
   ],
   "source": [
    "region0_true, region0_pred = RegionMeanResources(df_region0)"
   ]
  },
  {
   "cell_type": "markdown",
   "metadata": {},
   "source": [
    "**1 регион**"
   ]
  },
  {
   "cell_type": "code",
   "execution_count": 11,
   "metadata": {},
   "outputs": [
    {
     "name": "stdout",
     "output_type": "stream",
     "text": [
      "Средний запас предсказанного сырья: 68.71287803913764\n",
      "RMSE модели: 0.8902801001028828\n"
     ]
    }
   ],
   "source": [
    "region1_true, region1_pred = RegionMeanResources(df_region1)"
   ]
  },
  {
   "cell_type": "markdown",
   "metadata": {},
   "source": [
    "**2 регион**"
   ]
  },
  {
   "cell_type": "code",
   "execution_count": 12,
   "metadata": {},
   "outputs": [
    {
     "name": "stdout",
     "output_type": "stream",
     "text": [
      "Средний запас предсказанного сырья: 94.77102387765939\n",
      "RMSE модели: 40.145872311342174\n"
     ]
    }
   ],
   "source": [
    "region2_true, region2_pred = RegionMeanResources(df_region2)"
   ]
  },
  {
   "cell_type": "markdown",
   "metadata": {},
   "source": [
    "### Вывод"
   ]
  },
  {
   "cell_type": "markdown",
   "metadata": {},
   "source": [
    "Средний запас предсказанного сырья в первом регионе значительно меньше чем в нулевом и в первом, однако величина ошибки значений при этом значительно меньше. (лично я нахожу это странным, ведь если смотреть на график распределения разброс у 1 региона долже быть как раз таки значительным, ведь там присутствует множество скважин вообще без нефти, и множество с большими запасами, при том что в остальных регионах они распределены практически нормально)"
   ]
  },
  {
   "cell_type": "markdown",
   "metadata": {},
   "source": [
    "# 3. Подготовка к расчёту прибыли"
   ]
  },
  {
   "cell_type": "markdown",
   "metadata": {},
   "source": [
    "Сохраним необходимые для рассчета параметры в соответствующих переменных."
   ]
  },
  {
   "cell_type": "code",
   "execution_count": 13,
   "metadata": {},
   "outputs": [],
   "source": [
    "budget = 10000000 # бюджет на разработку тыс.руб\n",
    "income = 450 # доход с единицы продукта тыс.руб\n",
    "borehole_res = 500 # количество исследуемых скважин\n",
    "borehole_cnt = 200 # количество выбираемых скважин"
   ]
  },
  {
   "cell_type": "markdown",
   "metadata": {},
   "source": [
    "Достаточный объём сырья для безубыточной разработки:"
   ]
  },
  {
   "cell_type": "code",
   "execution_count": 14,
   "metadata": {},
   "outputs": [],
   "source": [
    "sufficient_volume = budget / (income * borehole_cnt)"
   ]
  },
  {
   "cell_type": "code",
   "execution_count": 15,
   "metadata": {},
   "outputs": [
    {
     "data": {
      "text/plain": [
       "111.11111111111111"
      ]
     },
     "execution_count": 15,
     "metadata": {},
     "output_type": "execute_result"
    }
   ],
   "source": [
    "sufficient_volume"
   ]
  },
  {
   "cell_type": "markdown",
   "metadata": {},
   "source": [
    "### Вывод"
   ]
  },
  {
   "cell_type": "markdown",
   "metadata": {},
   "source": [
    "Для безубыточной добычи необходимо чтобы в среднем в каждой скважине находилось 111.1 тысяч баррелей нефти. Эта величина больше, чем среднее количество нефти в скважинах по любому из регионов. Поэтому необходимо внимательно отнестись к выбору лучших скважин для разработки."
   ]
  },
  {
   "cell_type": "markdown",
   "metadata": {},
   "source": [
    "# 4. Расчёт прибыли и рисков "
   ]
  },
  {
   "cell_type": "markdown",
   "metadata": {},
   "source": [
    "Напишем функцию для определения прибыли, в которой отсортируем исследованые скважины по убыванию объемов запасов и выдберем заданное количество скважин для рассчета. "
   ]
  },
  {
   "cell_type": "code",
   "execution_count": 16,
   "metadata": {},
   "outputs": [],
   "source": [
    "def Revenue(predict, true, count, income):\n",
    "    predict_sorted = predict.sort_values(ascending=False)[:count].index\n",
    "    selected_true = true[list(set(predict_sorted))]\n",
    "    return income * selected_true.sum()"
   ]
  },
  {
   "cell_type": "code",
   "execution_count": 25,
   "metadata": {},
   "outputs": [
    {
     "data": {
      "text/plain": [
       "9218     126.036168\n",
       "19461    126.700331\n",
       "6149      65.416249\n",
       "519      176.668233\n",
       "21516    131.175286\n",
       "            ...    \n",
       "11249    153.314643\n",
       "4086      72.888348\n",
       "4601     159.783653\n",
       "12282    151.889357\n",
       "3071     139.562000\n",
       "Name: product, Length: 200, dtype: float64"
      ]
     },
     "execution_count": 25,
     "metadata": {},
     "output_type": "execute_result"
    }
   ],
   "source": [
    "test_pred = pd.Series(region0_pred)\n",
    "test_true = pd.Series(region0_true).reset_index(drop=True)\n",
    "\n",
    "test_pred_sample = test_pred.sample(n=borehole_res, replace=True, random_state=12345)\n",
    "test_true_sample = test_true[test_pred_sample.index]\n",
    "\n",
    "predict_sorted = test_pred_sample.sort_values(ascending=False)[:200].index\n",
    "\n",
    "selected_true = test_true_sample[list(set(predict_sorted))]\n",
    "selected_true\n"
   ]
  },
  {
   "cell_type": "code",
   "execution_count": 26,
   "metadata": {},
   "outputs": [
    {
     "data": {
      "text/plain": [
       "17668    123.665790\n",
       "6823     154.105092\n",
       "15568    156.667454\n",
       "4174     126.960826\n",
       "519      176.668233\n",
       "            ...    \n",
       "1682      34.260434\n",
       "11360     70.944615\n",
       "22668     84.011794\n",
       "21567    123.479169\n",
       "18825     50.690122\n",
       "Name: product, Length: 200, dtype: float64"
      ]
     },
     "execution_count": 26,
     "metadata": {},
     "output_type": "execute_result"
    }
   ],
   "source": [
    "selected_true = test_true_sample.loc[predict_sorted][:200]\n",
    "selected_true"
   ]
  },
  {
   "cell_type": "markdown",
   "metadata": {},
   "source": [
    "Определять доверительный интервал и риск убытков будет с помощью bootstrap'a. Напишем для этого функцию. Из всех предсказанных значений запасов скважин мы 1000 раз выберем по 500 исследуемых, из которых выделим 200 с наибольшими запасами, по которым в итоге посчитаем прибыль и доверительный интервал. Так же вероятность убытков будет показывать 2.5% квантиль. Если его значение будет меньше 0 - значит риск убытков велик, если же больше - значит риск получить убытки меньше 2.5%"
   ]
  },
  {
   "cell_type": "code",
   "execution_count": 19,
   "metadata": {},
   "outputs": [],
   "source": [
    "def Bootstrap(predict, true, borehole_res, borehole_cnt, income, budget):\n",
    "    state = np.random.RandomState(12345)\n",
    "    predict = pd.Series(predict)\n",
    "    true = pd.Series(true).reset_index(drop=True)\n",
    "    values = []\n",
    "    for i in range(1000):\n",
    "        predict_subsample = predict.sample(n=borehole_res, replace=True, random_state=state)\n",
    "        true_subsample = true[predict_subsample.index]\n",
    "        values.append(Revenue(predict_subsample, true_subsample, borehole_cnt, income))\n",
    "    values = pd.Series(values) - budget\n",
    "    print('Средняя прибыль:', values.mean())\n",
    "    print('95% доверительный интервал для прибыли: [{}, {}]'.format(values.quantile(0.025), values.quantile(0.975)))\n",
    "    print('Вероятность убытков:', (values<=0).mean())"
   ]
  },
  {
   "cell_type": "markdown",
   "metadata": {},
   "source": [
    "Выполним рассчет прибыли для каждого региона."
   ]
  },
  {
   "cell_type": "markdown",
   "metadata": {},
   "source": [
    "**0 регион**"
   ]
  },
  {
   "cell_type": "code",
   "execution_count": 20,
   "metadata": {},
   "outputs": [
    {
     "name": "stdout",
     "output_type": "stream",
     "text": [
      "Средняя прибыль: 406924.99168124556\n",
      "95% доверительный интервал для прибыли: [-117742.13649486912, 911737.0507514038]\n",
      "Вероятность убытков: 0.067\n"
     ]
    }
   ],
   "source": [
    "Bootstrap(region0_pred, region0_true, borehole_res, borehole_cnt, income, budget)"
   ]
  },
  {
   "cell_type": "markdown",
   "metadata": {},
   "source": [
    "**1 регион**"
   ]
  },
  {
   "cell_type": "code",
   "execution_count": 21,
   "metadata": {},
   "outputs": [
    {
     "name": "stdout",
     "output_type": "stream",
     "text": [
      "Средняя прибыль: 433149.2850044205\n",
      "95% доверительный интервал для прибыли: [16846.174932430076, 815972.5262857486]\n",
      "Вероятность убытков: 0.019\n"
     ]
    }
   ],
   "source": [
    "Bootstrap(region1_pred, region1_true, borehole_res, borehole_cnt, income, budget)"
   ]
  },
  {
   "cell_type": "markdown",
   "metadata": {},
   "source": [
    "**2 регион**"
   ]
  },
  {
   "cell_type": "code",
   "execution_count": 22,
   "metadata": {},
   "outputs": [
    {
     "name": "stdout",
     "output_type": "stream",
     "text": [
      "Средняя прибыль: 377557.88467178284\n",
      "95% доверительный интервал для прибыли: [-170780.41770572757, 901772.1313864449]\n",
      "Вероятность убытков: 0.074\n"
     ]
    }
   ],
   "source": [
    "Bootstrap(region2_pred, region2_true, borehole_res, borehole_cnt, income, budget)"
   ]
  },
  {
   "cell_type": "markdown",
   "metadata": {},
   "source": [
    "### Вывод"
   ]
  },
  {
   "cell_type": "markdown",
   "metadata": {},
   "source": [
    "По результатам бутстрепа видно что регионы значительно отличаются. 0 и 2 регион мы отбрасываем из рассмотрения, так как вероятность убытков в них превышает 2,5%. У 1 региона средняя прибыль больше чем в остальных, однако верхняя граница доверительного интервала возможной прибыли меньше. В остальных регионах высока вероятность получить значительно меньшую прибыль. У второго региона средняя прибыль меньше остальных, и при этом самый большой риск, 7,4%. \n",
    "\n",
    "Имеет смысл предложить для разработки 1 регион. Он имеет наибольшую среднюю прибыль и вероятность убытков в нем при этом достаточно мала."
   ]
  },
  {
   "cell_type": "markdown",
   "metadata": {},
   "source": [
    "# Итоговый вывод"
   ]
  },
  {
   "cell_type": "markdown",
   "metadata": {},
   "source": [
    "Был произведен анализ предложеных регионов месторождений с использованием техники bootstrap. В качестве региона для разработки предлагается выбрать 1 регион. Средняя ожидаемая прибыль в нем достаточно высока и равна 433149 тысячам рублей. 95% доверительный интеравал [16846 тыс.руб., 815972 тыс.руб.] Вероятность убытков 1.9%"
   ]
  }
 ],
 "metadata": {
  "kernelspec": {
   "display_name": "Python 3",
   "language": "python",
   "name": "python3"
  },
  "language_info": {
   "codemirror_mode": {
    "name": "ipython",
    "version": 3
   },
   "file_extension": ".py",
   "mimetype": "text/x-python",
   "name": "python",
   "nbconvert_exporter": "python",
   "pygments_lexer": "ipython3",
   "version": "3.6.5"
  }
 },
 "nbformat": 4,
 "nbformat_minor": 2
}
